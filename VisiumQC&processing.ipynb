{
 "cells": [
  {
   "cell_type": "markdown",
   "id": "ab856f4b-7220-4e53-8871-5a1773e1565c",
   "metadata": {},
   "source": [
    "#visium processing"
   ]
  },
  {
   "cell_type": "code",
   "execution_count": null,
   "id": "d1f53982-2c4f-4897-a188-ab07965530ad",
   "metadata": {
    "scrolled": true
   },
   "outputs": [],
   "source": [
    "library(Seurat)\n",
    "library(ggplot2)\n",
    "library(patchwork)\n",
    "library(dplyr)"
   ]
  },
  {
   "cell_type": "code",
   "execution_count": null,
   "id": "9664ea49-57b9-41bd-af38-e8d9e283eb9f",
   "metadata": {},
   "outputs": [],
   "source": [
    "packageVersion(\"Seurat\") "
   ]
  },
  {
   "cell_type": "code",
   "execution_count": null,
   "id": "7f81ef7b-f75b-4d17-bedd-33a8d1bfd334",
   "metadata": {},
   "outputs": [],
   "source": [
    "visium_dir <- file.path(\"/data/User/revolvefire/projects/3.PPP_231118/231128_PPP/HN00218008_auto_result_10X/S24-6440/\")\n",
    "\n",
    "image_dir <- file.path(visium_dir, \"binned_outputs/square_008um/spatial/\")\n",
    "image_hires <- Read10X_Image(\n",
    "    image_dir,\n",
    "    image.name = \"tissue_hires_image.png\",\n",
    "   \n",
    "    assay = \"Spatial.008um\", slice=\"slice1.008\", filter.matrix=TRUE\n",
    ")"
   ]
  },
  {
   "cell_type": "code",
   "execution_count": null,
   "id": "906604ef-0680-4433-9c20-964a7b3d8188",
   "metadata": {},
   "outputs": [],
   "source": [
    "image_hires"
   ]
  },
  {
   "cell_type": "code",
   "execution_count": null,
   "id": "ff302b19-0032-46c8-b8fc-2539bc241985",
   "metadata": {},
   "outputs": [],
   "source": [
    "sample_dir <- \"/data/User/revolvefire/projects/3.PPP_231118/231128_PPP/HN00218008_auto_result_10X/S24-6440/\"\n",
    "object <- Load10X_Spatial(\n",
    "  data.dir = sample_dir,  bin.size  = 8, \n",
    "  image    = image_hires  \n",
    ")"
   ]
  },
  {
   "cell_type": "code",
   "execution_count": null,
   "id": "16526355-d55d-4bfb-b3e1-dd8019ba615c",
   "metadata": {},
   "outputs": [],
   "source": [
    "object"
   ]
  },
  {
   "cell_type": "code",
   "execution_count": null,
   "id": "240f1038-b763-4f09-b5ba-bca526a76a8f",
   "metadata": {},
   "outputs": [],
   "source": [
    "DefaultAssay(object) <- \"Spatial.008um\""
   ]
  },
  {
   "cell_type": "code",
   "execution_count": null,
   "id": "29692dd9-31d7-4185-8135-5a08ccc9e7a3",
   "metadata": {
    "scrolled": true
   },
   "outputs": [],
   "source": [
    "#manually selected tissue area barcodes\n",
    "library(readr)\n",
    "\n",
    "barcode_data <-read_csv(\"new.csv\")\n",
    "barcode_data"
   ]
  },
  {
   "cell_type": "code",
   "execution_count": null,
   "id": "232edfb1-550a-4659-a9ca-ee12847d6dcd",
   "metadata": {},
   "outputs": [],
   "source": [
    "barcodes <- barcode_data[[1]]"
   ]
  },
  {
   "cell_type": "code",
   "execution_count": null,
   "id": "fa359b7a-65ee-446f-af87-d18f9edf2c6d",
   "metadata": {},
   "outputs": [],
   "source": [
    "subset <- subset(object, cells=barcodes)\n",
    "subset"
   ]
  },
  {
   "cell_type": "code",
   "execution_count": null,
   "id": "242fd048-ad70-4e61-a771-e74de52e750a",
   "metadata": {},
   "outputs": [],
   "source": [
    "object <- subset"
   ]
  },
  {
   "cell_type": "code",
   "execution_count": null,
   "id": "dffdf6b0-d114-4132-b960-c71a9dd1534e",
   "metadata": {
    "scrolled": true
   },
   "outputs": [],
   "source": [
    "vln.plot <- VlnPlot(subset, features = \"nCount_Spatial.008um\", pt.size = 0) + theme(axis.text = element_text(size = 4)) + NoLegend()\n",
    "count.plot <- SpatialFeaturePlot(subset, features = \"nCount_Spatial.008um\", pt.size.factor = 3) + theme(legend.position = \"right\") "
   ]
  },
  {
   "cell_type": "code",
   "execution_count": null,
   "id": "9575b3b5-2565-4215-ad1c-91d4f620b261",
   "metadata": {},
   "outputs": [],
   "source": [
    "object[[\"percent.mt\"]] <- PercentageFeatureSet(object, pattern = \"^MT-\")"
   ]
  },
  {
   "cell_type": "code",
   "execution_count": null,
   "id": "9b3589b6-ff77-4132-adcf-1caee8cc141e",
   "metadata": {},
   "outputs": [],
   "source": [
    "# Visualize QC metrics as a violin plot\n",
    "VlnPlot(object, features = c(\"nFeature_Spatial.008um\", \"nCount_Spatial.008um\", \"percent.mt\"), ncol = 3)"
   ]
  },
  {
   "cell_type": "code",
   "execution_count": null,
   "id": "599990b6-45cd-4adc-aa82-b695e0d517b6",
   "metadata": {
    "scrolled": true
   },
   "outputs": [],
   "source": [
    "object <- subset(object, nCount_Spatial.008um > 35 & nFeature_Spatial.008um > 10 &percent.mt < 10)"
   ]
  },
  {
   "cell_type": "code",
   "execution_count": null,
   "id": "b3bcf26b-db50-4c8c-b671-9877479a2162",
   "metadata": {},
   "outputs": [],
   "source": [
    "object"
   ]
  },
  {
   "cell_type": "code",
   "execution_count": null,
   "id": "0ed5ca76-5335-4547-b14d-591f537bf87f",
   "metadata": {},
   "outputs": [],
   "source": [
    "DefaultAssay(object) <- \"Spatial.008um\""
   ]
  },
  {
   "cell_type": "code",
   "execution_count": null,
   "id": "fec0ae33-18f6-4f94-921b-a251db24470b",
   "metadata": {},
   "outputs": [],
   "source": [
    "s1 <- object"
   ]
  },
  {
   "cell_type": "code",
   "execution_count": null,
   "id": "6bcca50e-202c-4ec1-9f71-980904ab149e",
   "metadata": {},
   "outputs": [],
   "source": [
    "p<-SpatialFeaturePlot(s1, features = \"nCount_Spatial.008um\", pt.size.factor = 3, image.scale='hires',  image.alpha=0.4 )"
   ]
  },
  {
   "cell_type": "code",
   "execution_count": null,
   "id": "7492506f-992a-4fb0-9d1d-fd7ebc113e85",
   "metadata": {},
   "outputs": [],
   "source": [
    "p"
   ]
  },
  {
   "cell_type": "code",
   "execution_count": null,
   "id": "f7277a49-4ab1-4539-bab1-48bb5cef5a07",
   "metadata": {},
   "outputs": [],
   "source": []
  },
  {
   "cell_type": "code",
   "execution_count": null,
   "id": "57cb2da3-72d5-4822-882d-8cc3c7eae3ca",
   "metadata": {},
   "outputs": [],
   "source": []
  },
  {
   "cell_type": "code",
   "execution_count": null,
   "id": "87dccc1e-3df7-417b-983b-5865a464c701",
   "metadata": {},
   "outputs": [],
   "source": [
    "visium_dir <- file.path(\"/data/User/revolvefire/projects/3.PPP_231118/231128_PPP/HN00218008_auto_result_10X/S21-31525/\")\n",
    "\n",
    "image_dir <- file.path(visium_dir, \"binned_outputs/square_008um/spatial/\")\n",
    "image_hires <- Read10X_Image(\n",
    "    image_dir,\n",
    "    image.name = \"tissue_hires_image.png\",\n",
    "    \n",
    "    assay = \"Spatial.008um\", slice=\"slice1.008\", filter.matrix=TRUE\n",
    ")"
   ]
  },
  {
   "cell_type": "code",
   "execution_count": null,
   "id": "d26cd72b-af05-4f39-b9cd-c0618d98920c",
   "metadata": {},
   "outputs": [],
   "source": [
    "image_hires"
   ]
  },
  {
   "cell_type": "code",
   "execution_count": null,
   "id": "bff40daf-5e33-4359-af37-eaf0b5b341a5",
   "metadata": {},
   "outputs": [],
   "source": [
    "sample_dir <- \"/data/User/revolvefire/projects/3.PPP_231118/231128_PPP/HN00218008_auto_result_10X/S21-31525/\"\n",
    "object <- Load10X_Spatial(\n",
    "  data.dir = sample_dir,  bin.size  = 8, \n",
    "  image    = image_hires  \n",
    ")"
   ]
  },
  {
   "cell_type": "code",
   "execution_count": null,
   "id": "31bc1d62-3ef2-4a10-a2c9-1151aec7a103",
   "metadata": {
    "scrolled": true
   },
   "outputs": [],
   "source": [
    "#manually selected tissue area barcodes\n",
    "\n",
    "barcode_data <-read_csv(\"new3.csv\")\n",
    "barcode_data"
   ]
  },
  {
   "cell_type": "code",
   "execution_count": null,
   "id": "22c91b2d-b4b5-4d66-ba07-75a4ce559d6c",
   "metadata": {
    "scrolled": true
   },
   "outputs": [],
   "source": [
    "object@meta.data"
   ]
  },
  {
   "cell_type": "code",
   "execution_count": null,
   "id": "0feb3d47-eeeb-427d-9697-d4c62a6b9200",
   "metadata": {},
   "outputs": [],
   "source": [
    "barcodes <- barcode_data[[1]]"
   ]
  },
  {
   "cell_type": "code",
   "execution_count": null,
   "id": "20f55071-20a3-4bba-8f22-d88ccbaf0972",
   "metadata": {},
   "outputs": [],
   "source": [
    "subset <- subset(object, cells=barcodes)\n",
    "subset"
   ]
  },
  {
   "cell_type": "code",
   "execution_count": null,
   "id": "cb8fde79-cd9b-4cc0-8ad6-18a11faed136",
   "metadata": {},
   "outputs": [],
   "source": [
    "object <- subset"
   ]
  },
  {
   "cell_type": "code",
   "execution_count": null,
   "id": "52597872-2317-44d8-9e5e-0d06ccfd7bd7",
   "metadata": {},
   "outputs": [],
   "source": [
    "colnames(object) <- paste0(colnames(object), \"-2\") #add '-2' before merging to differentiate tissue 1 and tissue 2"
   ]
  },
  {
   "cell_type": "code",
   "execution_count": null,
   "id": "35e63c03-6e87-4f87-9337-ccebee8e1eb6",
   "metadata": {
    "scrolled": true
   },
   "outputs": [],
   "source": [
    "object@meta.data"
   ]
  },
  {
   "cell_type": "code",
   "execution_count": null,
   "id": "8b2f8a7b-3b70-4438-af92-bfbcf640915e",
   "metadata": {
    "scrolled": true
   },
   "outputs": [],
   "source": [
    "vln.plot <- VlnPlot(subset, features = \"nCount_Spatial.008um\", pt.size = 0) + theme(axis.text = element_text(size = 4)) + NoLegend()\n",
    "count.plot <- SpatialFeaturePlot(subset, features = \"nCount_Spatial.008um\", pt.size.factor = 3) + theme(legend.position = \"right\") \n",
    "vln.plot | count.plot"
   ]
  },
  {
   "cell_type": "code",
   "execution_count": null,
   "id": "5d7c4bc7-1b37-4a2c-83f7-93571bb0314f",
   "metadata": {},
   "outputs": [],
   "source": [
    "object[[\"percent.mt\"]] <- PercentageFeatureSet(object, pattern = \"^MT-\")"
   ]
  },
  {
   "cell_type": "code",
   "execution_count": null,
   "id": "5977d355-4555-4d8d-ac35-efb78bd0fc6e",
   "metadata": {},
   "outputs": [],
   "source": [
    "VlnPlot(object, features = c(\"nFeature_Spatial.008um\", \"nCount_Spatial.008um\", \"percent.mt\"), ncol = 3, )"
   ]
  },
  {
   "cell_type": "code",
   "execution_count": null,
   "id": "79ed38d9-8fe1-4b68-924b-bd0d57a4d91d",
   "metadata": {
    "scrolled": true
   },
   "outputs": [],
   "source": [
    "object <- subset(object, nCount_Spatial.008um > 35 & nFeature_Spatial.008um > 10 &percent.mt < 10)"
   ]
  },
  {
   "cell_type": "code",
   "execution_count": null,
   "id": "92aa2169-6d84-4c77-83ee-19c154d18344",
   "metadata": {},
   "outputs": [],
   "source": [
    "length(object$nCount_Spatial.008um)"
   ]
  },
  {
   "cell_type": "code",
   "execution_count": null,
   "id": "cbc4abf1-a5db-45bb-a51d-51b45b6bd5db",
   "metadata": {},
   "outputs": [],
   "source": [
    "DefaultAssay(object) <- \"Spatial.008um\""
   ]
  },
  {
   "cell_type": "code",
   "execution_count": null,
   "id": "68bdd095-109b-4e68-9a89-fa807286bd3b",
   "metadata": {},
   "outputs": [],
   "source": [
    "s2 <- object"
   ]
  },
  {
   "cell_type": "code",
   "execution_count": null,
   "id": "8393bd51-f449-4bf1-8cdd-7a306038fe2b",
   "metadata": {},
   "outputs": [],
   "source": [
    "p<-SpatialFeaturePlot(s2, features = \"nCount_Spatial.008um\", pt.size.factor = 3, image.scale='hires',  image.alpha=0.4 )"
   ]
  },
  {
   "cell_type": "code",
   "execution_count": null,
   "id": "70a8ad17-201e-40b9-8608-35a18e8dfe7f",
   "metadata": {},
   "outputs": [],
   "source": [
    "p"
   ]
  },
  {
   "cell_type": "code",
   "execution_count": null,
   "id": "388b40f8-36e7-4557-ad9c-bd8181739360",
   "metadata": {},
   "outputs": [],
   "source": []
  },
  {
   "cell_type": "code",
   "execution_count": null,
   "id": "52e2cbe0-0796-4ca0-a158-913d679bc29b",
   "metadata": {},
   "outputs": [],
   "source": [
    "s1\n",
    "s2"
   ]
  },
  {
   "cell_type": "code",
   "execution_count": null,
   "id": "20159423-f61e-4526-88a3-700dc81cbb69",
   "metadata": {},
   "outputs": [],
   "source": [
    "s1@meta.data['slide'] = 's1'\n",
    "s2@meta.data['slide'] = 's2'"
   ]
  },
  {
   "cell_type": "code",
   "execution_count": null,
   "id": "f32dce16-6923-458c-9cdb-3d641db7f560",
   "metadata": {},
   "outputs": [],
   "source": [
    "s1@images"
   ]
  },
  {
   "cell_type": "code",
   "execution_count": null,
   "id": "b96405c4-1f18-4243-b32d-9811be3fa371",
   "metadata": {},
   "outputs": [],
   "source": [
    "s2@images"
   ]
  },
  {
   "cell_type": "code",
   "execution_count": null,
   "id": "000e35b1-fe30-4b9f-a45b-f57b064291a1",
   "metadata": {},
   "outputs": [],
   "source": [
    "names(s1@images)[names(s1@images) == \"slice1.008um\"] <- \"slide1\"\n",
    "names(s2@images)[names(s2@images) == \"slice1.008um\"] <- \"slide2\""
   ]
  },
  {
   "cell_type": "code",
   "execution_count": null,
   "id": "79860ee2-8636-4ccb-8561-0159efdfbe7c",
   "metadata": {},
   "outputs": [],
   "source": [
    "s1\n",
    "s2"
   ]
  },
  {
   "cell_type": "code",
   "execution_count": null,
   "id": "b36246e4-74be-40b4-b974-e7420ff0f9e7",
   "metadata": {
    "scrolled": true
   },
   "outputs": [],
   "source": [
    "seurat_obj= s1\n",
    "seurat_obj$barcode <- colnames(seurat_obj)\n",
    "\n",
    "tissue_positions = Read10X_Coordinates(\"/data/User/revolvefire/projects/3.PPP_231118/231128_PPP/HN00218008_auto_result_10X/S24-6440/binned_outputs/square_008um/spatial/tissue_positions.parquet\", T)\n",
    "tissue_positions$barcode = rownames(tissue_positions)\n",
    "tissue_positions <- subset(tissue_positions, barcode %in% seurat_obj$barcode)\n",
    "\n",
    "new_meta <- dplyr::left_join(seurat_obj@meta.data, tissue_positions, by='barcode')\n",
    "rownames(new_meta) = rownames(seurat_obj@meta.data)\n",
    "seurat_obj@meta.data = new_meta\n",
    "s1 = seurat_obj"
   ]
  },
  {
   "cell_type": "code",
   "execution_count": null,
   "id": "1729cc94-561a-4470-887d-dd1505036ffd",
   "metadata": {
    "scrolled": true
   },
   "outputs": [],
   "source": [
    "rownames(tissue_positions)"
   ]
  },
  {
   "cell_type": "code",
   "execution_count": null,
   "id": "348dacef-5855-47ea-96e4-5ce5c0ded4b7",
   "metadata": {},
   "outputs": [],
   "source": [
    "seurat_obj= s2\n",
    "seurat_obj$barcode <- colnames(seurat_obj)"
   ]
  },
  {
   "cell_type": "code",
   "execution_count": null,
   "id": "cb31e27d-d6da-4b9b-ba39-353a4ebc7394",
   "metadata": {
    "scrolled": true
   },
   "outputs": [],
   "source": [
    "seurat_obj$barcode"
   ]
  },
  {
   "cell_type": "code",
   "execution_count": null,
   "id": "82069cee-99dd-4fc3-b2da-ccb13dfb8b90",
   "metadata": {},
   "outputs": [],
   "source": [
    "tissue_positions = Read10X_Coordinates(\"/data/User/revolvefire/projects/3.PPP_231118/231128_PPP/HN00218008_auto_result_10X/S21-31525/binned_outputs/square_008um/spatial/tissue_positions.parquet\", T)\n",
    "tissue_positions$barcode = paste0(rownames(tissue_positions), \"-2\")"
   ]
  },
  {
   "cell_type": "code",
   "execution_count": null,
   "id": "fdd63cf2-9c07-49e0-85d9-3c56935b6c04",
   "metadata": {
    "scrolled": true
   },
   "outputs": [],
   "source": [
    "tissue_positions$barcode"
   ]
  },
  {
   "cell_type": "code",
   "execution_count": null,
   "id": "8a83534d-9637-4238-b600-1a46db59ef98",
   "metadata": {
    "scrolled": true
   },
   "outputs": [],
   "source": [
    "seurat_obj$barcode"
   ]
  },
  {
   "cell_type": "code",
   "execution_count": null,
   "id": "51a302a5-7117-4623-8726-ec103262b8b9",
   "metadata": {
    "scrolled": true
   },
   "outputs": [],
   "source": [
    "tissue_positions"
   ]
  },
  {
   "cell_type": "code",
   "execution_count": null,
   "id": "8b4df2a6-6372-452d-88cb-db1347dcd337",
   "metadata": {},
   "outputs": [],
   "source": [
    "rownames(tissue_positions) <- paste0(rownames(tissue_positions), \"-2\")"
   ]
  },
  {
   "cell_type": "code",
   "execution_count": null,
   "id": "cf3ec6a4-5917-4c69-a416-b8af163defcb",
   "metadata": {
    "scrolled": true
   },
   "outputs": [],
   "source": [
    "tissue_positions"
   ]
  },
  {
   "cell_type": "code",
   "execution_count": null,
   "id": "cc3137df-094b-4dc8-80f6-55565962db28",
   "metadata": {},
   "outputs": [],
   "source": [
    "tissue_positions <- subset(tissue_positions, barcode %in% seurat_obj$barcode)\n",
    "\n",
    "new_meta <- dplyr::left_join(seurat_obj@meta.data, tissue_positions, by = 'barcode')\n",
    "rownames(new_meta) = rownames(seurat_obj@meta.data)\n",
    "seurat_obj@meta.data = new_meta\n",
    "s2 = seurat_obj"
   ]
  },
  {
   "cell_type": "code",
   "execution_count": null,
   "id": "85d27e20-0aba-4263-be20-c2f76bf1b479",
   "metadata": {},
   "outputs": [],
   "source": [
    "s2$slide %>% head()"
   ]
  },
  {
   "cell_type": "code",
   "execution_count": null,
   "id": "3c4f77a5-0f32-4097-bc87-be5c1f9807c2",
   "metadata": {},
   "outputs": [],
   "source": [
    "object <- merge(s1, s2)"
   ]
  },
  {
   "cell_type": "code",
   "execution_count": null,
   "id": "26d0a189-4130-4988-8e3e-8bd7c24891c8",
   "metadata": {},
   "outputs": [],
   "source": [
    "object <- object %>%\n",
    "  NormalizeData() %>%\n",
    "  FindVariableFeatures() %>%\n",
    "  ScaleData() %>%\n",
    "  RunPCA()"
   ]
  },
  {
   "cell_type": "code",
   "execution_count": null,
   "id": "9291dd88-5347-4dcd-b2d7-cbb80be1b9bd",
   "metadata": {},
   "outputs": [],
   "source": [
    "object"
   ]
  },
  {
   "cell_type": "code",
   "execution_count": null,
   "id": "883be5af-f311-45f4-882f-df080544a08a",
   "metadata": {},
   "outputs": [],
   "source": [
    "DefaultAssay(object)"
   ]
  },
  {
   "cell_type": "code",
   "execution_count": null,
   "id": "6e509b3a-42d4-4905-a20e-e0f3b90939bb",
   "metadata": {},
   "outputs": [],
   "source": [
    "object <- FindNeighbors(object, dims = 1:30)\n",
    "object <- FindClusters(object, verbose = FALSE, resolution =0.5)\n",
    "object <- RunUMAP(object, dims = 1:30)"
   ]
  },
  {
   "cell_type": "code",
   "execution_count": null,
   "id": "e720656f-4267-4e9b-8768-ab2afc762996",
   "metadata": {},
   "outputs": [],
   "source": [
    "# set factor level for anterior / posterior\n",
    "object$slide <- factor(as.character(object$slide), levels=c('slide1', 'slide2'))\n",
    "\n",
    "# show the UMAP\n",
    "p1 <- DimPlot(object, label=TRUE, reduction = \"umap\") + NoLegend()\n",
    "p1"
   ]
  },
  {
   "cell_type": "code",
   "execution_count": null,
   "id": "0060823d-1f0a-476f-8d0d-98d5309ec963",
   "metadata": {},
   "outputs": [],
   "source": [
    "object <- FindClusters(object, verbose = FALSE, resolution =0.5, cluster.name=\"cluster\")"
   ]
  },
  {
   "cell_type": "code",
   "execution_count": null,
   "id": "8f31584c-47a9-4674-8695-fd053882368f",
   "metadata": {},
   "outputs": [],
   "source": [
    "SpatialDimPlot(object, label = T, repel = T, label.size = 4, image.scale='hires',  image.alpha=0.4)"
   ]
  },
  {
   "cell_type": "code",
   "execution_count": null,
   "id": "65a0bee2-2f51-4052-a827-9f90ae45d674",
   "metadata": {},
   "outputs": [],
   "source": [
    "object$label <- \"Unknown\""
   ]
  },
  {
   "cell_type": "code",
   "execution_count": null,
   "id": "dbc06827-feaf-4336-99b4-a072cfd983da",
   "metadata": {},
   "outputs": [],
   "source": [
    "object$label[WhichCells(object, idents = c(0))] <- \"Fibroblast\"\n",
    "object$label[WhichCells(object, idents = c(1))] <- \"Basal KC\"\n",
    "object$label[WhichCells(object, idents = c(2))] <- \"Lymphoid-FRC niche\"\n",
    "object$label[WhichCells(object, idents = c(3))] <- \"Endo/Peri\"\n",
    "object$label[WhichCells(object, idents = c(4))] <- \"Differentiating KC\"\n",
    "object$label[WhichCells(object, idents = c(5))] <- \"Inflammatory Fib/Mac\"\n",
    "object$label[WhichCells(object, idents = c(6))] <- \"Neutrophilic pustule\"\n",
    "object$label[WhichCells(object, idents = c(7))] <- \"Pustular KC\"\n",
    "object$label[WhichCells(object, idents = c(8))] <- \"a/mDC\"\n",
    "object$label[WhichCells(object, idents = c(9))] <- \"pDC\" \n",
    "object$label[WhichCells(object, idents = c(10))] <- \"Terminally diff KC\"\n",
    "object$label[WhichCells(object, idents = c(11))] <- \"Mast cell\"\n",
    "object$label[WhichCells(object, idents = c(12))] <- \"Pustular KC\"\n",
    "object$label[WhichCells(object, idents = c(13))] <- \"Adipocyte\"  #adipoq\n",
    "object$label[WhichCells(object, idents = c(14))] <- \"Eccrine gland duct\" \n",
    "object$label[WhichCells(object, idents = c(15))] <- \"Eccrine gland coil\" \n",
    "object$label[WhichCells(object, idents = c(16))] <- \"Terminally diff KC\" \n",
    "object$label[WhichCells(object, idents = c(17))] <- \"Terminally diff KC\" \n",
    "object$label[WhichCells(object, idents = c(18))] <- \"Neutrophilic pustule\" \n",
    "object$label[WhichCells(object, idents = c(19))] <- \"Neutrophilic pustule\" "
   ]
  },
  {
   "cell_type": "code",
   "execution_count": null,
   "id": "a5addc69-9d12-4d1f-9f6e-09827df4474f",
   "metadata": {},
   "outputs": [],
   "source": [
    "Idents(object) <- \"label\""
   ]
  },
  {
   "cell_type": "code",
   "execution_count": null,
   "id": "218b0cdd-1b50-4a31-97b1-03d83a7a822b",
   "metadata": {},
   "outputs": [],
   "source": [
    "DimPlot(object, label = T) "
   ]
  },
  {
   "cell_type": "code",
   "execution_count": null,
   "id": "8170db8d-bd00-4015-b3a8-e02478d9e5c9",
   "metadata": {},
   "outputs": [],
   "source": [
    "saveRDS(object, \"./RDS/combined_3.3_hires.rds\")"
   ]
  },
  {
   "cell_type": "code",
   "execution_count": null,
   "id": "d58c8cc0-f499-49a1-b13a-23c073964c23",
   "metadata": {},
   "outputs": [],
   "source": []
  },
  {
   "cell_type": "code",
   "execution_count": null,
   "id": "add68203-0fc1-4c35-9dc3-fb121ccb6eb4",
   "metadata": {
    "scrolled": true
   },
   "outputs": [],
   "source": [
    "object_subset <- subset(object, cells = Cells(object[[\"Spatial.008um\"]]), downsample = 10000)"
   ]
  },
  {
   "cell_type": "code",
   "execution_count": null,
   "id": "47d4c522-1b49-4376-ba0b-89b24df0321f",
   "metadata": {},
   "outputs": [],
   "source": [
    "object_subset <- JoinLayers(object_subset)"
   ]
  },
  {
   "cell_type": "code",
   "execution_count": null,
   "id": "e9cb3c5e-50ca-4ebf-9ab8-ec581cfa05d1",
   "metadata": {},
   "outputs": [],
   "source": [
    "markers <- FindAllMarkers(object_subset, assay = \"Spatial.008um\", only.pos = TRUE)\n",
    "markers %>%\n",
    "  group_by(cluster) %>%\n",
    "  dplyr::filter(avg_log2FC > 1) %>%\n",
    "  slice_head(n = 10) %>%\n",
    "  ungroup() -> top10"
   ]
  },
  {
   "cell_type": "code",
   "execution_count": null,
   "id": "eedc25ed-6e2d-4d9f-899d-8b0bb54ddc92",
   "metadata": {},
   "outputs": [],
   "source": [
    "top10"
   ]
  },
  {
   "cell_type": "code",
   "execution_count": null,
   "id": "537c4b7d-51fa-495d-8b92-1dab4f452856",
   "metadata": {},
   "outputs": [],
   "source": [
    "write.csv(top10, file=\"top10.cluster.csv\", row.names=FALSE)"
   ]
  },
  {
   "cell_type": "code",
   "execution_count": null,
   "id": "c7e83f68-a677-48a0-af99-16664c599980",
   "metadata": {},
   "outputs": [],
   "source": [
    "markers %>%\n",
    "  group_by(cluster) %>%\n",
    "  dplyr::filter(avg_log2FC > 1) %>%\n",
    "  slice_head(n = 20) %>%\n",
    "  ungroup() -> top20"
   ]
  },
  {
   "cell_type": "code",
   "execution_count": null,
   "id": "7dc07710-7350-46a5-976c-d01bdb3520a8",
   "metadata": {},
   "outputs": [],
   "source": [
    "write.csv(top20, file=\"top20.cluster.csv\", row.names=FALSE)"
   ]
  },
  {
   "cell_type": "code",
   "execution_count": null,
   "id": "4fae6963-a0f5-45ec-b528-6f4c43d7737b",
   "metadata": {},
   "outputs": [],
   "source": []
  },
  {
   "cell_type": "code",
   "execution_count": null,
   "id": "ad81a500-92b6-49d1-ad69-ccc5e4a571a1",
   "metadata": {},
   "outputs": [],
   "source": []
  },
  {
   "cell_type": "code",
   "execution_count": null,
   "id": "70d9307e-9bd2-4408-b6e3-44afff8e4c0f",
   "metadata": {},
   "outputs": [],
   "source": []
  },
  {
   "cell_type": "code",
   "execution_count": null,
   "id": "66b42f50-4c1e-48e7-bd82-1f41b4ac2288",
   "metadata": {},
   "outputs": [],
   "source": []
  },
  {
   "cell_type": "code",
   "execution_count": null,
   "id": "445ccbea-88f8-4fb2-9577-5f6053423079",
   "metadata": {},
   "outputs": [],
   "source": []
  }
 ],
 "metadata": {
  "kernelspec": {
   "display_name": "R_seurat5_240625",
   "language": "R",
   "name": "r_seurat5_240625"
  },
  "language_info": {
   "codemirror_mode": "r",
   "file_extension": ".r",
   "mimetype": "text/x-r-source",
   "name": "R",
   "pygments_lexer": "r",
   "version": "4.3.3"
  }
 },
 "nbformat": 4,
 "nbformat_minor": 5
}
