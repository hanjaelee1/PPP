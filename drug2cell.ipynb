{
 "cells": [
  {
   "cell_type": "markdown",
   "id": "4b19f987-3df3-406f-b526-9bc90922bbb6",
   "metadata": {},
   "source": [
    "## drug2cell"
   ]
  },
  {
   "cell_type": "code",
   "execution_count": null,
   "id": "edcfda8a-f59d-49ef-bd9f-78b8e808b871",
   "metadata": {},
   "outputs": [],
   "source": [
    "import scanpy as sc\n",
    "import drug2cell as d2c\n",
    "import blitzgsea as blitz"
   ]
  },
  {
   "cell_type": "code",
   "execution_count": null,
   "id": "14c159d7-ac89-4494-9d53-ef811f89cd73",
   "metadata": {},
   "outputs": [],
   "source": [
    "from time import localtime, strftime\n",
    "strftime(\"%Y-%m-%d %H:%M:%S\", localtime())"
   ]
  },
  {
   "cell_type": "code",
   "execution_count": null,
   "id": "7992ecf2-32e9-4e60-be79-b7f312d6a1e6",
   "metadata": {},
   "outputs": [],
   "source": [
    "adata = sc.read(objectDir+\"/250521_PPP_integrated_Label_mdc_Labelfine.h5ad\") "
   ]
  },
  {
   "cell_type": "code",
   "execution_count": null,
   "id": "8e1ab468-49cf-48d0-a29b-63ac15fa76ff",
   "metadata": {},
   "outputs": [],
   "source": [
    "adata"
   ]
  },
  {
   "cell_type": "code",
   "execution_count": null,
   "id": "da3de217-6c6b-4904-8958-44e384c3efb0",
   "metadata": {},
   "outputs": [],
   "source": [
    "import pandas as pd\n",
    "import os\n",
    "\n",
    "data_file = os.path.expanduser(\"drug-target_dicts.pkl\")\n",
    "\n",
    "try:\n",
    "    targets = pd.read_pickle(data_file)\n",
    "    print(\"Pickle loaded.\")\n",
    "except FileNotFoundError:\n",
    "    print(f\"file not found: {data_file}\")\n",
    "    exit()"
   ]
  },
  {
   "cell_type": "code",
   "execution_count": null,
   "id": "5bac69af-0ac2-4f9c-80a3-a1b06e677ab9",
   "metadata": {},
   "outputs": [],
   "source": [
    "data = []\n",
    "\n",
    "for category, drugs in targets.items():\n",
    "    if isinstance(drugs, dict):\n",
    "        for key, genes in drugs.items():\n",
    "            if '|' in key:\n",
    "                chemb_id, drug_name = key.split('|', 1)\n",
    "                data.append({\n",
    "                    'Category': category,\n",
    "                    'CHEMBL_ID': chemb_id.strip(),\n",
    "                    'DrugName': drug_name.strip(),\n",
    "                    'Genes': ','.join(genes)  \n",
    "                })\n",
    "\n",
    "\n",
    "df = pd.DataFrame(data)\n",
    "\n",
    "print(df.head())"
   ]
  },
  {
   "cell_type": "code",
   "execution_count": null,
   "id": "89d19ef5-138b-4e2f-8cbd-5582a2a327df",
   "metadata": {},
   "outputs": [],
   "source": [
    "csv_file = os.path.expanduser(\"drug-target_dicts.csv\")\n",
    "df.to_csv(csv_file, index=False)"
   ]
  },
  {
   "cell_type": "code",
   "execution_count": null,
   "id": "938cc4da-de72-46e9-a63d-bb6cc11dab3e",
   "metadata": {},
   "outputs": [],
   "source": [
    "adata = adata[adata.obs[\"bulk_ident\"] == \"PPP\"].copy()"
   ]
  },
  {
   "cell_type": "code",
   "execution_count": null,
   "id": "1369d300-8c6d-4270-8224-735eaa1d13d0",
   "metadata": {},
   "outputs": [],
   "source": [
    "d2c.score(adata)"
   ]
  },
  {
   "cell_type": "code",
   "execution_count": null,
   "id": "2fb5fcc9-cb3b-4423-94a0-4eec89657e02",
   "metadata": {},
   "outputs": [],
   "source": []
  },
  {
   "cell_type": "code",
   "execution_count": null,
   "id": "62069e19-58ca-4fa5-9585-5b3624af9a4f",
   "metadata": {},
   "outputs": [],
   "source": []
  },
  {
   "cell_type": "code",
   "execution_count": null,
   "id": "cd2f7188-4f04-4768-a040-dc820413b13b",
   "metadata": {},
   "outputs": [],
   "source": [
    "adata.obs['label_ident'] = adata.obs['label3'].copy()"
   ]
  },
  {
   "cell_type": "code",
   "execution_count": null,
   "id": "e8f821b5-284f-4136-a255-cfdffedc5735",
   "metadata": {},
   "outputs": [],
   "source": [
    "print(adata.obs['label_ident'].head())"
   ]
  },
  {
   "cell_type": "code",
   "execution_count": null,
   "id": "68efdc48-03e0-4a7c-aad8-2405225c755b",
   "metadata": {},
   "outputs": [],
   "source": [
    "adata.obs['label_ident'].unique()"
   ]
  },
  {
   "cell_type": "code",
   "execution_count": null,
   "id": "c876d978-688e-4ad2-9ce5-90a8a801f5b8",
   "metadata": {
    "scrolled": true
   },
   "outputs": [],
   "source": [
    "drug_list = [\n",
    "    \"USTEKINUMAB\", \"GUSELKUMAB\", \"TILDRAKIZUMAB\", \"RISANKIZUMAB\",\n",
    "    \"SECUKINUMAB\", \"IXEKIZUMAB\", 'BARICITINIB', 'UPADACITINIB', 'APREMILAST', 'ROFLUMILAST', 'CRISABOROLE',\n",
    "]\n",
    "\n",
    "df['DrugName_upper'] = df['DrugName'].str.upper()\n",
    "filtered_df = df[df['DrugName_upper'].isin(drug_list)]\n",
    "filtered_df = filtered_df.drop(columns=['DrugName_upper'])\n",
    "print(filtered_df)\n",
    "\n",
    "filtered_csv_file = os.path.expanduser(\"filtered_drug_targets.csv\")\n",
    "filtered_df.to_csv(filtered_csv_file, index=False)"
   ]
  },
  {
   "cell_type": "code",
   "execution_count": null,
   "id": "9c63dba2-1b36-4853-8a29-583163db8dee",
   "metadata": {},
   "outputs": [],
   "source": [
    "filtered_csv_file = \"filtered_drug_targets.csv\"\n",
    "\n",
    "filtered_df = pd.read_csv(filtered_csv_file)\n",
    "print(filtered_df.head())\n",
    "\n",
    "drug_targets = (\n",
    "    filtered_df\n",
    "    .groupby(\"DrugName\")[\"Genes\"]\n",
    "    .apply(lambda rows: list(dict.fromkeys(\n",
    "        gene.strip() \n",
    "        for row in rows\n",
    "        for gene in row.split(',')\n",
    "    )))\n",
    "    .to_dict()\n",
    ")\n",
    "\n",
    "for drug, genes in drug_targets.items():\n",
    "    print(f\"{drug}: {genes}\")"
   ]
  },
  {
   "cell_type": "code",
   "execution_count": null,
   "id": "a0a8f2cf-1500-42eb-b5dd-1c353f746d01",
   "metadata": {
    "scrolled": true
   },
   "outputs": [],
   "source": [
    "min_cells = 3\n",
    "adata = adata[adata.obs['label_ident'].map(adata.obs['label_ident'].value_counts()) >= min_cells].copy()\n",
    "d2c.score(adata, targets=drug_targets, nested=False, use_raw=True)"
   ]
  },
  {
   "cell_type": "code",
   "execution_count": null,
   "id": "c78ca33d-2d35-4e0e-b6ff-78e68ee4f1d0",
   "metadata": {
    "scrolled": true
   },
   "outputs": [],
   "source": [
    "sc.tl.rank_genes_groups(adata.uns['drug2cell'], method=\"wilcoxon\", groupby=\"label_ident\")\n",
    "sc.pl.rank_genes_groups_dotplot(adata.uns['drug2cell'], swap_axes=True, dendrogram=False, n_genes=11)"
   ]
  },
  {
   "cell_type": "code",
   "execution_count": null,
   "id": "c5a2e978-19d2-4c10-9da8-363255017c6a",
   "metadata": {},
   "outputs": [],
   "source": [
    "print(adata.uns['drug2cell'])"
   ]
  },
  {
   "cell_type": "code",
   "execution_count": null,
   "id": "6189a039-e039-4090-8a28-2b5692afe9f2",
   "metadata": {},
   "outputs": [],
   "source": [
    "adata.uns['drug2cell'].layers[\"scaled\"] = sc.pp.scale(adata.uns['drug2cell'], copy=True).X"
   ]
  },
  {
   "cell_type": "code",
   "execution_count": null,
   "id": "823cc874-2196-43bd-9c76-e58391ccfa35",
   "metadata": {},
   "outputs": [],
   "source": [
    "custom_drug_order = [ \"USTEKINUMAB\", \"GUSELKUMAB\", \"TILDRAKIZUMAB\", \"RISANKIZUMAB\",\n",
    "    \"SECUKINUMAB\", \"IXEKIZUMAB\", 'BARICITINIB', 'UPADACITINIB', 'APREMILAST', 'ROFLUMILAST', 'CRISABOROLE',]  "
   ]
  },
  {
   "cell_type": "code",
   "execution_count": null,
   "id": "36d5eed4-72cb-43bc-875b-74867c9b0b9a",
   "metadata": {},
   "outputs": [],
   "source": [
    "new_order = ['BK-1', 'BK-2','BK-3', 'SBK-1', 'SBK-2', 'SBK-3', 'SBK-4', 'SBK-5', 'Superficial FIB', 'FRC-like FIB', 'Universal FIB', 'Inf universal FIB', 'Schwann-like FIB', 'cDC2-1', 'cDC2-2', 'mDC', 'pDC', 'Macrophage', 'Mast cell', 'CD4n', 'CD4em', 'Th17', 'CD8/NK', 'Endothelial', 'Pericyte', 'Melanocyte']  # replace with your actual labels\n",
    "\n",
    "\n",
    "adata.uns['drug2cell'].obs['label_ident'] = pd.Categorical(\n",
    "    adata.uns['drug2cell'].obs['label_ident'],\n",
    "    categories=new_order,\n",
    "    ordered=True\n",
    ")"
   ]
  },
  {
   "cell_type": "code",
   "execution_count": null,
   "id": "5384070b-ff7f-4dc3-a7de-4ecd2bb77324",
   "metadata": {},
   "outputs": [],
   "source": [
    "sc.pl.dotplot(\n",
    "    adata.uns['drug2cell'],\n",
    "    var_names=custom_drug_order,   # list of drug names (rows)\n",
    "    groupby='label_ident', swap_axes=True, layer=\"scaled\", colorbar_title='z-score', save=\"250522.dotplot.zscore.drugscore.svg\"# column grouping\n",
    "    )"
   ]
  }
 ],
 "metadata": {
  "kernelspec": {
   "display_name": "drug2cell",
   "language": "python",
   "name": "drug2cell"
  },
  "language_info": {
   "codemirror_mode": {
    "name": "ipython",
    "version": 3
   },
   "file_extension": ".py",
   "mimetype": "text/x-python",
   "name": "python",
   "nbconvert_exporter": "python",
   "pygments_lexer": "ipython3",
   "version": "3.11.11"
  }
 },
 "nbformat": 4,
 "nbformat_minor": 5
}
