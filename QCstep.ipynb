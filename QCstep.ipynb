{
 "cells": [
  {
   "cell_type": "markdown",
   "id": "d121eb47-c10a-42d1-8fd0-d210350d30b7",
   "metadata": {},
   "source": [
    "#01. QC Example script\n",
    "mainly based on https://www.sc-best-practices.org/ https://www.nature.com/articles/s41576-023-00586-w"
   ]
  },
  {
   "cell_type": "code",
   "execution_count": null,
   "id": "978163cd-a5e6-4a56-9301-bdbf7a50c99f",
   "metadata": {},
   "outputs": [],
   "source": [
    "        "
   ]
  },
  {
   "cell_type": "code",
   "execution_count": null,
   "id": "83d18b89-12c3-4f71-8881-635996ec191b",
   "metadata": {},
   "outputs": [],
   "source": [
    "import scanpy as sc, numpy as np, pandas as pd\n",
    "import seaborn as sns\n",
    "from scipy.stats import median_abs_deviation\n",
    "import scvi"
   ]
  },
  {
   "cell_type": "code",
   "execution_count": null,
   "id": "dec7ed43-6316-4c65-8376-8a1d12def98c",
   "metadata": {},
   "outputs": [],
   "source": [
    "scvi.settings.seed = 0"
   ]
  },
  {
   "cell_type": "code",
   "execution_count": null,
   "id": "4b174878-0639-4eac-967e-72de1c3ff5f9",
   "metadata": {},
   "outputs": [],
   "source": [
    "import torch\n",
    "print(torch.cuda.is_available())"
   ]
  },
  {
   "cell_type": "code",
   "execution_count": null,
   "id": "baf8158a-e378-44cd-baa8-16552b503581",
   "metadata": {},
   "outputs": [],
   "source": [
    "from matplotlib.pyplot import rc_context\n",
    "from matplotlib import pyplot as plt"
   ]
  },
  {
   "cell_type": "code",
   "execution_count": null,
   "id": "2940df10-f30e-46c3-9a56-505850a9f70f",
   "metadata": {},
   "outputs": [],
   "source": [
    "import os\n",
    "os.environ[\"R_HOME\"] = \"/data/User/revolvefire/miniforge3/envs/rpy_base_240331/lib/R\"\n",
    "os.environ['LD_LIBRARY_PATH'] = \"/data/User/revolvefire/miniforge3/envs/rpy_base_240331/lib/R/bin\""
   ]
  },
  {
   "cell_type": "code",
   "execution_count": null,
   "id": "9d644900-8649-41d2-be9a-33d7fb76a085",
   "metadata": {},
   "outputs": [],
   "source": [
    "import anndata2ri\n",
    "import logging"
   ]
  },
  {
   "cell_type": "code",
   "execution_count": null,
   "id": "ea265982-4963-47e9-8e77-163b5aa1c839",
   "metadata": {},
   "outputs": [],
   "source": [
    "import rpy2.rinterface_lib.callbacks as rcb\n",
    "import rpy2.robjects as ro\n",
    "print(ro.r(\".libPaths()\"))\n",
    "\n",
    "rcb.logger.setLevel(logging.ERROR)\n",
    "ro.pandas2ri.activate()\n",
    "anndata2ri.activate()\n",
    "\n",
    "%load_ext rpy2.ipython"
   ]
  },
  {
   "cell_type": "code",
   "execution_count": null,
   "id": "f05e3d3d-74ea-4b2f-a102-d639e0670627",
   "metadata": {},
   "outputs": [],
   "source": [
    "from time import gmtime, strftime\n",
    "strftime(\"%Y-%m-%d %H:%M:%S\", gmtime())"
   ]
  },
  {
   "cell_type": "code",
   "execution_count": null,
   "id": "ff64c954-d380-4e9c-b751-c17fc291f529",
   "metadata": {},
   "outputs": [],
   "source": [
    "mainDir = \"/mnt/gmi-l1/_90.User_Data/revolvefire/fastq/PPP_GMI\""
   ]
  },
  {
   "cell_type": "code",
   "execution_count": null,
   "id": "a48bc28b-9cd0-4734-b05f-9f4c81e8f397",
   "metadata": {},
   "outputs": [],
   "source": [
    "objectDir = \"/mnt/gmi-l1/_90.User_Data/revolvefire/projects/3.PPP_231118/231128_PPP/scobject/\""
   ]
  },
  {
   "cell_type": "code",
   "execution_count": null,
   "id": "de6fb7da-f39c-44a4-aa8b-57e1d9a6891a",
   "metadata": {},
   "outputs": [],
   "source": [
    "file_list = [\"PPP_L\", \"PPP_NL\" ] "
   ]
  },
  {
   "cell_type": "code",
   "execution_count": null,
   "id": "54691df7-c2df-4adb-a724-4eb8d52c8167",
   "metadata": {},
   "outputs": [],
   "source": [
    "data_list = {}"
   ]
  },
  {
   "cell_type": "code",
   "execution_count": null,
   "id": "0d7105f7-91c2-4ba5-9a78-32e355fae353",
   "metadata": {},
   "outputs": [],
   "source": [
    "for i in file_list:\n",
    "    file_path = f\"{mainDir}/{i}/outs/per_sample_outs/{i}/count/sample_filtered_feature_bc_matrix.h5\"\n",
    "    data = sc.read_10x_h5(filename=file_path)\n",
    "    data_list[i] = data"
   ]
  },
  {
   "cell_type": "code",
   "execution_count": null,
   "id": "8d955220-6c6b-4504-9081-490d54cffbeb",
   "metadata": {},
   "outputs": [],
   "source": [
    "data_list[\"PPP_L\"]"
   ]
  },
  {
   "cell_type": "code",
   "execution_count": null,
   "id": "6196e52a-bc13-400e-b69b-fed5af774519",
   "metadata": {},
   "outputs": [],
   "source": [
    "PPP_L = data_list[\"PPP_L\"]\n",
    "PPP_NL= data_list[\"PPP_NL\"]\n"
   ]
  },
  {
   "cell_type": "code",
   "execution_count": null,
   "id": "fa309818-dc7a-4998-ba20-75377837ccfc",
   "metadata": {},
   "outputs": [],
   "source": [
    "adata = PPP_L\n",
    "adata"
   ]
  },
  {
   "cell_type": "code",
   "execution_count": null,
   "id": "55073fd2-df18-4b62-bac3-9da5eb90b80d",
   "metadata": {},
   "outputs": [],
   "source": [
    "adata.var_names_make_unique()\n",
    "adata"
   ]
  },
  {
   "cell_type": "code",
   "execution_count": null,
   "id": "5890e7ab-d52e-4340-8bf9-ee2f5262712d",
   "metadata": {},
   "outputs": [],
   "source": [
    "#for human"
   ]
  },
  {
   "cell_type": "code",
   "execution_count": null,
   "id": "626d5e95-604d-44d5-8ac6-aede471f25e2",
   "metadata": {},
   "outputs": [],
   "source": [
    "# mitochondrial genes\n",
    "adata.var[\"mt\"] = adata.var_names.str.startswith(\"MT-\")\n",
    "# ribosomal genes\n",
    "adata.var[\"ribo\"] = adata.var_names.str.startswith((\"RPS\", \"RPL\"))\n",
    "# hemoglobin genes.\n",
    "adata.var[\"hb\"] = adata.var_names.str.contains((\"^HB[^(P)]\"))"
   ]
  },
  {
   "cell_type": "code",
   "execution_count": null,
   "id": "8abc88d7-0202-4b65-a8fa-ca464979ca97",
   "metadata": {},
   "outputs": [],
   "source": [
    "sc.pp.calculate_qc_metrics(\n",
    "    adata, qc_vars=[\"mt\", \"ribo\", \"hb\"], inplace=True, percent_top=[20], log1p=True\n",
    ")\n",
    "adata"
   ]
  },
  {
   "cell_type": "code",
   "execution_count": null,
   "id": "3a91e7a5-3371-4b68-9051-859cfedfd4de",
   "metadata": {},
   "outputs": [],
   "source": [
    "p1 = sns.displot(adata.obs[\"total_counts\"], bins=100, kde=False)\n",
    "# sc.pl.violin(adata, 'total_counts')\n",
    "p2 = sc.pl.violin(adata, [\"pct_counts_mt\", \"pct_counts_ribo\", \"pct_counts_hb\"], multi_panel=False)\n",
    "p3 = sc.pl.scatter(adata, \"total_counts\", \"n_genes_by_counts\", color=\"pct_counts_mt\")"
   ]
  },
  {
   "cell_type": "code",
   "execution_count": null,
   "id": "129dd521-5957-4cd2-865c-a8e93261f116",
   "metadata": {},
   "outputs": [],
   "source": [
    "def is_outlier(adata, metric: str, nmads: int):\n",
    "    M = adata.obs[metric]\n",
    "    outlier = (M < np.median(M) - nmads * median_abs_deviation(M)) | (\n",
    "        np.median(M) + nmads * median_abs_deviation(M) < M\n",
    "    )\n",
    "    return outlier"
   ]
  },
  {
   "cell_type": "code",
   "execution_count": null,
   "id": "c52594e1-8dcc-4c06-963b-cab32e741afa",
   "metadata": {},
   "outputs": [],
   "source": [
    "adata.obs[\"outlier\"] = (\n",
    "    is_outlier(adata, \"log1p_total_counts\", 5)\n",
    "    | is_outlier(adata, \"log1p_n_genes_by_counts\", 5)\n",
    "    | is_outlier(adata, \"pct_counts_in_top_20_genes\", 5)\n",
    ")\n",
    "adata.obs.outlier.value_counts()"
   ]
  },
  {
   "cell_type": "code",
   "execution_count": null,
   "id": "f93418f2-c8f4-4416-9c15-465850e61330",
   "metadata": {},
   "outputs": [],
   "source": [
    "adata.obs[\"mt_outlier\"] = is_outlier(adata, \"pct_counts_mt\", 3) | (\n",
    "    adata.obs[\"pct_counts_mt\"] > 8\n",
    ")\n",
    "adata.obs.mt_outlier.value_counts()"
   ]
  },
  {
   "cell_type": "code",
   "execution_count": null,
   "id": "5f01cfaf-ad70-44ad-ab77-1e902b56847d",
   "metadata": {},
   "outputs": [],
   "source": [
    "print(f\"Total number of cells: {adata.n_obs}\")\n",
    "adata = adata[(~adata.obs.outlier) & (~adata.obs.mt_outlier)].copy()\n",
    "\n",
    "print(f\"Number of cells after filtering of low quality cells: {adata.n_obs}\")"
   ]
  },
  {
   "cell_type": "code",
   "execution_count": null,
   "id": "3c548d64-55cc-4e4a-9124-dbf3ff47d551",
   "metadata": {},
   "outputs": [],
   "source": [
    "p1 = sc.pl.scatter(adata, \"total_counts\", \"n_genes_by_counts\", color=\"pct_counts_mt\")"
   ]
  },
  {
   "cell_type": "code",
   "execution_count": null,
   "id": "ee3eb069-3c69-4546-8e3d-a739bcedaae1",
   "metadata": {},
   "outputs": [],
   "source": [
    "%%R\n",
    "library(SoupX)"
   ]
  },
  {
   "cell_type": "code",
   "execution_count": null,
   "id": "9ea96706-0095-4824-9a56-86eee87cf461",
   "metadata": {},
   "outputs": [],
   "source": [
    "adata_pp = adata.copy()\n",
    "sc.pp.normalize_per_cell(adata_pp)\n",
    "sc.pp.log1p(adata_pp)"
   ]
  },
  {
   "cell_type": "code",
   "execution_count": null,
   "id": "4ce0e662-be7e-4035-865b-87c8284c926b",
   "metadata": {},
   "outputs": [],
   "source": [
    "sc.pp.pca(adata_pp)\n",
    "sc.pp.neighbors(adata_pp)\n",
    "sc.tl.leiden(adata_pp, key_added=\"soupx_groups\")\n",
    "\n",
    "# Preprocess variables for SoupX\n",
    "soupx_groups = adata_pp.obs[\"soupx_groups\"]"
   ]
  },
  {
   "cell_type": "code",
   "execution_count": null,
   "id": "a6b464aa-5d63-405c-994b-d35ac777ce81",
   "metadata": {},
   "outputs": [],
   "source": [
    "del adata_pp"
   ]
  },
  {
   "cell_type": "code",
   "execution_count": null,
   "id": "c2493a38-63b9-48ba-82ab-92aa3e459811",
   "metadata": {},
   "outputs": [],
   "source": [
    "cells = adata.obs_names\n",
    "genes = adata.var_names\n",
    "data = adata.X.T"
   ]
  },
  {
   "cell_type": "code",
   "execution_count": null,
   "id": "0d84459f-8e88-46d6-8676-9d2c6859fddd",
   "metadata": {},
   "outputs": [],
   "source": [
    "adata_raw = sc.read_10x_h5(\n",
    "    filename=mainDir + \"/PPP_L/outs/multi/count/raw_feature_bc_matrix.h5\",\n",
    ")\n",
    "adata_raw.var_names_make_unique()\n",
    "data_tod = adata_raw.X.T"
   ]
  },
  {
   "cell_type": "code",
   "execution_count": null,
   "id": "fa841ada-c06b-435d-899b-f2764b0fa806",
   "metadata": {},
   "outputs": [],
   "source": [
    "del adata_raw"
   ]
  },
  {
   "cell_type": "code",
   "execution_count": null,
   "id": "9639cc66-f800-4c7f-b21c-97d6edfd804e",
   "metadata": {},
   "outputs": [],
   "source": [
    "%%R -i data -i data_tod -i genes -i cells -i soupx_groups -o out \n",
    "\n",
    "# specify row and column names of data\n",
    "rownames(data) = genes\n",
    "colnames(data) = cells\n",
    "# ensure correct sparse format for table of counts and table of droplets\n",
    "data <- as(data, \"sparseMatrix\")\n",
    "data_tod <- as(data_tod, \"sparseMatrix\")\n",
    "\n",
    "# Generate SoupChannel Object for SoupX \n",
    "sc = SoupChannel(data_tod, data, calcSoupProfile = FALSE)\n",
    "\n",
    "# Add extra meta data to the SoupChannel object\n",
    "soupProf = data.frame(row.names = rownames(data), est = rowSums(data)/sum(data), counts = rowSums(data))\n",
    "sc = setSoupProfile(sc, soupProf)\n",
    "# Set cluster information in SoupChannel\n",
    "sc = setClusters(sc, soupx_groups)\n",
    "\n",
    "# Estimate contamination fraction\n",
    "sc = setContaminationFraction(sc, 0.2)\n",
    "# Infer corrected table of counts and rount to integer\n",
    "out = adjustCounts(sc, roundToInt = TRUE)"
   ]
  },
  {
   "cell_type": "code",
   "execution_count": null,
   "id": "d5c6273a-db24-4317-835b-1ce69eda1720",
   "metadata": {},
   "outputs": [],
   "source": [
    "adata.layers[\"counts\"] = adata.X\n",
    "adata.layers[\"soupX_counts\"] = out.T\n",
    "adata.X = adata.layers[\"soupX_counts\"]"
   ]
  },
  {
   "cell_type": "code",
   "execution_count": null,
   "id": "a9127d1f-88a7-425e-a25f-5df39fa511cd",
   "metadata": {},
   "outputs": [],
   "source": []
  },
  {
   "cell_type": "code",
   "execution_count": null,
   "id": "8a2b70c6-cb2d-44b5-912f-071f9bd140de",
   "metadata": {},
   "outputs": [],
   "source": []
  },
  {
   "cell_type": "code",
   "execution_count": null,
   "id": "67aa7ec2-75d5-4908-9d5a-fa57b892307b",
   "metadata": {},
   "outputs": [],
   "source": [
    "%%R\n",
    "library(Seurat)\n",
    "library(scater)\n",
    "library(scDblFinder)\n",
    "library(BiocParallel)"
   ]
  },
  {
   "cell_type": "code",
   "execution_count": null,
   "id": "25d5e848-a224-42b9-8366-a3cb41494bf2",
   "metadata": {},
   "outputs": [],
   "source": [
    "data_mat = adata.X.T"
   ]
  },
  {
   "cell_type": "code",
   "execution_count": null,
   "id": "9775f157-77e8-4b5e-9d8b-9cc2749ef9be",
   "metadata": {},
   "outputs": [],
   "source": [
    "%%R -i data_mat -o doublet_score -o doublet_class\n",
    "\n",
    "set.seed(123)\n",
    "sce = scDblFinder(\n",
    "    SingleCellExperiment(\n",
    "        list(counts=data_mat),\n",
    "    ) \n",
    ")\n",
    "doublet_score = sce$scDblFinder.score\n",
    "doublet_class = sce$scDblFinder.class"
   ]
  },
  {
   "cell_type": "code",
   "execution_count": null,
   "id": "be49db51-e245-47e2-b267-6acf95791ed5",
   "metadata": {},
   "outputs": [],
   "source": [
    "adata.obs[\"scDblFinder_score\"] = doublet_score\n",
    "adata.obs[\"scDblFinder_class\"] = doublet_class\n",
    "adata.obs.scDblFinder_class.value_counts()"
   ]
  }
 ],
 "metadata": {
  "kernelspec": {
   "display_name": "rpy_base_240331",
   "language": "python",
   "name": "rpy_base_240331"
  },
  "language_info": {
   "codemirror_mode": {
    "name": "ipython",
    "version": 3
   },
   "file_extension": ".py",
   "mimetype": "text/x-python",
   "name": "python",
   "nbconvert_exporter": "python",
   "pygments_lexer": "ipython3",
   "version": "3.11.8"
  }
 },
 "nbformat": 4,
 "nbformat_minor": 5
}
