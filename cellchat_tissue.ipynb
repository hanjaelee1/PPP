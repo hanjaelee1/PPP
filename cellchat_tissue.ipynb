{
 "cells": [
  {
   "cell_type": "markdown",
   "id": "347e4bb9-b783-4670-9899-13f0cba31977",
   "metadata": {},
   "source": [
    "## CCI Tissue1"
   ]
  },
  {
   "cell_type": "code",
   "execution_count": null,
   "id": "accd0b9a-ff95-4b71-9378-eee4d1e8cf0f",
   "metadata": {
    "scrolled": true
   },
   "outputs": [],
   "source": [
    "library(Seurat)\n",
    "library(ggplot2)\n",
    "library(patchwork)\n",
    "library(dplyr)"
   ]
  },
  {
   "cell_type": "code",
   "execution_count": null,
   "id": "0b0ef990-f2cd-4272-ae0e-546486e76a1c",
   "metadata": {},
   "outputs": [],
   "source": [
    "library(CellChat)\n",
    "library(patchwork)\n",
    "options(stringsAsFactors = FALSE)"
   ]
  },
  {
   "cell_type": "code",
   "execution_count": null,
   "id": "d24b594f-0af5-42b6-a195-1ff69f56c68b",
   "metadata": {},
   "outputs": [],
   "source": [
    "object <- readRDS(\"./RDS/250422.combined_3.4_visium_labelupdate_tissue1.rds\")"
   ]
  },
  {
   "cell_type": "code",
   "execution_count": null,
   "id": "fda1198c-f74f-48e4-b973-5e81abb4d233",
   "metadata": {},
   "outputs": [],
   "source": [
    "spatial.locs = GetTissueCoordinates(object, scale = NULL, cols = c(\"imagerow\", \"imagecol\"))"
   ]
  },
  {
   "cell_type": "code",
   "execution_count": null,
   "id": "ad778715-ba25-4f65-89fd-ad581e1a31a1",
   "metadata": {},
   "outputs": [],
   "source": [
    "scalefactors"
   ]
  },
  {
   "cell_type": "code",
   "execution_count": null,
   "id": "1db76f6e-e381-4680-a44e-61944385ccb2",
   "metadata": {
    "scrolled": true
   },
   "outputs": [],
   "source": [
    "spatial.locs\n",
    "\n",
    "scalefactors = jsonlite::fromJSON(txt = file.path(\"/data/User/revolvefire/projects/3.PPP_231118/231128_PPP/HN00218008_auto_result_10X/S24-6440/binned_outputs/square_008um/spatial/\", 'scalefactors_json.json'))\n",
    "\n",
    "spot.size = 8 \n",
    "conversion.factor = spot.size/scalefactors$spot_diameter_fullres\n",
    "spatial.factors = data.frame(ratio = conversion.factor, tol = spot.size/2)\n",
    "\n",
    "library(dplyr)\n",
    "spatial.locs <- spatial.locs %>% select(-cell)\n",
    "print(spatial.locs)\n",
    "\n"
   ]
  },
  {
   "cell_type": "code",
   "execution_count": null,
   "id": "dd67b3c0-f40e-4087-9cc1-ca2a0a7c66bc",
   "metadata": {},
   "outputs": [],
   "source": [
    "d.spatial <- computeCellDistance(coordinates = spatial.locs, ratio = spatial.factors$ratio, tol = spatial.factors$tol)\n",
    "min(d.spatial[d.spatial!=0]) "
   ]
  },
  {
   "cell_type": "code",
   "execution_count": null,
   "id": "5b6a3c33-152c-4b2b-b0ed-323252e96078",
   "metadata": {},
   "outputs": [],
   "source": [
    "object"
   ]
  },
  {
   "cell_type": "code",
   "execution_count": null,
   "id": "4042279c-c2ca-4916-80f2-05f4b1990a28",
   "metadata": {},
   "outputs": [],
   "source": [
    "data.input = Seurat::GetAssayData(object, slot = \"data\", assay = \"Spatial.008um\") # normalized data matrix"
   ]
  },
  {
   "cell_type": "code",
   "execution_count": null,
   "id": "ab9a6f52-c8bb-461c-8956-5ce585cda4a8",
   "metadata": {
    "scrolled": true
   },
   "outputs": [],
   "source": [
    "data.input"
   ]
  },
  {
   "cell_type": "code",
   "execution_count": null,
   "id": "8773a1bf-6e6a-4dea-bb20-1673e9a968de",
   "metadata": {
    "scrolled": true
   },
   "outputs": [],
   "source": [
    "meta = data.frame(labels = Seurat::Idents(object), samples = \"sample1\", row.names = names(Seurat::Idents(object))) \n",
    "meta$samples <- factor(meta$samples)\n",
    "unique(meta$labels) "
   ]
  },
  {
   "cell_type": "code",
   "execution_count": null,
   "id": "a3e1a5fd-e821-497f-b6f2-5a7e2b481a53",
   "metadata": {},
   "outputs": [],
   "source": []
  },
  {
   "cell_type": "code",
   "execution_count": null,
   "id": "712c6b17-113b-4c1e-a5d5-1956e293dac2",
   "metadata": {},
   "outputs": [],
   "source": []
  },
  {
   "cell_type": "code",
   "execution_count": null,
   "id": "57dfcec0-ddf9-4e21-91fb-e903bbabfc63",
   "metadata": {},
   "outputs": [],
   "source": [
    "cellchat <- createCellChat(object = object, meta = meta, group.by = \"labels\",\n",
    "                           datatype = \"spatial\", coordinates = spatial.locs, spatial.factors = spatial.factors)"
   ]
  },
  {
   "cell_type": "code",
   "execution_count": null,
   "id": "ba894371-2118-4dd3-93b2-ce7447f7ebf7",
   "metadata": {},
   "outputs": [],
   "source": [
    "cellchat"
   ]
  },
  {
   "cell_type": "code",
   "execution_count": null,
   "id": "62105a77-1df4-4902-9555-fac0cc355e0f",
   "metadata": {},
   "outputs": [],
   "source": [
    "CellChatDB <- CellChatDB.human # use CellChatDB.human if running on human data\n",
    "showDatabaseCategory(CellChatDB)"
   ]
  },
  {
   "cell_type": "code",
   "execution_count": null,
   "id": "547d4b11-ef5f-4d4f-9435-343612f5b456",
   "metadata": {},
   "outputs": [],
   "source": [
    "CellChatDB.use <- subsetDB(CellChatDB, search = \"Secreted Signaling\", key = \"annotation\") # use Secreted Signaling"
   ]
  },
  {
   "cell_type": "code",
   "execution_count": null,
   "id": "307da435-fe6b-4fe8-a041-34a9a87c6cbc",
   "metadata": {},
   "outputs": [],
   "source": [
    "# set the used database in the object\n",
    "cellchat@DB <- CellChatDB.use"
   ]
  },
  {
   "cell_type": "code",
   "execution_count": null,
   "id": "be1768cd-449d-4fb4-b3a7-ba525a5912f7",
   "metadata": {},
   "outputs": [],
   "source": [
    "library(future)"
   ]
  },
  {
   "cell_type": "code",
   "execution_count": null,
   "id": "e7a55972-4df5-4f52-996a-c6b7b7073368",
   "metadata": {},
   "outputs": [],
   "source": [
    "plan(multisession, workers = 2)"
   ]
  },
  {
   "cell_type": "code",
   "execution_count": null,
   "id": "ab20a82e-481d-48aa-9680-ade072ace8bc",
   "metadata": {},
   "outputs": [],
   "source": [
    "# subset the expression data of signaling genes for saving computation cost\n",
    "cellchat <- subsetData(cellchat) # This step is necessary even if using the whole database\n",
    "#future::plan(\"multisession\", workers = 40) \n",
    "cellchat <- identifyOverExpressedGenes(cellchat)\n",
    "cellchat <- identifyOverExpressedInteractions(cellchat, variable.both = F)\n",
    " \n",
    "# project gene expression data onto PPI (Optional: when running it, USER should set `raw.use = FALSE` in the function `computeCommunProb()` in order to use the projected data)\n",
    "# cellchat <- projectData(cellchat, PPI.mouse)\n",
    "#execution.time = Sys.time() - ptm\n",
    "#print(as.numeric(execution.time, units = \"secs\"))"
   ]
  },
  {
   "cell_type": "code",
   "execution_count": null,
   "id": "8d378309-10bb-41c4-b3c5-0418320b8abd",
   "metadata": {},
   "outputs": [],
   "source": [
    "coords <- GetTissueCoordinates(object)     \n",
    "min_dist <- min(dist(as.matrix(coords[, c(\"x\", \"y\")])))"
   ]
  },
  {
   "cell_type": "code",
   "execution_count": null,
   "id": "71b8cf3b-94c3-4c75-b940-aea940a8d120",
   "metadata": {},
   "outputs": [],
   "source": [
    "min_dist"
   ]
  },
  {
   "cell_type": "code",
   "execution_count": null,
   "id": "a8dc7359-ed61-41cd-8e39-ef73fd593541",
   "metadata": {},
   "outputs": [],
   "source": [
    "scale.distance <- 1 / min_dist          \n",
    "scale.distance"
   ]
  },
  {
   "cell_type": "code",
   "execution_count": null,
   "id": "00345387-f303-4bf2-98fa-14d5cb08f985",
   "metadata": {},
   "outputs": [],
   "source": [
    "scale.distance <- 2 / min_dist         \n",
    "scale.distance"
   ]
  },
  {
   "cell_type": "code",
   "execution_count": null,
   "id": "1b9349dc-f914-4418-8625-4231fe522e73",
   "metadata": {},
   "outputs": [],
   "source": [
    "#approximately 2um : scale.distance = 0.1"
   ]
  },
  {
   "cell_type": "code",
   "execution_count": null,
   "id": "89b94c23-8c4c-4fa6-964f-8879aa0feb1d",
   "metadata": {},
   "outputs": [],
   "source": [
    "cellchat <- computeCommunProb(cellchat, type = \"truncatedMean\", trim = 0.05,\n",
    "                              distance.use = TRUE, interaction.range = 250, scale.distance = 0.1,\n",
    "                              contact.dependent = TRUE, contact.range = 8) \n",
    "#> truncatedMean is used for calculating the average gene expression per cell group. \n",
    "#> [1] \">>> Run CellChat on spatial transcriptomics data using distances as constraints of the computed communication probability <<< [2024-02-22 10:39:52.098053]\"\n",
    "#> Molecules of the input L-R pairs are diffusible. Run CellChat in a diffusion manner based on the `interaction.range`.\n",
    "#> [1] \">>> CellChat inference is done. Parameter values are stored in `object@options$parameter` <<< [2024-02-22 10:54:30.589965]\""
   ]
  },
  {
   "cell_type": "code",
   "execution_count": null,
   "id": "391ccd49-f726-42a3-86a6-addedb0cbd0c",
   "metadata": {},
   "outputs": [],
   "source": [
    "cellchat <- filterCommunication(cellchat, min.cells = 10)"
   ]
  },
  {
   "cell_type": "code",
   "execution_count": null,
   "id": "cc643812-97b1-46ca-be6c-c888dd062be7",
   "metadata": {},
   "outputs": [],
   "source": [
    "cellchat <- computeCommunProbPathway(cellchat)"
   ]
  },
  {
   "cell_type": "code",
   "execution_count": null,
   "id": "0596a423-8cc3-44f5-989e-514078d410fd",
   "metadata": {},
   "outputs": [],
   "source": [
    "cellchat <- aggregateNet(cellchat)\n",
    "\n",
    "#execution.time = Sys.time() - ptm\n",
    "#print(as.numeric(execution.time, units = \"secs\"))\n",
    "#> [1] 879.9437"
   ]
  },
  {
   "cell_type": "code",
   "execution_count": null,
   "id": "72b4b2f3-7767-4709-8ee1-186a30b023a4",
   "metadata": {},
   "outputs": [],
   "source": [
    "ptm = Sys.time()\n",
    "\n",
    "groupSize <- as.numeric(table(cellchat@idents))\n",
    "#par(mfrow = c(1,2), xpd=TRUE)\n",
    "netVisual_circle(cellchat@net$count, vertex.weight = rowSums(cellchat@net$count), weight.scale = T, label.edge= F, title.name = \"Number of interactions\")\n",
    "netVisual_circle(cellchat@net$weight, vertex.weight = rowSums(cellchat@net$weight), weight.scale = T, label.edge= F, title.name = \"Interaction weights/strength\")"
   ]
  },
  {
   "cell_type": "code",
   "execution_count": null,
   "id": "1193446d-8ca6-4120-96b1-1fe432a09a1b",
   "metadata": {},
   "outputs": [],
   "source": [
    "cellchat@netP$pathways"
   ]
  },
  {
   "cell_type": "code",
   "execution_count": null,
   "id": "d6ae43ac-db0e-48d9-a5d0-31ba7b54dd4e",
   "metadata": {},
   "outputs": [],
   "source": []
  },
  {
   "cell_type": "code",
   "execution_count": null,
   "id": "eccd864f-5aa6-4852-a943-bdbd16cf0422",
   "metadata": {},
   "outputs": [],
   "source": []
  },
  {
   "cell_type": "code",
   "execution_count": null,
   "id": "bd20404e-447d-413c-8d90-7db100731ef3",
   "metadata": {},
   "outputs": [],
   "source": [
    "netVisual_heatmap(cellchat, measure = \"count\", color.heatmap = \"Blues\", color.use=object@misc$use_color)\n",
    "#> Do heatmap based on a single object"
   ]
  },
  {
   "cell_type": "code",
   "execution_count": null,
   "id": "4dd7dece-1d46-435a-a16b-7ba75ea266a3",
   "metadata": {},
   "outputs": [],
   "source": [
    "netVisual_heatmap(cellchat, measure = \"weight\", color.heatmap = \"Blues\", color.use=object@misc$use_color)\n",
    "#> Do heatmap based on a single object"
   ]
  },
  {
   "cell_type": "code",
   "execution_count": null,
   "id": "f20929a6-51e6-4948-85fa-a2cc5ce23747",
   "metadata": {},
   "outputs": [],
   "source": [
    "options(repr.plot.width=6, repr.plot.height=6, repr.plot.res = 300)"
   ]
  },
  {
   "cell_type": "code",
   "execution_count": null,
   "id": "b8949be4-ff0d-4d0a-b888-2624b0faa847",
   "metadata": {},
   "outputs": [],
   "source": [
    "pathways.show <- c(\"CCL\") \n",
    "# Circle plot\n",
    "par(mfrow=c(1,1), xpd = TRUE) # `xpd = TRUE` should be added to show the title\n",
    "netVisual_aggregate(cellchat, signaling = pathways.show, layout = \"circle\", pt.title=20, color.use=object@misc$use_color, vertex.label.cex = 0.7, , edge.width.max=10)"
   ]
  },
  {
   "cell_type": "code",
   "execution_count": null,
   "id": "1cac9ab9-4ff0-49ba-8e37-ca1dfbc8ee74",
   "metadata": {},
   "outputs": [],
   "source": [
    "netVisual_aggregate(\n",
    "  cellchat,\n",
    "  signaling        = pathways.show,\n",
    "  layout           = \"circle\",\n",
    "  pt.title         = 20,\n",
    "  color.use        = object@misc$use_color,\n",
    "  vertex.label.cex = 0.7, edge.width.max=10\n",
    ")\n",
    "\n",
    "dev.print(\n",
    "  device = svglite,\n",
    "  filename = \"./figure4/250430_ccl_aggregate_circle.svg\", \n",
    "  width    = 6,\n",
    "  height   = 6\n",
    ")"
   ]
  },
  {
   "cell_type": "code",
   "execution_count": null,
   "id": "7b673b98-4992-4088-83e1-d4128e34f8ad",
   "metadata": {},
   "outputs": [],
   "source": [
    "options(repr.plot.width=10, repr.plot.height=10, repr.plot.res = 600)"
   ]
  },
  {
   "cell_type": "code",
   "execution_count": null,
   "id": "71ba709a-3d98-41fc-99f3-96ca4ca5102a",
   "metadata": {},
   "outputs": [],
   "source": [
    "pathways.show <- c(\"CCL\") "
   ]
  },
  {
   "cell_type": "code",
   "execution_count": null,
   "id": "db354194-9c3e-4eb6-b33a-6fc098181d36",
   "metadata": {},
   "outputs": [],
   "source": [
    "# Spatial plot\n",
    "par(mfrow=c(1,1))\n",
    "netVisual_aggregate(cellchat, color.use =object@misc$use_color, signaling = pathways.show, layout = \"spatial\", edge.width.max = 5, vertex.size.max = 3, alpha.image = 0.15, vertex.label.cex = 5, point.size=0.1)"
   ]
  },
  {
   "cell_type": "code",
   "execution_count": null,
   "id": "fac4c0b4-6e09-41d5-b882-7091edcc2c5a",
   "metadata": {},
   "outputs": [],
   "source": [
    "p <- netVisual_aggregate(cellchat, color.use =object@misc$use_color, signaling = pathways.show, layout = \"spatial\", edge.width.max = 5, vertex.size.max = 3, alpha.image = 0.15, vertex.label.cex = 5, point.size=0.2)"
   ]
  },
  {
   "cell_type": "code",
   "execution_count": null,
   "id": "016ab3bb-d0a5-46d0-a4df-4795208c6f67",
   "metadata": {},
   "outputs": [],
   "source": [
    "# Save the rotated image as an SVG file\n",
    "ggsave(\"./figure4/250429_ccl_circle.svg\", plot = p, device = \"svg\", width = 6, height = 6)"
   ]
  },
  {
   "cell_type": "code",
   "execution_count": null,
   "id": "968505c1-a81e-4db9-9f59-24be4c49e3b5",
   "metadata": {},
   "outputs": [],
   "source": [
    "options(repr.plot.width=6, repr.plot.height=6,  repr.plot.res = 300)"
   ]
  },
  {
   "cell_type": "code",
   "execution_count": null,
   "id": "248391c9-0364-4954-ae88-780327f924df",
   "metadata": {},
   "outputs": [],
   "source": []
  },
  {
   "cell_type": "code",
   "execution_count": null,
   "id": "76bd88b9-629b-400f-812b-3781c645cf19",
   "metadata": {},
   "outputs": [],
   "source": [
    "pairLR.CCL <- extractEnrichedLR(cellchat, signaling = pathways.show, geneLR.return = FALSE)\n",
    "LR.show <- pairLR.CCL[1,] # show one ligand-receptor pair\n",
    "# Hierarchy plot\n",
    "vertex.receiver = seq(1,4) # a numeric vector\n",
    "netVisual_individual(cellchat, signaling = pathways.show,  pairLR.use = LR.show, vertex.receiver = vertex.receiver)\n",
    "#> [[1]]\n",
    "# Circle plot\n",
    "netVisual_individual(cellchat, signaling = pathways.show, pairLR.use = LR.show, layout = \"circle\", color.use =object@misc$use_color, vertex.label.cex = 0.7, edge.width.max=10)"
   ]
  },
  {
   "cell_type": "code",
   "execution_count": null,
   "id": "3525ca2a-7324-4433-8553-be9f73c68862",
   "metadata": {},
   "outputs": [],
   "source": [
    "pairLR.CCL[1,]"
   ]
  },
  {
   "cell_type": "code",
   "execution_count": null,
   "id": "07fa0f81-1500-4d38-ae52-52164c5d693a",
   "metadata": {},
   "outputs": [],
   "source": [
    "pairLR.CCL <- extractEnrichedLR(cellchat, signaling = pathways.show, geneLR.return = FALSE)\n",
    "LR.show <- pairLR.CCL[2,] # show one ligand-receptor pair\n",
    "# Hierarchy plot\n",
    "vertex.receiver = seq(1,4) # a numeric vector\n",
    "netVisual_individual(cellchat, signaling = pathways.show,  pairLR.use = LR.show, vertex.receiver = vertex.receiver)\n",
    "#> [[1]]\n",
    "# Circle plot\n",
    "netVisual_individual(cellchat, signaling = pathways.show, pairLR.use = LR.show, layout = \"circle\", color.use =object@misc$use_color, vertex.label.cex = 0.7)"
   ]
  },
  {
   "cell_type": "code",
   "execution_count": null,
   "id": "3cf9ecea-c240-4567-a65b-e1b6da9444ff",
   "metadata": {},
   "outputs": [],
   "source": [
    "pairLR.CCL <- extractEnrichedLR(cellchat, signaling = pathways.show, geneLR.return = FALSE)\n",
    "LR.show <- pairLR.CCL[3,] # show one ligand-receptor pair\n",
    "# Hierarchy plot\n",
    "vertex.receiver = seq(1,4) # a numeric vector\n",
    "netVisual_individual(cellchat, signaling = pathways.show,  pairLR.use = LR.show, vertex.receiver = vertex.receiver)\n",
    "#> [[1]]\n",
    "# Circle plot\n",
    "netVisual_individual(cellchat, signaling = pathways.show, pairLR.use = LR.show, layout = \"circle\", color.use =object@misc$use_color)"
   ]
  },
  {
   "cell_type": "code",
   "execution_count": null,
   "id": "aaf6e738-eed4-4777-a18c-f0cd7a493004",
   "metadata": {},
   "outputs": [],
   "source": []
  },
  {
   "cell_type": "code",
   "execution_count": null,
   "id": "0060f561-b95d-48fe-8699-c16c5f0e7856",
   "metadata": {},
   "outputs": [],
   "source": [
    "pathways.show <- c(\"CXCL\") \n",
    "# Circle plot\n",
    "par(mfrow=c(1,1), xpd = TRUE) # `xpd = TRUE` should be added to show the title\n",
    "netVisual_aggregate(cellchat, signaling = pathways.show, layout = \"circle\", pt.title=20)"
   ]
  },
  {
   "cell_type": "code",
   "execution_count": null,
   "id": "be8d188e-0c7c-4997-81fe-8ac8acd088c7",
   "metadata": {},
   "outputs": [],
   "source": [
    "netVisual_aggregate(\n",
    "  cellchat,\n",
    "  signaling        = pathways.show,\n",
    "  layout           = \"circle\",\n",
    "  pt.title         = 20,\n",
    "  color.use        = object@misc$use_color,\n",
    "  vertex.label.cex = 0.7, edge.width.max=10\n",
    ")\n",
    "\n",
    "dev.print(\n",
    "  device = svglite,\n",
    "  filename = \"./figure4/250430_cxcl_aggregate_circle.svg\",\n",
    "  width    = 6,\n",
    "  height   = 6\n",
    ")"
   ]
  },
  {
   "cell_type": "code",
   "execution_count": null,
   "id": "528c4201-8114-459e-9eb1-9189ea8875db",
   "metadata": {},
   "outputs": [],
   "source": []
  },
  {
   "cell_type": "code",
   "execution_count": null,
   "id": "b6bf406d-fe4f-4bc2-8da5-3d5b1460f88e",
   "metadata": {},
   "outputs": [],
   "source": [
    "pairLR.CCL <- extractEnrichedLR(cellchat, signaling = pathways.show, geneLR.return = FALSE)\n",
    "LR.show <- pairLR.CCL[1,] # show one ligand-receptor pair\n",
    "# Hierarchy plot\n",
    "vertex.receiver = seq(1,4) # a numeric vector\n",
    "netVisual_individual(cellchat, signaling = pathways.show,  pairLR.use = LR.show, vertex.receiver = vertex.receiver)\n",
    "#> [[1]]\n",
    "# Circle plot\n",
    "netVisual_individual(cellchat, signaling = pathways.show, pairLR.use = LR.show, layout = \"circle\", color.use =object@misc$use_color, vertex.label.cex = 0.7)"
   ]
  },
  {
   "cell_type": "code",
   "execution_count": null,
   "id": "9f37386c-6b5e-4a44-b825-566b474a8c3c",
   "metadata": {},
   "outputs": [],
   "source": [
    "netVisual_individual(cellchat, signaling = pathways.show, pairLR.use = LR.show, layout = \"circle\", color.use =object@misc$use_color, vertex.label.cex = 0.7, edge.width.max=10)\n",
    "\n",
    "dev.print(\n",
    "  device=svglite,\n",
    "  filename = \"./figure4/250429_cxcl1_ackr1_circle.svg\",\n",
    "  width    = 6,\n",
    "  height   = 6\n",
    ")"
   ]
  },
  {
   "cell_type": "code",
   "execution_count": null,
   "id": "6ac03cbc-6a4a-4c89-9edf-194bb5920fd4",
   "metadata": {},
   "outputs": [],
   "source": []
  },
  {
   "cell_type": "code",
   "execution_count": null,
   "id": "61ec78cb-7189-4319-83fb-62cd1bd11ea9",
   "metadata": {},
   "outputs": [],
   "source": [
    "pairLR.CCL <- extractEnrichedLR(cellchat, signaling = pathways.show, geneLR.return = FALSE)\n",
    "LR.show <- pairLR.CCL[2,] # show one ligand-receptor pair\n",
    "# Hierarchy plot\n",
    "vertex.receiver = seq(1,4) # a numeric vector\n",
    "netVisual_individual(cellchat, signaling = pathways.show,  pairLR.use = LR.show, vertex.receiver = vertex.receiver)\n",
    "#> [[1]]\n",
    "# Circle plot\n",
    "netVisual_individual(cellchat, signaling = pathways.show, pairLR.use = LR.show, layout = \"circle\", color.use =object@misc$use_color, vertex.label.cex = 0.7)"
   ]
  },
  {
   "cell_type": "code",
   "execution_count": null,
   "id": "17644431-a7a3-4517-822d-d2efc5d9aa80",
   "metadata": {},
   "outputs": [],
   "source": [
    "netVisual_individual(cellchat, signaling = pathways.show, pairLR.use = LR.show, layout = \"circle\", color.use =object@misc$use_color, vertex.label.cex = 0.7, edge.width.max=10)\n",
    "\n",
    "dev.print(\n",
    "  device=svglite,\n",
    "  filename = \"./figure4/250429_cxcl6_ackr1_circle.svg\",\n",
    "  width    = 6,\n",
    "  height   = 6\n",
    ")"
   ]
  },
  {
   "cell_type": "code",
   "execution_count": null,
   "id": "6f98cee6-dd90-4edb-a686-1348babd8ebf",
   "metadata": {},
   "outputs": [],
   "source": [
    "pairLR.CCL <- extractEnrichedLR(cellchat, signaling = pathways.show, geneLR.return = FALSE)\n",
    "LR.show <- pairLR.CCL[3,] # show one ligand-receptor pair\n",
    "# Hierarchy plot\n",
    "vertex.receiver = seq(1,4) # a numeric vector\n",
    "netVisual_individual(cellchat, signaling = pathways.show,  pairLR.use = LR.show, vertex.receiver = vertex.receiver)\n",
    "#> [[1]]\n",
    "# Circle plot\n",
    "netVisual_individual(cellchat, signaling = pathways.show, pairLR.use = LR.show, layout = \"circle\", color.use =object@misc$use_color, vertex.label.cex = 0.7)"
   ]
  },
  {
   "cell_type": "code",
   "execution_count": null,
   "id": "9f1a3d99-c351-4e58-ba92-1f7e77b77196",
   "metadata": {},
   "outputs": [],
   "source": [
    "netVisual_individual(cellchat, signaling = pathways.show, pairLR.use = LR.show, layout = \"circle\", color.use =object@misc$use_color, vertex.label.cex = 0.7, edge.width.max=10)\n",
    "\n",
    "dev.print(\n",
    "  device=svglite,\n",
    "  filename = \"./figure4/250429_cxcl8_ackr1_circle.svg\",\n",
    "  width    = 6,\n",
    "  height   = 6\n",
    ")"
   ]
  },
  {
   "cell_type": "code",
   "execution_count": null,
   "id": "19100d8b-a54e-4aaa-b4e2-ba9042cd0bf6",
   "metadata": {},
   "outputs": [],
   "source": [
    "pairLR.CCL <- extractEnrichedLR(cellchat, signaling = pathways.show, geneLR.return = FALSE)\n",
    "LR.show <- pairLR.CCL[4,] # show one ligand-receptor pair\n",
    "# Hierarchy plot\n",
    "vertex.receiver = seq(1,4) # a numeric vector\n",
    "netVisual_individual(cellchat, signaling = pathways.show,  pairLR.use = LR.show, vertex.receiver = vertex.receiver)\n",
    "#> [[1]]\n",
    "# Circle plot\n",
    "netVisual_individual(cellchat, signaling = pathways.show, pairLR.use = LR.show, layout = \"circle\", color.use =object@misc$use_color, vertex.label.cex = 0.7)"
   ]
  },
  {
   "cell_type": "code",
   "execution_count": null,
   "id": "69f07f5a-f01f-4de6-a489-7397f5fddc48",
   "metadata": {},
   "outputs": [],
   "source": [
    "netVisual_individual(cellchat, signaling = pathways.show, pairLR.use = LR.show, layout = \"circle\", color.use =object@misc$use_color, vertex.label.cex = 0.7, edge.width.max=10)\n",
    "\n",
    "dev.print(\n",
    "  device=svglite,\n",
    "  filename = \"./figure4/250429_cxcl12_cxcr4_circle.svg\",\n",
    "  width    = 6,\n",
    "  height   = 6\n",
    ")"
   ]
  },
  {
   "cell_type": "code",
   "execution_count": null,
   "id": "b04a38bf-0995-4924-a2f9-4432b12caa4b",
   "metadata": {},
   "outputs": [],
   "source": [
    "pathways.show <- c(\"MIF\") \n",
    "# Circle plot\n",
    "par(mfrow=c(1,1), xpd = TRUE) # `xpd = TRUE` should be added to show the title\n",
    "netVisual_aggregate(cellchat, signaling = pathways.show, layout = \"circle\", pt.title=20)"
   ]
  },
  {
   "cell_type": "code",
   "execution_count": null,
   "id": "92aee339-a765-4908-8c4e-3b27f2f5ad82",
   "metadata": {},
   "outputs": [],
   "source": [
    "options(repr.plot.width=10, repr.plot.height=10, repr.plot.res = 600)"
   ]
  },
  {
   "cell_type": "code",
   "execution_count": null,
   "id": "7a1ebaf3-205f-4512-9d99-d8e0ca9195ec",
   "metadata": {
    "scrolled": true
   },
   "outputs": [],
   "source": [
    "# Spatial plot\n",
    "par(mfrow=c(1,1))\n",
    "netVisual_aggregate(cellchat, color.use =object@misc$use_color, signaling = pathways.show, layout = \"spatial\", edge.width.max = 5, vertex.size.max = 3, alpha.image = 0.25, vertex.label.cex = 5, point.size=0.2)"
   ]
  },
  {
   "cell_type": "code",
   "execution_count": null,
   "id": "cccf0e94-4166-485c-a9d8-6d51fa405558",
   "metadata": {},
   "outputs": [],
   "source": [
    "pathways.show <- c(\"MIF\") \n",
    "p <- netVisual_aggregate(cellchat, color.use =object@misc$use_color, signaling = pathways.show, layout = \"spatial\", edge.width.max = 5, vertex.size.max = 3, alpha.image = 0.15, vertex.label.cex = 5, point.size=0.2)"
   ]
  },
  {
   "cell_type": "code",
   "execution_count": null,
   "id": "ddcb9b9f-986c-4004-ba4c-60d6284f0f90",
   "metadata": {},
   "outputs": [],
   "source": [
    "# Save the rotated image as an SVG file\n",
    "ggsave(\"./figure4/250429_MIF_cellchat.svg\", plot = p, device = \"svg\", width = 10, height = 10)"
   ]
  },
  {
   "cell_type": "code",
   "execution_count": null,
   "id": "c7147cdd-1ef2-40c4-bb04-d7c87b3091a8",
   "metadata": {},
   "outputs": [],
   "source": [
    "options(repr.plot.width=5, repr.plot.height=5,  repr.plot.res = 600)"
   ]
  },
  {
   "cell_type": "code",
   "execution_count": null,
   "id": "d84f7cb2-6b0b-47c9-8634-d19930f9c17a",
   "metadata": {},
   "outputs": [],
   "source": [
    "netAnalysis_contribution(cellchat, signaling = pathways.show, font.size=20)"
   ]
  },
  {
   "cell_type": "code",
   "execution_count": null,
   "id": "ba6f4457-f8cc-45ac-a245-a8c10ce1d64d",
   "metadata": {},
   "outputs": [],
   "source": [
    "options(repr.plot.width=8, repr.plot.height=8,  repr.plot.res = 150)"
   ]
  },
  {
   "cell_type": "code",
   "execution_count": null,
   "id": "6e48606e-aa9e-44e8-8ff4-7d35682e8255",
   "metadata": {},
   "outputs": [],
   "source": [
    "pairLR.CCL <- extractEnrichedLR(cellchat, signaling = pathways.show, geneLR.return = FALSE)\n",
    "LR.show <- pairLR.CCL[1,] # show one ligand-receptor pair\n",
    "# Hierarchy plot\n",
    "vertex.receiver = seq(1,4) # a numeric vector\n",
    "netVisual_individual(cellchat, signaling = pathways.show,  pairLR.use = LR.show, vertex.receiver = vertex.receiver)\n",
    "#> [[1]]\n",
    "# Circle plot\n",
    "netVisual_individual(cellchat, signaling = pathways.show, pairLR.use = LR.show, layout = \"circle\")"
   ]
  },
  {
   "cell_type": "code",
   "execution_count": null,
   "id": "e3ca459a-bb46-47b2-b099-aa536e9feb5d",
   "metadata": {},
   "outputs": [],
   "source": [
    "pairLR.CCL <- extractEnrichedLR(cellchat, signaling = pathways.show, geneLR.return = FALSE)\n",
    "LR.show <- pairLR.CCL[2,] # show one ligand-receptor pair\n",
    "# Hierarchy plot\n",
    "vertex.receiver = seq(1,4) # a numeric vector\n",
    "netVisual_individual(cellchat, signaling = pathways.show,  pairLR.use = LR.show, vertex.receiver = vertex.receiver)\n",
    "#> [[1]]\n",
    "# Circle plot\n",
    "netVisual_individual(cellchat, signaling = pathways.show, pairLR.use = LR.show, layout = \"circle\")"
   ]
  },
  {
   "cell_type": "code",
   "execution_count": null,
   "id": "6a7909e1-16f8-41f2-beb1-59584a2f2e92",
   "metadata": {},
   "outputs": [],
   "source": [
    "pairLR.CCL <- extractEnrichedLR(cellchat, signaling = pathways.show, geneLR.return = FALSE)\n",
    "LR.show <- pairLR.CCL[3,] # show one ligand-receptor pair\n",
    "# Hierarchy plot\n",
    "vertex.receiver = seq(1,4) # a numeric vector\n",
    "netVisual_individual(cellchat, signaling = pathways.show,  pairLR.use = LR.show, vertex.receiver = vertex.receiver)\n",
    "#> [[1]]\n",
    "# Circle plot\n",
    "netVisual_individual(cellchat, signaling = pathways.show, pairLR.use = LR.show, layout = \"circle\")"
   ]
  },
  {
   "cell_type": "code",
   "execution_count": null,
   "id": "c7f0fb54-7eed-4d71-ac4e-9afa6419538a",
   "metadata": {},
   "outputs": [],
   "source": []
  },
  {
   "cell_type": "code",
   "execution_count": null,
   "id": "2d4f0351-ca4b-4db8-875d-58d4a7908693",
   "metadata": {},
   "outputs": [],
   "source": [
    "pathways.show <- c(\"ANGPTL\") \n",
    "# Circle plot\n",
    "par(mfrow=c(1,1), xpd = TRUE) # `xpd = TRUE` should be added to show the title\n",
    "netVisual_aggregate(cellchat, signaling = pathways.show, layout = \"circle\", pt.title=20)"
   ]
  },
  {
   "cell_type": "code",
   "execution_count": null,
   "id": "c72ffa7d-e6aa-487f-9854-85f06e356757",
   "metadata": {},
   "outputs": [],
   "source": [
    "netVisual_aggregate(\n",
    "  cellchat,\n",
    "  signaling        = pathways.show,\n",
    "  layout           = \"circle\",\n",
    "  pt.title         = 20,\n",
    "  color.use        = object@misc$use_color,\n",
    "  vertex.label.cex = 0.7, edge.width.max=10\n",
    ")\n",
    "\n",
    "dev.print(\n",
    "  device=svglite,\n",
    "  filename = \"./figure4/250429_angptl_aggregate_circle.svg\",\n",
    "  width    = 6,\n",
    "  height   = 6\n",
    ")"
   ]
  },
  {
   "cell_type": "code",
   "execution_count": null,
   "id": "8c97df3e-f551-4a97-879c-fbd54118b876",
   "metadata": {},
   "outputs": [],
   "source": [
    "pairLR.CCL <- extractEnrichedLR(cellchat, signaling = pathways.show, geneLR.return = FALSE)\n",
    "LR.show <- pairLR.CCL[1,] # show one ligand-receptor pair\n",
    "# Hierarchy plot\n",
    "vertex.receiver = seq(1,4) # a numeric vector\n",
    "netVisual_individual(cellchat, signaling = pathways.show,  pairLR.use = LR.show, vertex.receiver = vertex.receiver)\n",
    "#> [[1]]\n",
    "# Circle plot\n",
    "netVisual_individual(cellchat, signaling = pathways.show, pairLR.use = LR.show, layout = \"circle\")"
   ]
  },
  {
   "cell_type": "code",
   "execution_count": null,
   "id": "a041bb54-760a-49ff-9334-2a8e7b07223e",
   "metadata": {},
   "outputs": [],
   "source": [
    "netVisual_individual(cellchat, signaling = pathways.show, pairLR.use = LR.show, layout = \"circle\", color.use =object@misc$use_color, vertex.label.cex = 0.7, edge.width.max=10)\n",
    "\n",
    "dev.print(\n",
    "  svglite,\n",
    "  filename = \"./figure4/250429_angptl4_cdh5_circle.svg\",\n",
    "  width    = 6,\n",
    "  height   = 6\n",
    ")"
   ]
  },
  {
   "cell_type": "code",
   "execution_count": null,
   "id": "f89efaf7-3b8e-487c-829e-4efcb8c4e4b4",
   "metadata": {},
   "outputs": [],
   "source": [
    "pairLR.CCL <- extractEnrichedLR(cellchat, signaling = pathways.show, geneLR.return = FALSE)\n",
    "LR.show <- pairLR.CCL[2,] # show one ligand-receptor pair\n",
    "# Hierarchy plot\n",
    "vertex.receiver = seq(1,4) # a numeric vector\n",
    "netVisual_individual(cellchat, signaling = pathways.show,  pairLR.use = LR.show, vertex.receiver = vertex.receiver)\n",
    "#> [[1]]\n",
    "# Circle plot\n",
    "netVisual_individual(cellchat, signaling = pathways.show, pairLR.use = LR.show, layout = \"circle\")"
   ]
  },
  {
   "cell_type": "code",
   "execution_count": null,
   "id": "26e6362e-2041-4dbb-a378-32c769ee7d1d",
   "metadata": {},
   "outputs": [],
   "source": [
    "pairLR.CCL <- extractEnrichedLR(cellchat, signaling = pathways.show, geneLR.return = FALSE)\n",
    "LR.show <- pairLR.CCL[3,] # show one ligand-receptor pair\n",
    "# Hierarchy plot\n",
    "vertex.receiver = seq(1,4) # a numeric vector\n",
    "netVisual_individual(cellchat, signaling = pathways.show,  pairLR.use = LR.show, vertex.receiver = vertex.receiver)\n",
    "#> [[1]]\n",
    "# Circle plot\n",
    "netVisual_individual(cellchat, signaling = pathways.show, pairLR.use = LR.show, layout = \"circle\")"
   ]
  },
  {
   "cell_type": "code",
   "execution_count": null,
   "id": "105e3828-4011-443c-9647-f73936e9c836",
   "metadata": {},
   "outputs": [],
   "source": [
    "pairLR.CCL <- extractEnrichedLR(cellchat, signaling = pathways.show, geneLR.return = FALSE)\n",
    "LR.show <- pairLR.CCL[4,] # show one ligand-receptor pair\n",
    "# Hierarchy plot\n",
    "vertex.receiver = seq(1,4) # a numeric vector\n",
    "netVisual_individual(cellchat, signaling = pathways.show,  pairLR.use = LR.show, vertex.receiver = vertex.receiver)\n",
    "#> [[1]]\n",
    "# Circle plot\n",
    "netVisual_individual(cellchat, signaling = pathways.show, pairLR.use = LR.show, layout = \"circle\")"
   ]
  },
  {
   "cell_type": "code",
   "execution_count": null,
   "id": "97f82be2-4817-407f-b3a5-114e577c521d",
   "metadata": {},
   "outputs": [],
   "source": []
  },
  {
   "cell_type": "code",
   "execution_count": null,
   "id": "de54483a-8b2e-43bb-bfe1-a1d719c09986",
   "metadata": {},
   "outputs": [],
   "source": []
  }
 ],
 "metadata": {
  "kernelspec": {
   "display_name": "R_seurat5_240625",
   "language": "R",
   "name": "r_seurat5_240625"
  },
  "language_info": {
   "codemirror_mode": "r",
   "file_extension": ".r",
   "mimetype": "text/x-r-source",
   "name": "R",
   "pygments_lexer": "r",
   "version": "4.3.3"
  }
 },
 "nbformat": 4,
 "nbformat_minor": 5
}
