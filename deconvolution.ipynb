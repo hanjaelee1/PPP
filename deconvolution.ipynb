{
 "cells": [
  {
   "cell_type": "markdown",
   "id": "829d1a9a-d41a-44df-95db-1893e7fcf42c",
   "metadata": {},
   "source": [
    "#deconvolution"
   ]
  },
  {
   "cell_type": "code",
   "execution_count": null,
   "id": "279fada8-1c87-4f16-9cb0-fa3275a99e2b",
   "metadata": {
    "scrolled": true
   },
   "outputs": [],
   "source": [
    "library(Seurat)\n",
    "library(ggplot2)\n",
    "library(patchwork)\n",
    "library(dplyr)"
   ]
  },
  {
   "cell_type": "code",
   "execution_count": null,
   "id": "566289cc-8630-4e9a-a245-f62f305ae60c",
   "metadata": {},
   "outputs": [],
   "source": [
    "object <- readRDS(\"./RDS/250520.combined_3.4_visium_label_update_hires.rds\")"
   ]
  },
  {
   "cell_type": "code",
   "execution_count": null,
   "id": "e04c7083-d6b1-4a04-89c2-cd980307da4f",
   "metadata": {},
   "outputs": [],
   "source": [
    "object"
   ]
  },
  {
   "cell_type": "code",
   "execution_count": null,
   "id": "e51a1416-a887-4972-a4bb-9584f38a10e8",
   "metadata": {
    "scrolled": true
   },
   "outputs": [],
   "source": [
    "object <- subset(object, idents = c(\"Neutrophilic pustule\", \"Eccrine gland coil\", \"Adipocyte\", \"Eccrine gland duct\"), invert = TRUE)\n"
   ]
  },
  {
   "cell_type": "code",
   "execution_count": null,
   "id": "4ad84360-84d3-473f-aef8-28d81be3ec46",
   "metadata": {},
   "outputs": [],
   "source": [
    "ref <- readRDS(\"/data/User/revolvefire/projects/3.PPP_231118/231128_PPP/RDS/250416_integrated_total_rawcounts.rds\")"
   ]
  },
  {
   "cell_type": "code",
   "execution_count": null,
   "id": "a8591d80-2712-4efb-a306-df3306d44733",
   "metadata": {},
   "outputs": [],
   "source": [
    "ref <- NormalizeData(ref)"
   ]
  },
  {
   "cell_type": "code",
   "execution_count": null,
   "id": "293e6a7e-d862-4862-87f5-b5d59d5af419",
   "metadata": {},
   "outputs": [],
   "source": [
    "ref <- FindVariableFeatures(ref)"
   ]
  },
  {
   "cell_type": "code",
   "execution_count": null,
   "id": "d0b5a5f0-4cf0-468e-8eed-4a279a212846",
   "metadata": {
    "scrolled": true
   },
   "outputs": [],
   "source": [
    "Idents(ref) <- \"label2\""
   ]
  },
  {
   "cell_type": "code",
   "execution_count": null,
   "id": "e21c0c3f-1f8a-4030-9e95-3dfb9cbc7450",
   "metadata": {},
   "outputs": [],
   "source": [
    "# the annotation is stored in the 'subclass' column of object metadata\n",
    "DimPlot(ref, group.by = \"label2\", label = TRUE)"
   ]
  },
  {
   "cell_type": "code",
   "execution_count": null,
   "id": "3243505c-83f7-4185-8feb-5b50699ecd9d",
   "metadata": {},
   "outputs": [],
   "source": [
    "ref@meta.data$label2 <- as.character(ref@meta.data$label2)\n",
    "ref@meta.data$label2[ref@meta.data$label2 %in% c(\"BK-1\", \"BK-2\", \"BK-3\")] <- \"BK-1-3\"\n",
    "ref@meta.data$label2[ref@meta.data$label2 %in% c(\"SBK-1\", \"SBK-2\")] <- \"SBK-1-2\"\n",
    "ref@meta.data$label2[ref@meta.data$label2 %in% c(\"SBK-3\", \"SBK-4\")] <- \"SBK-3-4\""
   ]
  },
  {
   "cell_type": "code",
   "execution_count": null,
   "id": "27db66e1-067d-42b3-931b-1fe4d3223801",
   "metadata": {},
   "outputs": [],
   "source": [
    "ref <- subset(ref, idents = c(\"Melanocyte\"), invert = TRUE)"
   ]
  },
  {
   "cell_type": "code",
   "execution_count": null,
   "id": "d9d03ece-e81d-47e1-ade0-a5d66526cea5",
   "metadata": {},
   "outputs": [],
   "source": [
    "object@meta.data$label <- as.character(object@meta.data$label)\n",
    "\n",
    "object@meta.data$label[object@meta.data$label %in% c(\"a/mDC\", \"pDC\", \"Mast cell\")] <- \"Myeloid cell\""
   ]
  },
  {
   "cell_type": "code",
   "execution_count": null,
   "id": "e602b8cf-951f-4374-8ec0-17f8c2458ca3",
   "metadata": {},
   "outputs": [],
   "source": [
    "object"
   ]
  },
  {
   "cell_type": "code",
   "execution_count": null,
   "id": "3b0b1022-9e39-471c-a1a0-57544b393a31",
   "metadata": {},
   "outputs": [],
   "source": [
    "anchors <- FindTransferAnchors(reference = ref, query = object, normalization.method=\"LogNormalize\")\n",
    "predictions.assay <- TransferData(anchorset = anchors, refdata = ref$label2, prediction.assay = TRUE,\n",
    "    weight.reduction = object[[\"pca\"]], dims = 1:30)\n",
    "object[[\"predictions\"]] <- predictions.assay"
   ]
  },
  {
   "cell_type": "code",
   "execution_count": null,
   "id": "402acbc5-e689-42e5-98ec-2631b9503966",
   "metadata": {},
   "outputs": [],
   "source": [
    "data_matrix <- object@assays[[\"predictions\"]]@data\n",
    "cell_types <- object$label\n"
   ]
  },
  {
   "cell_type": "code",
   "execution_count": null,
   "id": "8d0217b1-88c8-4bf0-ace9-8e7136c86e23",
   "metadata": {},
   "outputs": [],
   "source": [
    "row_order <- c(\"BK-1-3\", \"SBK-1-2\", \"SBK-3-4\", \"SBK-5\", \"Lymphocyte\", \"Myeloid cell\", \"Fibroblast\", \"Endothelial\", \"Pericyte\")"
   ]
  },
  {
   "cell_type": "code",
   "execution_count": null,
   "id": "6616841c-7cec-4aa0-8bb6-9c5fa3715771",
   "metadata": {},
   "outputs": [],
   "source": [
    "col_order <- c('Basal KC','Differentiating KC','Terminally diff KC','Pustular KC','Lymphoid-CCL19+ niche','Myeloid cell', 'Inflammatory Fib/Mac','Fibroblast', 'Endo/Peri')"
   ]
  },
  {
   "cell_type": "code",
   "execution_count": null,
   "id": "080c4f15-6e94-4c62-ae06-4e845faf0359",
   "metadata": {},
   "outputs": [],
   "source": [
    "data_matrix <- object@assays[[\"predictions\"]]@data\n",
    "data_matrix <- data_matrix[rownames(data_matrix) != \"max\", ]\n",
    "\n",
    "cell_types <- object$label\n",
    "cell_ids <- colnames(data_matrix)\n",
    "cell_ids_by_type <- split(cell_ids, cell_types[cell_ids])\n",
    "\n",
    "sum_values <- matrix(NA, nrow = nrow(data_matrix), ncol = length(unique(cell_types)))\n",
    "colnames(sum_values) <- unique(cell_types)\n",
    "for (cell_type in unique(cell_types)) {\n",
    "  selected_columns <- cell_ids_by_type[[cell_type]]\n",
    "  sum_values[, cell_type] <- rowSums(data_matrix[, selected_columns, drop = FALSE])\n",
    "}\n",
    "rownames(sum_values) <- rownames(data_matrix)\n",
    "\n",
    "min_max_standarize <- function(x) {\n",
    "  (x - min(x)) / (max(x) - min(x))\n",
    "}\n",
    "\n",
    "data <- t(apply(sum_values, 1, min_max_standarize))\n",
    "data_df <- as.data.frame(data)\n",
    "colnames(data_df) <- colnames(sum_values)\n",
    "rownames(data_df) <- rownames(sum_values)"
   ]
  },
  {
   "cell_type": "code",
   "execution_count": null,
   "id": "f248ee9d-7f03-4d17-b7e8-5ec78369ca37",
   "metadata": {
    "scrolled": true
   },
   "outputs": [],
   "source": [
    "rownames(sum_values) \n",
    "colnames(sum_values)  "
   ]
  },
  {
   "cell_type": "code",
   "execution_count": null,
   "id": "c63cda6b-0fa2-4130-9be5-9a29e95960c1",
   "metadata": {},
   "outputs": [],
   "source": [
    "data_df <- data_df[row_order, col_order, drop=FALSE]"
   ]
  },
  {
   "cell_type": "code",
   "execution_count": null,
   "id": "155f16df-ae32-42f4-894e-59e0bb323f40",
   "metadata": {},
   "outputs": [],
   "source": [
    "library(pheatmap)\n",
    "library(viridis)"
   ]
  },
  {
   "cell_type": "code",
   "execution_count": null,
   "id": "61b40066-c715-495e-bde9-e157f583f6b7",
   "metadata": {},
   "outputs": [],
   "source": [
    "pheatmap(t(data_df), \n",
    "                   color = plasma(300), \n",
    "                   cluster_rows = FALSE, \n",
    "                   cluster_cols = FALSE,\n",
    "                   show_rownames = TRUE,          \n",
    "                   show_colnames = TRUE,\n",
    "                   fontsize = 15,   \n",
    "                   angle_col = \"90\")"
   ]
  },
  {
   "cell_type": "code",
   "execution_count": null,
   "id": "755882e1-2bd6-45c7-bb4f-0235868ae55c",
   "metadata": {},
   "outputs": [],
   "source": [
    "ht <- pheatmap(\n",
    "  t(data_df),\n",
    "  color         = plasma(300),\n",
    "  cluster_rows  = FALSE,\n",
    "  cluster_cols  = FALSE,\n",
    "  show_rownames = TRUE,\n",
    "  show_colnames = TRUE,\n",
    "  fontsize  = 15,\n",
    "  angle_col     = 90,     \n",
    "  silent        = TRUE    \n",
    ")\n",
    "\n",
    "ggsave(\n",
    "  filename = \"./figure3/250422_correlation_heatmap_2.svg\",\n",
    "  plot     = ht,   \n",
    "  device   = \"svg\",       \n",
    "  width    = 5.5,           \n",
    "  height   = 4\n",
    ")"
   ]
  },
  {
   "cell_type": "code",
   "execution_count": null,
   "id": "c318e96f-64be-4075-a834-c16a151b87fa",
   "metadata": {},
   "outputs": [],
   "source": []
  },
  {
   "cell_type": "code",
   "execution_count": null,
   "id": "500ff889-555b-4896-bff4-0b71f0e4a077",
   "metadata": {},
   "outputs": [],
   "source": [
    "object <- readRDS(\"./RDS/250520.combined_3.4_visium_label_update_hires.rds\")"
   ]
  },
  {
   "cell_type": "code",
   "execution_count": null,
   "id": "db1de4e5-a775-4ad2-8604-71a775a5b475",
   "metadata": {},
   "outputs": [],
   "source": [
    "object"
   ]
  },
  {
   "cell_type": "code",
   "execution_count": null,
   "id": "7e8fe19e-d163-4706-b1cd-61bf64c85bc0",
   "metadata": {},
   "outputs": [],
   "source": [
    "object <- subset(object, idents = c(\"Neutrophilic pustule\", \"Eccrine gland coil\", \"Adipocyte\", \"Eccrine gland duct\"), invert = TRUE)\n"
   ]
  },
  {
   "cell_type": "code",
   "execution_count": null,
   "id": "9a225e7d-b8b5-42d0-aeec-568ad4591bef",
   "metadata": {},
   "outputs": [],
   "source": [
    "ref@meta.data$label3 <- as.character(ref@meta.data$label3)\n",
    "ref@meta.data$label3[ref@meta.data$label3 %in% c(\"BK-1\", \"BK-2\", \"BK-3\")] <- \"BK-1-3\"\n",
    "ref@meta.data$label3[ref@meta.data$label3 %in% c(\"SBK-1\", \"SBK-2\")] <- \"SBK-1-2\"\n",
    "ref@meta.data$label3[ref@meta.data$label3 %in% c(\"SBK-3\", \"SBK-4\")] <- \"SBK-3-4\""
   ]
  },
  {
   "cell_type": "code",
   "execution_count": null,
   "id": "3e6da8b3-50d1-4d4f-a6a5-ae25595038cc",
   "metadata": {},
   "outputs": [],
   "source": [
    "ref@meta.data$label3[ref@meta.data$label3 %in% c(\"Superficial FIB\", \"FRC-like FIB\", \"Inf universal FIB\", \"Universal FIB\")] <- \"Fibroblast\""
   ]
  },
  {
   "cell_type": "code",
   "execution_count": null,
   "id": "c3cc01c5-3368-4d71-9cdb-45d875978834",
   "metadata": {
    "scrolled": true
   },
   "outputs": [],
   "source": [
    "anchors <- FindTransferAnchors(reference = ref, query = object, normalization.method=\"LogNormalize\")\n",
    "predictions.assay <- TransferData(anchorset = anchors, refdata = ref$label3, prediction.assay = TRUE,\n",
    "    weight.reduction = object[[\"pca\"]], dims = 1:30)\n",
    "object[[\"predictions\"]] <- predictions.assay"
   ]
  },
  {
   "cell_type": "code",
   "execution_count": null,
   "id": "5599db28-704b-461f-8cd5-2c673a0255c5",
   "metadata": {},
   "outputs": [],
   "source": [
    "row_order <- c(\"BK-1-3\", \"SBK-1-2\", \"SBK-3-4\", \"SBK-5\", \"Th17\", \"CD4em\", \"CD4n\", \"CD8/NK\", \"pDC\", \"mDC\", \"cDC2-2\", \"cDC2-1\", \"Macrophage\", \"Fibroblast\", \"Endothelial\", \"Pericyte\")"
   ]
  },
  {
   "cell_type": "code",
   "execution_count": null,
   "id": "68ee476e-d4a0-4c57-bb15-bb2798a4bcc1",
   "metadata": {},
   "outputs": [],
   "source": [
    "col_order <- c('Basal KC','Differentiating KC','Terminally diff KC','Pustular KC', 'Lymphoid-CCL19+ niche','pDC','a/mDC', 'Inflammatory Fib/Mac','Fibroblast', 'Endo/Peri')"
   ]
  },
  {
   "cell_type": "code",
   "execution_count": null,
   "id": "44484764-d7c4-4bd2-a483-69a639525983",
   "metadata": {},
   "outputs": [],
   "source": [
    "data_matrix <- object@assays[[\"predictions\"]]@data\n",
    "data_matrix <- data_matrix[rownames(data_matrix) != \"max\", ]\n",
    "\n",
    "cell_types <- object$label\n",
    "cell_ids <- colnames(data_matrix)\n",
    "cell_ids_by_type <- split(cell_ids, cell_types[cell_ids])\n",
    "\n",
    "sum_values <- matrix(NA, nrow = nrow(data_matrix), ncol = length(unique(cell_types)))\n",
    "colnames(sum_values) <- unique(cell_types)\n",
    "for (cell_type in unique(cell_types)) {\n",
    "  selected_columns <- cell_ids_by_type[[cell_type]]\n",
    "  sum_values[, cell_type] <- rowSums(data_matrix[, selected_columns, drop = FALSE])\n",
    "}\n",
    "rownames(sum_values) <- rownames(data_matrix)\n",
    "\n",
    "min_max_standarize <- function(x) {\n",
    "  (x - min(x)) / (max(x) - min(x))\n",
    "}\n",
    "\n",
    "data <- t(apply(sum_values, 1, min_max_standarize))\n",
    "data_df <- as.data.frame(data)\n",
    "colnames(data_df) <- colnames(sum_values)\n",
    "rownames(data_df) <- rownames(sum_values)"
   ]
  },
  {
   "cell_type": "code",
   "execution_count": null,
   "id": "b7426b55-3111-4966-83c8-2fbddfe11b05",
   "metadata": {},
   "outputs": [],
   "source": [
    "colnames(sum_values)"
   ]
  },
  {
   "cell_type": "code",
   "execution_count": null,
   "id": "f6be7693-4d91-4551-8838-9eca40feac64",
   "metadata": {},
   "outputs": [],
   "source": [
    "rownames(sum_values)"
   ]
  },
  {
   "cell_type": "code",
   "execution_count": null,
   "id": "c415f576-eca6-4720-9c85-acb4404a2f54",
   "metadata": {},
   "outputs": [],
   "source": [
    "data_df <- data_df[row_order, col_order, drop=FALSE]"
   ]
  },
  {
   "cell_type": "code",
   "execution_count": null,
   "id": "2818c673-ab0d-45b6-8d4b-c9c9f8d77844",
   "metadata": {},
   "outputs": [],
   "source": [
    "pheatmap(t(data_df), \n",
    "                   color = plasma(300), \n",
    "                   cluster_rows = FALSE, \n",
    "                   cluster_cols = FALSE,\n",
    "                   show_rownames = TRUE,          \n",
    "                   show_colnames = TRUE,\n",
    "                   fontsize = 15,   \n",
    "                   angle_col = \"90\")"
   ]
  },
  {
   "cell_type": "code",
   "execution_count": null,
   "id": "2eb699eb-c940-40fa-b97e-1cdb432ab27a",
   "metadata": {},
   "outputs": [],
   "source": []
  },
  {
   "cell_type": "code",
   "execution_count": null,
   "id": "2286f969-5117-4bcb-a912-2fa1887a3325",
   "metadata": {},
   "outputs": [],
   "source": []
  }
 ],
 "metadata": {
  "kernelspec": {
   "display_name": "R_seurat5_240625",
   "language": "R",
   "name": "r_seurat5_240625"
  },
  "language_info": {
   "codemirror_mode": "r",
   "file_extension": ".r",
   "mimetype": "text/x-r-source",
   "name": "R",
   "pygments_lexer": "r",
   "version": "4.3.3"
  }
 },
 "nbformat": 4,
 "nbformat_minor": 5
}
