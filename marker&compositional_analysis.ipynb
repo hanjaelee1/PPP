{
 "cells": [
  {
   "cell_type": "markdown",
   "id": "7b0476bf-0c3d-4834-a9f8-0675168f6a91",
   "metadata": {},
   "source": [
    "#marker&compositional analysis"
   ]
  },
  {
   "cell_type": "code",
   "execution_count": null,
   "id": "53ff1028-2e1e-4877-a5b5-90c1185342a8",
   "metadata": {},
   "outputs": [],
   "source": [
    "import scanpy as sc, numpy as np, pandas as pd\n",
    "import seaborn as sns\n",
    "from scipy.stats import median_abs_deviation\n",
    "import scvi"
   ]
  },
  {
   "cell_type": "code",
   "execution_count": null,
   "id": "8498079b-b8d6-4600-8f6f-0e3df3d8cf8c",
   "metadata": {},
   "outputs": [],
   "source": [
    "scvi.settings.seed = 0"
   ]
  },
  {
   "cell_type": "code",
   "execution_count": null,
   "id": "9d1a3b3c-f99b-420c-8657-92f3c8829a28",
   "metadata": {},
   "outputs": [],
   "source": [
    "import torch\n",
    "print(torch.cuda.is_available())"
   ]
  },
  {
   "cell_type": "code",
   "execution_count": null,
   "id": "cc26bba2-bcf9-46b5-a372-caaad887a9c2",
   "metadata": {},
   "outputs": [],
   "source": [
    "from matplotlib.pyplot import rc_context\n",
    "from matplotlib import pyplot as plt"
   ]
  },
  {
   "cell_type": "code",
   "execution_count": null,
   "id": "903d389d-e173-4b24-97f8-ee76080d3c25",
   "metadata": {},
   "outputs": [],
   "source": [
    "import os\n",
    "os.environ[\"R_HOME\"] = \"/data/User/revolvefire/miniforge3/envs/rpy_base_240331/lib/R\"\n",
    "os.environ['LD_LIBRARY_PATH'] = \"/data/User/revolvefire/miniforge3/envs/rpy_base_240331/lib/R/bin\""
   ]
  },
  {
   "cell_type": "code",
   "execution_count": null,
   "id": "84b2b8c4-c584-4bf9-a116-44b2e9817893",
   "metadata": {},
   "outputs": [],
   "source": [
    "import anndata2ri\n",
    "import logging"
   ]
  },
  {
   "cell_type": "code",
   "execution_count": null,
   "id": "7ec3f775-e175-43ad-b1e5-5f8910fc2c37",
   "metadata": {},
   "outputs": [],
   "source": [
    "import rpy2.rinterface_lib.callbacks as rcb\n",
    "import rpy2.robjects as ro\n",
    "print(ro.r(\".libPaths()\"))\n",
    "\n",
    "rcb.logger.setLevel(logging.ERROR)\n",
    "ro.pandas2ri.activate()\n",
    "anndata2ri.activate()\n",
    "\n",
    "%load_ext rpy2.ipython"
   ]
  },
  {
   "cell_type": "code",
   "execution_count": null,
   "id": "f33337ac-ee7b-4913-86d2-b3ff724906c9",
   "metadata": {},
   "outputs": [],
   "source": [
    "from time import gmtime, strftime\n",
    "strftime(\"%Y-%m-%d %H:%M:%S\", gmtime())"
   ]
  },
  {
   "cell_type": "code",
   "execution_count": null,
   "id": "0f759ae4-1038-47ed-8b4f-0e932079a485",
   "metadata": {},
   "outputs": [],
   "source": [
    "mainDir = \"/mnt/gmi-l1/_90.User_Data/revolvefire/fastq/PPP_GMI\""
   ]
  },
  {
   "cell_type": "code",
   "execution_count": null,
   "id": "564c6095-bd01-40f2-b564-421beb66a5d9",
   "metadata": {},
   "outputs": [],
   "source": [
    "objectDir = \"/mnt/gmi-l1/_90.User_Data/revolvefire/projects/3.PPP_231118/231128_PPP/scobject/\""
   ]
  },
  {
   "cell_type": "code",
   "execution_count": null,
   "id": "21f257d1-82b2-44ff-b0ad-64f3bf4a5326",
   "metadata": {},
   "outputs": [],
   "source": [
    "adata = sc.read(objectDir+ \"/241216.2000count.5ribo.scVIintegrated.fullgene.melanocyte.label2.recolor.h5ad\")"
   ]
  },
  {
   "cell_type": "code",
   "execution_count": null,
   "id": "4d9ab672-58a9-43bf-901f-92171789fea2",
   "metadata": {},
   "outputs": [],
   "source": [
    "adata"
   ]
  },
  {
   "cell_type": "code",
   "execution_count": null,
   "id": "e4fe426b-4a06-4aef-9407-2c96d21d204e",
   "metadata": {},
   "outputs": [],
   "source": [
    "sc.set_figure_params(scanpy=True, dpi=150, dpi_save=300)"
   ]
  },
  {
   "cell_type": "code",
   "execution_count": null,
   "id": "c65f80c3-a445-4553-bd46-a2cb819cfdcb",
   "metadata": {},
   "outputs": [],
   "source": [
    "sc.pl.umap(\n",
    "    adata,\n",
    "    color=[\"label2\"], frameon=False, add_outline=True, size=10, legend_fontsize=\"x-small\", save=\"241216.umap.svg\",)"
   ]
  },
  {
   "cell_type": "code",
   "execution_count": null,
   "id": "3d638c7a-cd1d-494c-851c-a72c0c5b75cf",
   "metadata": {},
   "outputs": [],
   "source": [
    "# Plot the UMAP with custom colors\n",
    "sc.pl.umap(\n",
    "    adata,\n",
    "    color=\"bulk_ident\",\n",
    "    frameon=False,\n",
    "    add_outline=True,\n",
    "    size=20, save=\"241216.bulk.umap.svg\", title=None\n",
    ")"
   ]
  },
  {
   "cell_type": "code",
   "execution_count": null,
   "id": "475fc70a-eca4-472c-b7cf-3e986d66cc1a",
   "metadata": {},
   "outputs": [],
   "source": [
    "sc.set_figure_params(scanpy=True, dpi=150, dpi_save=300)"
   ]
  },
  {
   "cell_type": "code",
   "execution_count": null,
   "id": "0948c904-52d1-4008-9cfe-6327dfe1dc77",
   "metadata": {},
   "outputs": [],
   "source": [
    "markers=['PTTG1', 'FOXM1', 'TP63', 'ITGB4', 'KRT5', 'KRT14', 'KRT1', 'KRT10', 'TGM1', 'IVL','SPRR2G', 'SPINK5', 'KRT6A', 'KRT16', 'CD68', 'HLA-DRA', 'CD3D', 'CD3E', 'TYRP1', 'MLANA', 'PECAM1', 'CLDN5', 'TAGLN', 'ACTA2', 'PDGFRA', 'LUM']\n",
    "sc.pl.dotplot(adata, markers, groupby='label2', standard_scale=\"var\", cmap=\"Spectral_r\", show=False)\n",
    "\n",
    "fig = plt.gcf()     \n",
    "ax = fig.axes[0]  \n",
    "\n",
    "tick_labels = [tick.get_text() for tick in ax.get_xticklabels()]\n",
    "italic_labels = [f\"$\\\\mathit{{{label}}}$\" for label in tick_labels]\n",
    "tick_positions = np.arange(len(tick_labels)) + 0.5  \n",
    "\n",
    "ax.set_xticks(tick_positions)\n",
    "ax.set_xticklabels(italic_labels)\n",
    "\n",
    "fig.savefig(\"./figure1/250311.dotplot.svg\", dpi=300, bbox_inches=\"tight\")\n",
    "plt.show()"
   ]
  },
  {
   "cell_type": "code",
   "execution_count": null,
   "id": "033b79f2-d888-42d4-8416-ba4a5da1ff1a",
   "metadata": {},
   "outputs": [],
   "source": [
    "import matplotlib\n",
    "import matplotlib.pyplot as plt\n",
    "import pertpy as pt\n",
    "plt.rcParams[\"figure.figsize\"] = (7, 7)\n",
    "sc.settings.verbosity = 3"
   ]
  },
  {
   "cell_type": "markdown",
   "id": "749860f3-29b5-4dc4-99da-7f379a02e98f",
   "metadata": {},
   "source": []
  },
  {
   "cell_type": "code",
   "execution_count": null,
   "id": "25af4d5f-e98c-4b6d-9d27-2793ed0ce7a8",
   "metadata": {},
   "outputs": [],
   "source": [
    "## Initialize object for Milo analysis\n",
    "milo = pt.tl.Milo()\n",
    "mdata = milo.load(adata)"
   ]
  },
  {
   "cell_type": "code",
   "execution_count": null,
   "id": "a628716d-2a01-43e0-b9ce-f960a227b977",
   "metadata": {},
   "outputs": [],
   "source": [
    "mdata"
   ]
  },
  {
   "cell_type": "code",
   "execution_count": null,
   "id": "e6dae202-ba3e-4841-ab56-b3b56758c00a",
   "metadata": {},
   "outputs": [],
   "source": [
    "sc.pp.neighbors(mdata[\"rna\"], use_rep=\"X_scVI\", n_neighbors=30)"
   ]
  },
  {
   "cell_type": "code",
   "execution_count": null,
   "id": "2de63c2a-77ef-479c-97be-bd7e5fb17acb",
   "metadata": {},
   "outputs": [],
   "source": [
    "milo.make_nhoods(mdata[\"rna\"], prop=1) "
   ]
  },
  {
   "cell_type": "code",
   "execution_count": null,
   "id": "fdf3afc3-7328-4db9-924e-bda8120742aa",
   "metadata": {},
   "outputs": [],
   "source": [
    "mdata[\"rna\"].obsm[\"nhoods\"]"
   ]
  },
  {
   "cell_type": "code",
   "execution_count": null,
   "id": "e0e5bdfb-b3fb-4905-b47f-17f073ca563a",
   "metadata": {},
   "outputs": [],
   "source": [
    "mdata[\"rna\"][mdata[\"rna\"].obs[\"nhood_ixs_refined\"] != 0].obs[[\"nhood_ixs_refined\", \"nhood_kth_distance\"]]"
   ]
  },
  {
   "cell_type": "code",
   "execution_count": null,
   "id": "3ec5bcfb-a447-405e-901d-832d2dc1bed8",
   "metadata": {},
   "outputs": [],
   "source": [
    "nhood_size = np.array(mdata[\"rna\"].obsm[\"nhoods\"].sum(0)).ravel()\n",
    "plt.hist(nhood_size, bins=100)\n",
    "plt.xlabel(\"# cells in nhood\")\n",
    "plt.ylabel(\"# nhoods\");"
   ]
  },
  {
   "cell_type": "code",
   "execution_count": null,
   "id": "500e2f94-d24d-4b62-bd45-92cd8bdd2d22",
   "metadata": {},
   "outputs": [],
   "source": [
    "mdata = milo.count_nhoods(mdata, sample_col=\"orig_ident\")"
   ]
  },
  {
   "cell_type": "code",
   "execution_count": null,
   "id": "38b2a074-6bb3-42ef-b685-8851bc0659f3",
   "metadata": {},
   "outputs": [],
   "source": [
    "mdata"
   ]
  },
  {
   "cell_type": "code",
   "execution_count": null,
   "id": "f70ae927-5cc3-4aa3-9eb3-99370fc48877",
   "metadata": {},
   "outputs": [],
   "source": [
    "mdata[\"milo\"]"
   ]
  },
  {
   "cell_type": "code",
   "execution_count": null,
   "id": "5158ee67-0d8c-4761-84d6-d2cc77f4e287",
   "metadata": {},
   "outputs": [],
   "source": [
    "# Reorder categories\n",
    "# (by default, the last category is taken as the condition of interest)\n",
    "mdata[\"rna\"].obs[\"bulk_ident2\"] = mdata[\"rna\"].obs[\"bulk_ident2\"].cat.reorder_categories([\"HC\", \"Peri-lesion\", \"Lesion\"])"
   ]
  },
  {
   "cell_type": "code",
   "execution_count": null,
   "id": "c55c2fcd-7207-481d-9ddf-825138adcd3f",
   "metadata": {},
   "outputs": [],
   "source": [
    "milo.da_nhoods(mdata, design=\"~bulk_ident\")"
   ]
  },
  {
   "cell_type": "code",
   "execution_count": null,
   "id": "c52c960a-903d-4029-8082-f25bb8badb79",
   "metadata": {},
   "outputs": [],
   "source": [
    "mdata[\"milo\"]"
   ]
  },
  {
   "cell_type": "code",
   "execution_count": null,
   "id": "a6126a53-ec63-42e3-a8b3-12991729c76a",
   "metadata": {},
   "outputs": [],
   "source": [
    "mean_n_cells = mdata[\"milo\"].X.toarray().mean(0)\n",
    "plt.plot(nhood_size, mean_n_cells, \".\")\n",
    "plt.xlabel(\"# cells in nhood\")\n",
    "plt.ylabel(\"Mean # cells per sample in nhood\")"
   ]
  },
  {
   "cell_type": "code",
   "execution_count": null,
   "id": "845af417-8ed7-4a94-82cc-6ea4d6708253",
   "metadata": {},
   "outputs": [],
   "source": [
    "mdata[\"milo\"].obs"
   ]
  },
  {
   "cell_type": "code",
   "execution_count": null,
   "id": "97ff2a06-5572-403d-b8ae-89601141276f",
   "metadata": {},
   "outputs": [],
   "source": [
    "mdata[\"milo\"].var"
   ]
  },
  {
   "cell_type": "code",
   "execution_count": null,
   "id": "01e00ba5-4bed-4a03-9e5f-b08b2fb0be12",
   "metadata": {},
   "outputs": [],
   "source": [
    "old_figsize = plt.rcParams[\"figure.figsize\"]\n",
    "plt.rcParams[\"figure.figsize\"] = [10, 5]\n",
    "plt.subplot(1, 2, 1)\n",
    "plt.hist(mdata[\"milo\"].var.PValue, bins=50)\n",
    "plt.xlabel(\"P-Vals\")\n",
    "plt.subplot(1, 2, 2)\n",
    "plt.plot(mdata[\"milo\"].var.logFC, -np.log10(mdata[\"milo\"].var.SpatialFDR), \".\")\n",
    "plt.xlabel(\"log-Fold Change\")\n",
    "plt.ylabel(\"- log10(Spatial FDR)\")\n",
    "plt.tight_layout()\n",
    "plt.rcParams[\"figure.figsize\"] = old_figsize"
   ]
  },
  {
   "cell_type": "code",
   "execution_count": null,
   "id": "c1ca8309-0cc3-490e-ba76-c39d146014f5",
   "metadata": {},
   "outputs": [],
   "source": [
    "milo.build_nhood_graph(mdata)"
   ]
  },
  {
   "cell_type": "code",
   "execution_count": null,
   "id": "8e6d999b-1216-444d-babf-568713ab2d2a",
   "metadata": {},
   "outputs": [],
   "source": [
    "plt.rcParams[\"figure.figsize\"] = [4,4]\n",
    "milo.plot_nhood_graph(\n",
    "    mdata,\n",
    "    alpha=0.2,  \n",
    "    min_size=1,  \n",
    "    plot_edges=False\n",
    ")"
   ]
  },
  {
   "cell_type": "code",
   "execution_count": null,
   "id": "894e5407-a2e6-43cb-8595-0ae7578e3c22",
   "metadata": {},
   "outputs": [],
   "source": [
    "milo.annotate_nhoods(mdata, anno_col=\"label2\")"
   ]
  },
  {
   "cell_type": "code",
   "execution_count": null,
   "id": "1ca0a3e8-70cb-4905-8864-dab4c80ad739",
   "metadata": {},
   "outputs": [],
   "source": [
    "plt.hist(mdata[\"milo\"].var[\"nhood_annotation_frac\"], bins=30)\n",
    "plt.xlabel(\"celltype fraction\")"
   ]
  },
  {
   "cell_type": "code",
   "execution_count": null,
   "id": "7e424ceb-bf9c-46a2-85cd-3504ae48fc72",
   "metadata": {},
   "outputs": [],
   "source": []
  },
  {
   "cell_type": "code",
   "execution_count": null,
   "id": "f9bfd7e0-91a0-405e-a40a-581b155fb93c",
   "metadata": {},
   "outputs": [],
   "source": [
    "import pandas"
   ]
  },
  {
   "cell_type": "code",
   "execution_count": null,
   "id": "e49ba067-77c6-4ab5-953b-cadfb52f5d41",
   "metadata": {},
   "outputs": [],
   "source": [
    "# Add the new category to the existing categories\n",
    "mdata[\"milo\"].var[\"nhood_annotation\"] = mdata[\"milo\"].var[\"nhood_annotation\"].cat.add_categories(\"Mixed\")"
   ]
  },
  {
   "cell_type": "code",
   "execution_count": null,
   "id": "670abd04-1d89-4545-973b-2c78e7993795",
   "metadata": {},
   "outputs": [],
   "source": [
    "mdata[\"milo\"].var.loc[mdata[\"milo\"].var[\"nhood_annotation_frac\"] < 0.6, \"nhood_annotation\"] = \"Mixed\""
   ]
  },
  {
   "cell_type": "code",
   "execution_count": null,
   "id": "19b80141-3327-4888-97cf-1c4fb319ca33",
   "metadata": {},
   "outputs": [],
   "source": [
    "milo.plot_da_beeswarm(mdata, alpha=0.2)"
   ]
  },
  {
   "cell_type": "code",
   "execution_count": null,
   "id": "c26487fe-1ecb-4fb7-b57e-e41741d297cb",
   "metadata": {},
   "outputs": [],
   "source": [
    "color = {\n",
    "    \"BK-1\": \"#1f77b4\",\n",
    "    \"BK-2\": \"#17becf\",\n",
    "    \"BK-3\": \"#279e68\",\n",
    "    \"SBK-1\": \"#b5bd61\",\n",
    "    \"SBK-2\": \"#aa40fc\",\n",
    "    \"SBK-3\": \"#ff9896\",\n",
    "    \"SBK-4\": \"#e377c2\",\n",
    "    \"SBK-5\": \"#d62728\",\n",
    "    \"Myeloid cell\": \"#ffbb78\",\n",
    "    \"Lymphocyte\": \"#aec7e8\",\n",
    "    \"Melanocyte\": \"#ff7f0e\",\n",
    "    \"Endothelial\": \"#98df8a\",\n",
    "    \"Pericyte\": \"#8c564b\",\n",
    "    \"Fibroblast\": \"#c5b0d5\",\n",
    "    'Mixed': '#aeaeae',\n",
    "}"
   ]
  },
  {
   "cell_type": "code",
   "execution_count": null,
   "id": "a7fa6cc7-56e3-439f-8c7c-d8dad285b2b6",
   "metadata": {},
   "outputs": [],
   "source": [
    "plt.rcParams[\"figure.figsize\"] = (6, 6)"
   ]
  },
  {
   "cell_type": "code",
   "execution_count": null,
   "id": "a8283e6e-cb0f-4f4c-877b-f792704da746",
   "metadata": {},
   "outputs": [],
   "source": [
    "# Assuming you have a list of unique categories in the 'nhood_annotation' column\n",
    "unique_categories = mdata[\"milo\"].var[\"nhood_annotation\"].unique()\n",
    "\n",
    "# Define a color palette (using seaborn or manually)\n",
    "palette = sns.color_palette(\"hsv\", len(unique_categories))  # or any other palette\n",
    "\n",
    "# Map the palette to the unique categories\n",
    "#color_mapping = dict(zip(unique_categories, palette))\n",
    "\n",
    "# Now, pass the color mapping to the plot function\n",
    "ax = milo.plot_da_beeswarm(mdata, alpha=0.2, palette=color)\n",
    "ax.grid(False)  # Disable the grid on the current axis\n",
    "\n",
    "fig = ax.get_figure()  # Access the figure from the axis\n",
    "fig.savefig(\"241217.milo.svg\", dpi=300, bbox_inches=\"tight\")\n",
    "\n",
    "plt.show()"
   ]
  },
  {
   "cell_type": "code",
   "execution_count": null,
   "id": "300bf027-d9f8-47d2-894c-3bfc32f75ba9",
   "metadata": {},
   "outputs": [],
   "source": [
    "plt.rcParams[\"figure.figsize\"] = [3, 6]"
   ]
  },
  {
   "cell_type": "code",
   "execution_count": null,
   "id": "9ee54870-1be7-4c14-bb7c-4530aa6be623",
   "metadata": {},
   "outputs": [],
   "source": [
    "adata = sc.read(objectDir+ \"/250311.2000count.5ribo.scVIintegrated.fullgene.melanocyte.label2.recolor.pustular.h5ad\")"
   ]
  },
  {
   "cell_type": "code",
   "execution_count": null,
   "id": "1cb2d67e-2434-4fab-a691-7d2ee4ec23a5",
   "metadata": {},
   "outputs": [],
   "source": [
    "import pandas as pd\n",
    "from matplotlib.pyplot import rc_context\n",
    "from matplotlib import pyplot as plt\n",
    "\n",
    "tmp = pd.crosstab(adata.obs['bulk_ident2'], adata.obs['label2'], normalize='index')\n",
    "\n",
    "column_order = [\n",
    "    \"BK-1\", \"BK-2\", \"BK-3\", \"SBK-1\", \"SBK-2\", \"SBK-3\", \"SBK-4\", \"SBK-5\",\n",
    "    \"Fibroblast\", \"Pericyte\", \"Endothelial\", \"Melanocyte\",\n",
    "    \"Lymphocyte\", \"Myeloid cell\"\n",
    "]\n",
    "tmp = tmp[column_order]\n",
    "\n",
    "counts = adata.obs['bulk_ident2'].value_counts().reindex(tmp.index)\n",
    "\n",
    "colors = {\n",
    "    \"BK-1\": \"#1f77b4\",\n",
    "    \"BK-2\": \"#17becf\",\n",
    "    \"BK-3\": \"#279e68\",\n",
    "    \"SBK-1\": \"#b5bd61\",\n",
    "    \"SBK-2\": \"#aa40fc\",\n",
    "    \"SBK-3\": \"#ff9896\",\n",
    "    \"SBK-4\": \"#e377c2\",\n",
    "    \"SBK-5\": \"#d62728\",\n",
    "    \"Myeloid cell\": \"#ffbb78\",\n",
    "    \"Lymphocyte\": \"#aec7e8\",\n",
    "    \"Melanocyte\": \"#ff7f0e\",\n",
    "    \"Endothelial\": \"#98df8a\",\n",
    "    \"Pericyte\": \"#8c564b\",\n",
    "    \"Fibroblast\": \"#c5b0d5\"\n",
    "}\n",
    "\n",
    "with rc_context():\n",
    "    fig, ax = plt.subplots(figsize=(3, 6))\n",
    "    tmp.plot.bar(stacked=True, color=colors, ax=ax)\n",
    "\n",
    "    for container in ax.containers:\n",
    "        for patch in container:\n",
    "            patch.set_edgecolor('black')\n",
    "            patch.set_linewidth(0.5)\n",
    "\n",
    "    ax.set_xlabel('')\n",
    "\n",
    "    plt.xticks(rotation=0)\n",
    "    \n",
    "    xticks = ax.get_xticks()\n",
    "    for i, group in enumerate(tmp.index):\n",
    "        total = counts.loc[group]\n",
    "        ax.text(xticks[i], 1.02, f\"N={total}\", ha='center', va='bottom', transform=ax.get_xaxis_transform())\n",
    "\n",
    "    plt.grid(False)\n",
    "    plt.ylim(0, 1)\n",
    "    plt.legend(loc='upper right', bbox_to_anchor=(1.7, 1.02), reverse=True)\n",
    "    plt.savefig('250403.barplot.svg', dpi=300, bbox_inches='tight')\n",
    "    plt.show()"
   ]
  },
  {
   "cell_type": "code",
   "execution_count": null,
   "id": "75e99ed5-dd31-46f1-a255-831779e018f0",
   "metadata": {},
   "outputs": [],
   "source": []
  }
 ],
 "metadata": {
  "kernelspec": {
   "display_name": "rpy_base_240331_pertpy",
   "language": "python",
   "name": "rpy_base_240331_pertpy"
  },
  "language_info": {
   "codemirror_mode": {
    "name": "ipython",
    "version": 3
   },
   "file_extension": ".py",
   "mimetype": "text/x-python",
   "name": "python",
   "nbconvert_exporter": "python",
   "pygments_lexer": "ipython3",
   "version": "3.11.8"
  }
 },
 "nbformat": 4,
 "nbformat_minor": 5
}
