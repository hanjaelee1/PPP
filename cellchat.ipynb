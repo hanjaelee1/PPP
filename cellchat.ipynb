{
 "cells": [
  {
   "cell_type": "markdown",
   "id": "b64b3b3a-009a-4ccd-b148-f1c0fa54970e",
   "metadata": {},
   "source": [
    "## CCI"
   ]
  },
  {
   "cell_type": "code",
   "execution_count": null,
   "id": "accd0b9a-ff95-4b71-9378-eee4d1e8cf0f",
   "metadata": {},
   "outputs": [],
   "source": [
    "library(Seurat)\n",
    "library(ggplot2)\n",
    "library(patchwork)\n",
    "library(dplyr)"
   ]
  },
  {
   "cell_type": "code",
   "execution_count": null,
   "id": "b793b02e-05be-469f-bb94-5d7db77d95ac",
   "metadata": {},
   "outputs": [],
   "source": []
  },
  {
   "cell_type": "code",
   "execution_count": null,
   "id": "d24b594f-0af5-42b6-a195-1ff69f56c68b",
   "metadata": {},
   "outputs": [],
   "source": [
    "PL <- readRDS(\"./RDS/250416_PL_rawcounts.rds\")"
   ]
  },
  {
   "cell_type": "code",
   "execution_count": null,
   "id": "63494fe1-9924-4593-b029-6c4efff9af2d",
   "metadata": {},
   "outputs": [],
   "source": [
    "PL <- NormalizeData(PL)"
   ]
  },
  {
   "cell_type": "code",
   "execution_count": null,
   "id": "dcf86f63-a4e5-413f-920f-f85fe4c0bf77",
   "metadata": {},
   "outputs": [],
   "source": []
  },
  {
   "cell_type": "code",
   "execution_count": null,
   "id": "76c5a4f9-9793-4706-8da8-8b1e937fb018",
   "metadata": {},
   "outputs": [],
   "source": [
    "NPL <- readRDS(\"./RDS/250416_NPL_rawcounts.rds\")"
   ]
  },
  {
   "cell_type": "code",
   "execution_count": null,
   "id": "99b72caa-8473-456a-b1b1-e3ec7dec37b8",
   "metadata": {},
   "outputs": [],
   "source": [
    "NPL <- NormalizeData(NPL)"
   ]
  },
  {
   "cell_type": "code",
   "execution_count": null,
   "id": "825f38dd-0761-457a-9beb-99082519fb96",
   "metadata": {},
   "outputs": [],
   "source": []
  },
  {
   "cell_type": "code",
   "execution_count": null,
   "id": "46c9a175-0595-4a6c-956b-134c95f1b2ff",
   "metadata": {},
   "outputs": [],
   "source": [
    "HC <- readRDS(\"./RDS/250416_HC_rawcounts.rds\")"
   ]
  },
  {
   "cell_type": "code",
   "execution_count": null,
   "id": "6f171876-5054-400c-b044-cbf91a13dd74",
   "metadata": {},
   "outputs": [],
   "source": [
    "HC <- NormalizeData(HC)"
   ]
  },
  {
   "cell_type": "code",
   "execution_count": null,
   "id": "a895c3cf-56c9-44f7-870f-62d3ec670b1c",
   "metadata": {},
   "outputs": [],
   "source": [
    "library(CellChat)\n",
    "library(patchwork)\n",
    "options(stringsAsFactors = FALSE)"
   ]
  },
  {
   "cell_type": "code",
   "execution_count": null,
   "id": "a8f51f97-b4dc-4cd4-bda2-31d2b71365d6",
   "metadata": {},
   "outputs": [],
   "source": [
    "Idents(HC) <- \"label3\"\n",
    "Idents(NPL) <- \"label3\"\n",
    "Idents(PL) <- \"label3\""
   ]
  },
  {
   "cell_type": "code",
   "execution_count": null,
   "id": "e1ba60a4-f5d4-491d-8e48-bd9b04daeade",
   "metadata": {},
   "outputs": [],
   "source": [
    "Idents(HC) <- \"label3\"\n",
    "levels(HC)"
   ]
  },
  {
   "cell_type": "code",
   "execution_count": null,
   "id": "4054b869-5eb7-438c-9b45-deb2760b450a",
   "metadata": {},
   "outputs": [],
   "source": [
    "Idents(NPL) <- \"label3\"\n",
    "levels(NPL)"
   ]
  },
  {
   "cell_type": "code",
   "execution_count": null,
   "id": "2ca0eb23-37f3-4a87-a4b6-d0ac6d05b4ee",
   "metadata": {},
   "outputs": [],
   "source": [
    "Idents(PL) <- \"label3\"\n",
    "levels(PL)"
   ]
  },
  {
   "cell_type": "code",
   "execution_count": null,
   "id": "07557465-b309-452f-bbc2-dac7291ec23c",
   "metadata": {},
   "outputs": [],
   "source": []
  },
  {
   "cell_type": "code",
   "execution_count": null,
   "id": "516483c3-a663-4ae1-839d-a97cf2c88daa",
   "metadata": {},
   "outputs": [],
   "source": [
    "seurat_object <- HC"
   ]
  },
  {
   "cell_type": "code",
   "execution_count": null,
   "id": "444f1632-f8ea-4beb-a689-3cbcc717f6e8",
   "metadata": {
    "scrolled": true
   },
   "outputs": [],
   "source": [
    "Idents(seurat_object)"
   ]
  },
  {
   "cell_type": "code",
   "execution_count": null,
   "id": "8b3e7560-df46-45c1-b985-175d98a1177c",
   "metadata": {},
   "outputs": [],
   "source": [
    "new.order <- c('BK-1', 'BK-2', 'BK-3', 'SBK-1', 'SBK-2', 'SBK-3', 'SBK-4', 'SBK-5', 'Superficial FIB', 'FRC-like FIB', 'Universal FIB', 'Inf universal FIB', 'Schwann-like FIB', 'Th17', 'CD4em', 'CD4n', 'CD8/NK', 'pDC', 'mDC', 'cDC2-2', 'cDC2-1', 'Macrophage', 'Mast cell', 'Pericyte', 'Endothelial', 'Melanocyte')  "
   ]
  },
  {
   "cell_type": "code",
   "execution_count": null,
   "id": "c63306b3-650d-4c33-838e-e17ba69c4541",
   "metadata": {},
   "outputs": [],
   "source": [
    "Idents(seurat_object)  <- factor(Idents(seurat_object), levels = new.order)"
   ]
  },
  {
   "cell_type": "code",
   "execution_count": null,
   "id": "c094c0c4-076b-461d-a915-8e299e7e1183",
   "metadata": {
    "scrolled": true
   },
   "outputs": [],
   "source": [
    "Idents(seurat_object)"
   ]
  },
  {
   "cell_type": "code",
   "execution_count": null,
   "id": "b6bdfeb2-391f-44aa-9c20-fc7cad8d3df7",
   "metadata": {},
   "outputs": [],
   "source": [
    "data.input <- seurat_object[[\"RNA\"]]$data # normalized data matrix\n",
    "# For Seurat version >= “5.0.0”, get the normalized data via `seurat_object[[\"RNA\"]]$data`\n",
    "labels <- Idents(seurat_object)\n",
    "meta <- data.frame(labels = labels, row.names = names(labels)) # create a dataframe of the cell labels"
   ]
  },
  {
   "cell_type": "code",
   "execution_count": null,
   "id": "ea7e64f2-d38d-41aa-b352-0abc525362ca",
   "metadata": {},
   "outputs": [],
   "source": [
    "cellchat <- createCellChat(object = data.input, meta = meta, group.by = \"labels\")"
   ]
  },
  {
   "cell_type": "code",
   "execution_count": null,
   "id": "24a15223-2249-43c6-a229-dfd144b58927",
   "metadata": {},
   "outputs": [],
   "source": [
    "CellChatDB <- CellChatDB.human # use CellChatDB.human if running on human data\n",
    "showDatabaseCategory(CellChatDB)"
   ]
  },
  {
   "cell_type": "code",
   "execution_count": null,
   "id": "536e0464-fd2a-4eaa-b053-cdcab4b2039d",
   "metadata": {},
   "outputs": [],
   "source": [
    "CellChatDB.use <- subsetDB(CellChatDB, search = \"Secreted Signaling\", key = \"annotation\") # use Secreted Signaling"
   ]
  },
  {
   "cell_type": "code",
   "execution_count": null,
   "id": "3ec5d6f9-85e7-4c9f-95b8-576c879d32ee",
   "metadata": {},
   "outputs": [],
   "source": [
    "# set the used database in the object\n",
    "cellchat@DB <- CellChatDB.use"
   ]
  },
  {
   "cell_type": "code",
   "execution_count": null,
   "id": "c1968a9b-97cf-4c69-9e68-b13276990ebc",
   "metadata": {},
   "outputs": [],
   "source": [
    "library(future)"
   ]
  },
  {
   "cell_type": "code",
   "execution_count": null,
   "id": "853e62bb-d437-4fbe-804a-42f1edd88d67",
   "metadata": {},
   "outputs": [],
   "source": [
    "plan(multisession, workers = 4)"
   ]
  },
  {
   "cell_type": "code",
   "execution_count": null,
   "id": "f9a0d9cf-16ce-4fd3-b159-7aeb08ae4ec4",
   "metadata": {},
   "outputs": [],
   "source": [
    "# subset the expression data of signaling genes for saving computation cost\n",
    "cellchat <- subsetData(cellchat) # This step is necessary even if using the whole database\n",
    "cellchat <- identifyOverExpressedGenes(cellchat)\n",
    "cellchat <- identifyOverExpressedInteractions(cellchat)"
   ]
  },
  {
   "cell_type": "code",
   "execution_count": null,
   "id": "b0c0362e-7e7e-4e64-bd6e-ac93dcc7f1e3",
   "metadata": {},
   "outputs": [],
   "source": [
    "cellchat <- computeCommunProb(cellchat, type = \"triMean\")"
   ]
  },
  {
   "cell_type": "code",
   "execution_count": null,
   "id": "34b52830-64cc-474f-b65e-a043ae746779",
   "metadata": {},
   "outputs": [],
   "source": [
    "cellchat <- filterCommunication(cellchat, min.cells = 10)"
   ]
  },
  {
   "cell_type": "code",
   "execution_count": null,
   "id": "17c3af86-b3a5-42c4-bf16-39e11ccf1fbb",
   "metadata": {},
   "outputs": [],
   "source": [
    "cellchat <- computeCommunProbPathway(cellchat)"
   ]
  },
  {
   "cell_type": "code",
   "execution_count": null,
   "id": "02a032e4-c018-47ff-962d-815748ed21bc",
   "metadata": {},
   "outputs": [],
   "source": [
    "cellchat <- aggregateNet(cellchat)"
   ]
  },
  {
   "cell_type": "code",
   "execution_count": null,
   "id": "c1789a33-cc67-4560-9010-76b0062f08dd",
   "metadata": {},
   "outputs": [],
   "source": [
    "cellchat <- netAnalysis_computeCentrality(cellchat, slot.name = \"netP\") "
   ]
  },
  {
   "cell_type": "code",
   "execution_count": null,
   "id": "74111ada-836a-47f9-a5d1-cfb8f03b24f9",
   "metadata": {},
   "outputs": [],
   "source": [
    "HC_cellchat <- cellchat"
   ]
  },
  {
   "cell_type": "code",
   "execution_count": null,
   "id": "af3cdd85-408c-461e-b8e1-1713fa5e4ed8",
   "metadata": {},
   "outputs": [],
   "source": []
  },
  {
   "cell_type": "code",
   "execution_count": null,
   "id": "486571d1-e5fa-4db5-9fe3-88303705fc82",
   "metadata": {},
   "outputs": [],
   "source": [
    "seurat_object <- NPL"
   ]
  },
  {
   "cell_type": "code",
   "execution_count": null,
   "id": "974ac9f7-3977-450a-9a8d-6307f229fbef",
   "metadata": {
    "scrolled": true
   },
   "outputs": [],
   "source": [
    "Idents(seurat_object)"
   ]
  },
  {
   "cell_type": "code",
   "execution_count": null,
   "id": "8aed003b-d12f-4705-9849-b7a15043173f",
   "metadata": {},
   "outputs": [],
   "source": [
    "new.order <- c('BK-1', 'BK-2', 'BK-3', 'SBK-1', 'SBK-2', 'SBK-3', 'SBK-4', 'SBK-5', 'Superficial FIB', 'FRC-like FIB', 'Universal FIB', 'Inf universal FIB', 'Schwann-like FIB', 'Th17', 'CD4em', 'CD4n', 'CD8/NK', 'pDC', 'mDC', 'cDC2-2', 'cDC2-1', 'Macrophage', 'Mast cell', 'Pericyte', 'Endothelial', 'Melanocyte')  "
   ]
  },
  {
   "cell_type": "code",
   "execution_count": null,
   "id": "10c0310e-e589-4112-8702-0ed2796ac954",
   "metadata": {},
   "outputs": [],
   "source": [
    "Idents(seurat_object)  <- factor(Idents(seurat_object), levels = new.order)"
   ]
  },
  {
   "cell_type": "code",
   "execution_count": null,
   "id": "46458f01-fb5e-498a-bcde-26b7849f075b",
   "metadata": {},
   "outputs": [],
   "source": [
    "Idents(seurat_object)"
   ]
  },
  {
   "cell_type": "code",
   "execution_count": null,
   "id": "cce7309f-625d-41e2-a0fc-df105cfe50f9",
   "metadata": {},
   "outputs": [],
   "source": [
    "data.input <- seurat_object[[\"RNA\"]]$data # normalized data matrix\n",
    "# For Seurat version >= “5.0.0”, get the normalized data via `seurat_object[[\"RNA\"]]$data`\n",
    "labels <- Idents(seurat_object)\n",
    "meta <- data.frame(labels = labels, row.names = names(labels)) # create a dataframe of the cell labels"
   ]
  },
  {
   "cell_type": "code",
   "execution_count": null,
   "id": "76cebcbf-b17e-4ae9-8762-843e793d49bc",
   "metadata": {},
   "outputs": [],
   "source": [
    "cellchat <- createCellChat(object = data.input, meta = meta, group.by = \"labels\")"
   ]
  },
  {
   "cell_type": "code",
   "execution_count": null,
   "id": "3ea2e0ef-076a-4edc-a68f-67b55e1d19b3",
   "metadata": {},
   "outputs": [],
   "source": [
    "cellchat"
   ]
  },
  {
   "cell_type": "code",
   "execution_count": null,
   "id": "dd568357-5b7e-401d-9032-d8da24876c53",
   "metadata": {},
   "outputs": [],
   "source": [
    "CellChatDB <- CellChatDB.human # use CellChatDB.human if running on human data\n",
    "showDatabaseCategory(CellChatDB)"
   ]
  },
  {
   "cell_type": "code",
   "execution_count": null,
   "id": "b87d79fb-086a-4173-a9ce-380f80bbd8ac",
   "metadata": {},
   "outputs": [],
   "source": [
    "CellChatDB.use <- subsetDB(CellChatDB, search = \"Secreted Signaling\", key = \"annotation\") # use Secreted Signaling"
   ]
  },
  {
   "cell_type": "code",
   "execution_count": null,
   "id": "7a799845-8c61-4293-a37a-ccef4fb034db",
   "metadata": {},
   "outputs": [],
   "source": [
    "# set the used database in the object\n",
    "cellchat@DB <- CellChatDB.use"
   ]
  },
  {
   "cell_type": "code",
   "execution_count": null,
   "id": "8416ee9c-8f32-4a25-a622-4e42d351b871",
   "metadata": {},
   "outputs": [],
   "source": [
    "# subset the expression data of signaling genes for saving computation cost\n",
    "cellchat <- subsetData(cellchat) # This step is necessary even if using the whole database\n",
    "cellchat <- identifyOverExpressedGenes(cellchat)\n",
    "cellchat <- identifyOverExpressedInteractions(cellchat)"
   ]
  },
  {
   "cell_type": "code",
   "execution_count": null,
   "id": "472fd9a3-8ce1-4e39-9a09-d032cc3dd42c",
   "metadata": {},
   "outputs": [],
   "source": [
    "cellchat <- computeCommunProb(cellchat, type = \"triMean\")"
   ]
  },
  {
   "cell_type": "code",
   "execution_count": null,
   "id": "b436e4f4-3f9c-4648-b9bb-146dfa45b747",
   "metadata": {},
   "outputs": [],
   "source": [
    "cellchat <- filterCommunication(cellchat, min.cells = 10)"
   ]
  },
  {
   "cell_type": "code",
   "execution_count": null,
   "id": "17b130f7-8cdd-40e4-a2f4-e1fe6ba1e6d6",
   "metadata": {},
   "outputs": [],
   "source": [
    "cellchat <- computeCommunProbPathway(cellchat)"
   ]
  },
  {
   "cell_type": "code",
   "execution_count": null,
   "id": "a1ea9049-cf87-4162-be19-2f17c0502959",
   "metadata": {},
   "outputs": [],
   "source": [
    "cellchat <- aggregateNet(cellchat)"
   ]
  },
  {
   "cell_type": "code",
   "execution_count": null,
   "id": "688b0102-b30d-443a-abd8-36cb470bede1",
   "metadata": {},
   "outputs": [],
   "source": [
    "cellchat <- netAnalysis_computeCentrality(cellchat, slot.name = \"netP\") "
   ]
  },
  {
   "cell_type": "code",
   "execution_count": null,
   "id": "ac8075f2-5331-4574-8951-81a3d4d0c8a4",
   "metadata": {},
   "outputs": [],
   "source": [
    "NPL_cellchat <- cellchat"
   ]
  },
  {
   "cell_type": "code",
   "execution_count": null,
   "id": "e7af9618-d971-4b5c-a950-16cddc058907",
   "metadata": {},
   "outputs": [],
   "source": []
  },
  {
   "cell_type": "code",
   "execution_count": null,
   "id": "9ea509d4-d63a-4703-8199-53e5d3dd75c3",
   "metadata": {},
   "outputs": [],
   "source": [
    "seurat_object <- PL"
   ]
  },
  {
   "cell_type": "code",
   "execution_count": null,
   "id": "dcfc49ef-9bd7-4a73-9d10-996b30bc5589",
   "metadata": {
    "scrolled": true
   },
   "outputs": [],
   "source": [
    "Idents(seurat_object)"
   ]
  },
  {
   "cell_type": "code",
   "execution_count": null,
   "id": "b3a8542e-2e70-4833-8f18-799ccb5da15f",
   "metadata": {},
   "outputs": [],
   "source": [
    "new.order <- c('BK-1', 'BK-2', 'BK-3', 'SBK-1', 'SBK-2', 'SBK-3', 'SBK-4', 'SBK-5', 'Superficial FIB', 'FRC-like FIB', 'Universal FIB', 'Inf universal FIB', 'Schwann-like FIB', 'Th17', 'CD4em', 'CD4n', 'CD8/NK', 'pDC', 'mDC', 'cDC2-2', 'cDC2-1', 'Macrophage', 'Mast cell', 'Pericyte', 'Endothelial', 'Melanocyte')  "
   ]
  },
  {
   "cell_type": "code",
   "execution_count": null,
   "id": "e4a7b1a0-446b-4f7b-9338-99d9987ef3ab",
   "metadata": {},
   "outputs": [],
   "source": [
    "Idents(seurat_object)  <- factor(Idents(seurat_object), levels = new.order)"
   ]
  },
  {
   "cell_type": "code",
   "execution_count": null,
   "id": "d9dc900d-f3e6-41be-8e38-c5f93cbf3a7c",
   "metadata": {},
   "outputs": [],
   "source": [
    "Idents(seurat_object)"
   ]
  },
  {
   "cell_type": "code",
   "execution_count": null,
   "id": "aaf5f19f-889c-443e-b650-fabd25e47403",
   "metadata": {},
   "outputs": [],
   "source": [
    "data.input <- seurat_object[[\"RNA\"]]$data # normalized data matrix\n",
    "# For Seurat version >= “5.0.0”, get the normalized data via `seurat_object[[\"RNA\"]]$data`\n",
    "labels <- Idents(seurat_object)\n",
    "meta <- data.frame(labels = labels, row.names = names(labels)) # create a dataframe of the cell labels"
   ]
  },
  {
   "cell_type": "code",
   "execution_count": null,
   "id": "f3ecbe55-84be-4bc3-967e-0075b85cb8a4",
   "metadata": {},
   "outputs": [],
   "source": [
    "cellchat <- createCellChat(object = data.input, meta = meta, group.by = \"labels\")"
   ]
  },
  {
   "cell_type": "code",
   "execution_count": null,
   "id": "d0eafac3-d725-4a6b-95c8-a47f1544559c",
   "metadata": {},
   "outputs": [],
   "source": [
    "cellchat"
   ]
  },
  {
   "cell_type": "code",
   "execution_count": null,
   "id": "5b71ce62-a26c-4b08-a59f-599f7de406e8",
   "metadata": {},
   "outputs": [],
   "source": [
    "CellChatDB <- CellChatDB.human # use CellChatDB.human if running on human data\n",
    "showDatabaseCategory(CellChatDB)"
   ]
  },
  {
   "cell_type": "code",
   "execution_count": null,
   "id": "5cdabd07-cc01-44e2-bb6e-94fd8b340ad8",
   "metadata": {},
   "outputs": [],
   "source": [
    "CellChatDB.use <- subsetDB(CellChatDB, search = \"Secreted Signaling\", key = \"annotation\") # use Secreted Signaling"
   ]
  },
  {
   "cell_type": "code",
   "execution_count": null,
   "id": "8d192052-660a-4797-b2c1-3237524c20e7",
   "metadata": {},
   "outputs": [],
   "source": [
    "# set the used database in the object\n",
    "cellchat@DB <- CellChatDB.use"
   ]
  },
  {
   "cell_type": "code",
   "execution_count": null,
   "id": "946e5254-63b5-4b48-9f6c-cf3590fc7571",
   "metadata": {},
   "outputs": [],
   "source": [
    "# subset the expression data of signaling genes for saving computation cost\n",
    "cellchat <- subsetData(cellchat) # This step is necessary even if using the whole database\n",
    "cellchat <- identifyOverExpressedGenes(cellchat)\n",
    "cellchat <- identifyOverExpressedInteractions(cellchat)"
   ]
  },
  {
   "cell_type": "code",
   "execution_count": null,
   "id": "3cb08804-5198-46b9-8e3d-1d4a77176f9e",
   "metadata": {},
   "outputs": [],
   "source": [
    "cellchat <- computeCommunProb(cellchat, type = \"triMean\")"
   ]
  },
  {
   "cell_type": "code",
   "execution_count": null,
   "id": "1c81eea1-d8c8-4dc3-971c-2fd7f262c772",
   "metadata": {},
   "outputs": [],
   "source": [
    "cellchat <- filterCommunication(cellchat, min.cells = 10)"
   ]
  },
  {
   "cell_type": "code",
   "execution_count": null,
   "id": "a7377ad9-d9d5-413b-b9be-0b02ca76976b",
   "metadata": {},
   "outputs": [],
   "source": [
    "cellchat <- computeCommunProbPathway(cellchat)"
   ]
  },
  {
   "cell_type": "code",
   "execution_count": null,
   "id": "47116ea5-817f-4ccb-b940-9692bdfd415c",
   "metadata": {},
   "outputs": [],
   "source": [
    "cellchat <- aggregateNet(cellchat)"
   ]
  },
  {
   "cell_type": "code",
   "execution_count": null,
   "id": "a3127800-5113-43d2-a8a4-609f04e6fbb5",
   "metadata": {},
   "outputs": [],
   "source": [
    "cellchat <- netAnalysis_computeCentrality(cellchat, slot.name = \"netP\") "
   ]
  },
  {
   "cell_type": "code",
   "execution_count": null,
   "id": "a534aec8-2f35-4f42-8f6c-03691b64db05",
   "metadata": {},
   "outputs": [],
   "source": [
    "PL_cellchat <- cellchat"
   ]
  },
  {
   "cell_type": "code",
   "execution_count": null,
   "id": "2e5598b6-0c84-4af0-867f-484fdbd74c3f",
   "metadata": {},
   "outputs": [],
   "source": []
  },
  {
   "cell_type": "code",
   "execution_count": null,
   "id": "3bd7edac-a3ab-4240-8744-965db290af8f",
   "metadata": {},
   "outputs": [],
   "source": [
    "HC_cellchat"
   ]
  },
  {
   "cell_type": "code",
   "execution_count": null,
   "id": "e5263455-d048-4b38-9d07-9784500df0d0",
   "metadata": {},
   "outputs": [],
   "source": [
    "NPL_cellchat"
   ]
  },
  {
   "cell_type": "code",
   "execution_count": null,
   "id": "30ff552d-aa6e-4cf6-ab60-fdd827d2b3c6",
   "metadata": {},
   "outputs": [],
   "source": [
    "PL_cellchat"
   ]
  },
  {
   "cell_type": "code",
   "execution_count": null,
   "id": "93e03d65-2efe-40ba-9df3-71d601650d34",
   "metadata": {},
   "outputs": [],
   "source": []
  },
  {
   "cell_type": "code",
   "execution_count": null,
   "id": "66851ab9-8aaf-4f23-9ca2-7b45f3394e47",
   "metadata": {},
   "outputs": [],
   "source": [
    "group.new = levels(PL_cellchat@idents)\n",
    "HC_cellchat <- liftCellChat(HC_cellchat, group.new)"
   ]
  },
  {
   "cell_type": "code",
   "execution_count": null,
   "id": "63a782c5-ac39-43fc-b18f-e0357c45d57d",
   "metadata": {},
   "outputs": [],
   "source": [
    "group.new = levels(PL_cellchat@idents)\n",
    "NPL_cellchat <- liftCellChat(NPL_cellchat, group.new)"
   ]
  },
  {
   "cell_type": "code",
   "execution_count": null,
   "id": "b203f85f-f04f-48c2-9fa2-325cceed1a82",
   "metadata": {},
   "outputs": [],
   "source": []
  },
  {
   "cell_type": "code",
   "execution_count": null,
   "id": "5fac38c4-0cc1-4037-82c4-b929289ac59c",
   "metadata": {},
   "outputs": [],
   "source": [
    "object.list <- list(HC = HC_cellchat, NPL=NPL_cellchat, PL = PL_cellchat)\n",
    "cellchat <- mergeCellChat(object.list, add.names = names(object.list), cell.prefix = TRUE)"
   ]
  },
  {
   "cell_type": "code",
   "execution_count": null,
   "id": "7c145516-1b40-4958-896a-ec7e75eaa809",
   "metadata": {},
   "outputs": [],
   "source": []
  },
  {
   "cell_type": "code",
   "execution_count": null,
   "id": "ea8b713d-f462-4f2d-934e-f15a98fa514a",
   "metadata": {},
   "outputs": [],
   "source": [
    "cellchat"
   ]
  },
  {
   "cell_type": "code",
   "execution_count": null,
   "id": "a7a48947-a1e7-496e-bf80-85480e1995a4",
   "metadata": {
    "scrolled": true
   },
   "outputs": [],
   "source": [
    "cellchat@idents"
   ]
  },
  {
   "cell_type": "code",
   "execution_count": null,
   "id": "6283ce5b-f6fb-4849-8ab8-cad29c88320b",
   "metadata": {},
   "outputs": [],
   "source": []
  },
  {
   "cell_type": "code",
   "execution_count": null,
   "id": "7db3ff22-8185-49f9-87d5-ea564af65fd4",
   "metadata": {},
   "outputs": [],
   "source": [
    "par(mfrow = c(1,2), xpd=TRUE)\n",
    "netVisual_diffInteraction(cellchat, weight.scale = T)\n",
    "netVisual_diffInteraction(cellchat, weight.scale = T, measure = \"weight\")"
   ]
  },
  {
   "cell_type": "code",
   "execution_count": null,
   "id": "f2624a71-5931-41bb-99ae-d358f487a689",
   "metadata": {},
   "outputs": [],
   "source": [
    "gg1 <- compareInteractions(cellchat, show.legend = F, group = c(3))\n",
    "gg1"
   ]
  },
  {
   "cell_type": "code",
   "execution_count": null,
   "id": "cb79e12f-7d95-46f3-94ff-07a2b2066d53",
   "metadata": {},
   "outputs": [],
   "source": []
  },
  {
   "cell_type": "code",
   "execution_count": null,
   "id": "b8199e90-315c-41ca-9aae-86fcaf78f171",
   "metadata": {},
   "outputs": [],
   "source": [
    "library(svglite)"
   ]
  },
  {
   "cell_type": "code",
   "execution_count": null,
   "id": "281c1206-d70b-4709-ae23-27e0dc2b89f1",
   "metadata": {},
   "outputs": [],
   "source": []
  },
  {
   "cell_type": "code",
   "execution_count": null,
   "id": "dd6be3da-2700-4a94-9264-b50808b3933c",
   "metadata": {},
   "outputs": [],
   "source": [
    "weight.max <- getMaxWeight(object.list, attribute = c(\"idents\",\"count\"))\n",
    "par(mfrow = c(1,3), xpd=TRUE)\n",
    "for (i in 1:length(object.list)) {\n",
    "  netVisual_circle(object.list[[i]]@net$count, weight.scale = T, label.edge= F, edge.weight.max = weight.max[2], edge.width.max = 12, title.name = paste0(\"Number of interactions - \", names(object.list)[i]))\n",
    "}"
   ]
  },
  {
   "cell_type": "code",
   "execution_count": null,
   "id": "731adc78-eedd-4b0f-af42-19c1524d5df9",
   "metadata": {},
   "outputs": [],
   "source": [
    "options(repr.plot.width=10, repr.plot.height=5, repr.plot.res = 300)"
   ]
  },
  {
   "cell_type": "code",
   "execution_count": null,
   "id": "42b8314b-5e3e-4c96-8767-c8c4e579b89f",
   "metadata": {},
   "outputs": [],
   "source": [
    "pathways.show <- c(\"CXCL\") \n",
    "weight.max <- getMaxWeight(object.list, slot.name = c(\"netP\"), attribute = pathways.show) # control the edge weights across different datasets\n",
    "par(mfrow = c(1,3), xpd=TRUE)\n",
    "for (i in 1:length(object.list)) {\n",
    "  netVisual_aggregate(object.list[[i]], signaling = pathways.show, layout = \"circle\", edge.weight.max = weight.max[1], edge.width.max = 10, signaling.name = paste(pathways.show, names(object.list)[i]))\n",
    "}"
   ]
  },
  {
   "cell_type": "code",
   "execution_count": null,
   "id": "9dd10180-d9aa-41e1-a31e-d9689291540f",
   "metadata": {},
   "outputs": [],
   "source": [
    "saveRDS(HC_cellchat, \"./RDS/250529.HC_Cellchat.rds\")"
   ]
  },
  {
   "cell_type": "code",
   "execution_count": null,
   "id": "06dc77c7-7bc8-41c6-b376-868784243fbd",
   "metadata": {},
   "outputs": [],
   "source": [
    "saveRDS(NPL_cellchat, \"./RDS/250529.NPL_Cellchat.rds\")"
   ]
  },
  {
   "cell_type": "code",
   "execution_count": null,
   "id": "0611c8f7-9efa-4c1e-a232-e8aca0a81c95",
   "metadata": {},
   "outputs": [],
   "source": [
    "saveRDS(PL_cellchat, \"./RDS/250529.PL_Cellchat.rds\")"
   ]
  },
  {
   "cell_type": "code",
   "execution_count": null,
   "id": "9cf2241a-de8c-4cc3-84e6-9e0307263569",
   "metadata": {},
   "outputs": [],
   "source": [
    "options(repr.plot.width=4, repr.plot.height=3, repr.plot.res =300)"
   ]
  },
  {
   "cell_type": "code",
   "execution_count": null,
   "id": "c7b6ad5e-7ff1-4835-b955-354df278c17b",
   "metadata": {},
   "outputs": [],
   "source": [
    "# (1) show all the significant interactions (L-R pairs) from some cell groups (defined by 'sources.use') to other cell groups (defined by 'targets.use')\n",
    "netVisual_bubble(PL_cellchat, sources.use = c(1:8), remove.isolate = FALSE, signaling = c(\"CCL\",\"CXCL\"), title.name = 'PL Keratinocyte derived CXCL/CCL interactions ')"
   ]
  },
  {
   "cell_type": "code",
   "execution_count": null,
   "id": "b7d1f431-5a5e-4a46-94a8-7b1802964f2a",
   "metadata": {},
   "outputs": [],
   "source": [
    "svglite(\n",
    "  file   = \"./figure_s2/250531_PL_keratinocytes_bubble.svg\",\n",
    "  width  = 4,    # adjust as needed\n",
    "  height = 3\n",
    ")\n",
    "\n",
    "netVisual_bubble(PL_cellchat, sources.use = c(1:8), remove.isolate = FALSE, signaling = c(\"CCL\",\"CXCL\"), title.name = 'PL Keratinocyte derived CXCL/CCL interactions')\n",
    "\n",
    "\n",
    "dev.off()"
   ]
  },
  {
   "cell_type": "code",
   "execution_count": null,
   "id": "efed93e4-88a5-4b26-84a3-b360e16baea0",
   "metadata": {},
   "outputs": [],
   "source": []
  },
  {
   "cell_type": "code",
   "execution_count": null,
   "id": "c627cbe6-837a-4f89-98a6-b69d6e95e0c7",
   "metadata": {},
   "outputs": [],
   "source": [
    "options(repr.plot.width=4, repr.plot.height=1.5, repr.plot.res =300)"
   ]
  },
  {
   "cell_type": "code",
   "execution_count": null,
   "id": "0bfa3e8f-50e2-4dc3-ba8a-24dde252518f",
   "metadata": {},
   "outputs": [],
   "source": [
    "# (1) show all the significant interactions (L-R pairs) from some cell groups (defined by 'sources.use') to other cell groups (defined by 'targets.use')\n",
    "netVisual_bubble(NPL_cellchat, sources.use = c(1:8), remove.isolate = FALSE, signaling = c(\"CCL\",\"CXCL\"), angle.x=90, title.name = 'NPL Keratinocyte derived CXCL/CCL interactions')"
   ]
  },
  {
   "cell_type": "code",
   "execution_count": null,
   "id": "a09955cb-c1be-4137-b5d6-891513865e28",
   "metadata": {},
   "outputs": [],
   "source": [
    "svglite(\n",
    "  file   = \"./figure_s2/250531_NPL_keratinocytes_bubble.svg\",\n",
    "  width  = 4,    # adjust as needed\n",
    "  height = 1.5\n",
    ")\n",
    "\n",
    "netVisual_bubble(NPL_cellchat, sources.use = c(1:8), remove.isolate = FALSE, signaling = c(\"CCL\",\"CXCL\"), angle.x=90, title.name = 'NPL Keratinocyte derived CXCL/CCL interactions')\n",
    "\n",
    "\n",
    "dev.off()"
   ]
  },
  {
   "cell_type": "code",
   "execution_count": null,
   "id": "576c6010-9946-43df-81be-8f87ee50490c",
   "metadata": {},
   "outputs": [],
   "source": [
    "options(repr.plot.width=4, repr.plot.height=1.8, repr.plot.res =300)"
   ]
  },
  {
   "cell_type": "code",
   "execution_count": null,
   "id": "6d8c9b45-bfb5-43c0-a5fb-cba9ffd2ed6c",
   "metadata": {
    "scrolled": true
   },
   "outputs": [],
   "source": [
    "# (1) show all the significant interactions (L-R pairs) from some cell groups (defined by 'sources.use') to other cell groups (defined by 'targets.use')\n",
    "netVisual_bubble(HC_cellchat, sources.use = c(1:8), remove.isolate = FALSE, signaling = c(\"CCL\",\"CXCL\"), angle.x=90, title.name = 'HC Keratinocyte derived CXCL/CCL interactions')"
   ]
  },
  {
   "cell_type": "code",
   "execution_count": null,
   "id": "fa0c759d-213a-4d5a-b36a-207091c54d74",
   "metadata": {},
   "outputs": [],
   "source": [
    "svglite(\n",
    "  file   = \"./figure_s2/250531_HC_keratinocytes_bubble.svg\",\n",
    "  width  = 4,    # adjust as needed\n",
    "  height = 1.8\n",
    ")\n",
    "\n",
    "netVisual_bubble(HC_cellchat, sources.use = c(1:8), remove.isolate = FALSE, signaling = c(\"CCL\",\"CXCL\"), angle.x=90, title.name = 'HC Keratinocyte derived CXCL/CCL interactions')\n",
    "\n",
    "\n",
    "dev.off()"
   ]
  },
  {
   "cell_type": "code",
   "execution_count": null,
   "id": "7dea6020-d3c0-40c4-8d26-3ef0b5d1f0a9",
   "metadata": {},
   "outputs": [],
   "source": [
    "options(repr.plot.width=11, repr.plot.height=3.5, repr.plot.res =300)"
   ]
  },
  {
   "cell_type": "code",
   "execution_count": null,
   "id": "e26f8c20-5ce1-4dd3-b515-8300289c9f4e",
   "metadata": {},
   "outputs": [],
   "source": [
    "# (1) show all the significant interactions (L-R pairs) from some cell groups (defined by 'sources.use') to other cell groups (defined by 'targets.use')\n",
    "netVisual_bubble(PL_cellchat, sources.use = c(9:13), remove.isolate = TRUE, signaling = c(\"CCL\",\"CXCL\"), angle.x=90, title.name = 'PL\bFibroblast derived CXCL/CCL interactions')"
   ]
  },
  {
   "cell_type": "code",
   "execution_count": null,
   "id": "7784c72b-3bd1-4090-8e50-d6195114c09f",
   "metadata": {},
   "outputs": [],
   "source": [
    "svglite(\n",
    "  file   = \"./figure_s2/250531_PL_fibroblast_bubble.svg\",\n",
    "  width  = 12,    # adjust as needed\n",
    "  height = 3.7\n",
    ")\n",
    "\n",
    "netVisual_bubble(PL_cellchat, sources.use = c(9:13), remove.isolate = TRUE, signaling = c(\"CCL\",\"CXCL\"), angle.x=90, title.name = 'PL Fibroblast derived CXCL/CCL interactions')\n",
    "\n",
    "\n",
    "dev.off()"
   ]
  },
  {
   "cell_type": "code",
   "execution_count": null,
   "id": "85b5f6ca-cde7-4def-959e-1b1cd1ec18d4",
   "metadata": {},
   "outputs": [],
   "source": []
  },
  {
   "cell_type": "code",
   "execution_count": null,
   "id": "197c0391-82eb-4c83-8392-97837f557701",
   "metadata": {},
   "outputs": [],
   "source": [
    "options(repr.plot.width=12, repr.plot.height=2.5, repr.plot.res =300)"
   ]
  },
  {
   "cell_type": "code",
   "execution_count": null,
   "id": "6f9a8d9a-8151-4eb3-a82a-5e05fa647fc8",
   "metadata": {},
   "outputs": [],
   "source": [
    "# (1) show all the significant interactions (L-R pairs) from some cell groups (defined by 'sources.use') to other cell groups (defined by 'targets.use')\n",
    "netVisual_bubble(NPL_cellchat, sources.use = c(9:13), remove.isolate = TRUE, signaling = c(\"CCL\",\"CXCL\"), angle.x=90, title.name = 'NPL \bFibroblast derived CXCL/CCL interactions')"
   ]
  },
  {
   "cell_type": "code",
   "execution_count": null,
   "id": "8fa5ce3c-c894-4cfd-ab8e-cee2cbf0a2c3",
   "metadata": {},
   "outputs": [],
   "source": [
    "svglite(\n",
    "  file   = \"./figure_s2/250531_NPL_fibroblast_bubble.svg\",\n",
    "  width  = 12,    # adjust as needed\n",
    "  height = 2.5\n",
    ")\n",
    "\n",
    "netVisual_bubble(NPL_cellchat, sources.use = c(9:13), remove.isolate = TRUE, signaling = c(\"CCL\",\"CXCL\"), angle.x=90, title.name = 'NPL Fibroblast derived CXCL/CCL interactions')\n",
    "\n",
    "\n",
    "dev.off()"
   ]
  },
  {
   "cell_type": "code",
   "execution_count": null,
   "id": "24ce30bd-b236-4830-8add-bfdca7607ce2",
   "metadata": {},
   "outputs": [],
   "source": []
  },
  {
   "cell_type": "code",
   "execution_count": null,
   "id": "b1463c54-262c-4b57-a50d-b295af7fde32",
   "metadata": {},
   "outputs": [],
   "source": [
    "options(repr.plot.width=12, repr.plot.height=3.2, repr.plot.res =300)"
   ]
  },
  {
   "cell_type": "code",
   "execution_count": null,
   "id": "00ccdc88-35a4-47fa-8899-9f2a00c2df50",
   "metadata": {},
   "outputs": [],
   "source": [
    "# (1) show all the significant interactions (L-R pairs) from some cell groups (defined by 'sources.use') to other cell groups (defined by 'targets.use')\n",
    "netVisual_bubble(HC_cellchat, sources.use = c(9:13), remove.isolate = TRUE, signaling = c(\"CCL\",\"CXCL\"), angle.x=90, title.name = 'HC Fibroblast derived CXCL/CCL interactions')"
   ]
  },
  {
   "cell_type": "code",
   "execution_count": null,
   "id": "1825c0db-2ec0-48ee-b5e2-1f5faee081ca",
   "metadata": {},
   "outputs": [],
   "source": [
    "svglite(\n",
    "  file   = \"./figure_s2/250531_HC_fibroblast_bubble.svg\",\n",
    "  width  = 12,    # adjust as needed\n",
    "  height = 3.2\n",
    ")\n",
    "\n",
    "netVisual_bubble(HC_cellchat, sources.use = c(9:13), remove.isolate = TRUE, signaling = c(\"CCL\",\"CXCL\"), angle.x=90, title.name = 'HC Fibroblast derived CXCL/CCL interactions')\n",
    "\n",
    "\n",
    "dev.off()"
   ]
  },
  {
   "cell_type": "code",
   "execution_count": null,
   "id": "010b6bac-464f-441e-96d7-48a188062a23",
   "metadata": {},
   "outputs": [],
   "source": []
  },
  {
   "cell_type": "code",
   "execution_count": null,
   "id": "2e0ed0ec-1b4a-400e-a76a-9db6eb5c7558",
   "metadata": {},
   "outputs": [],
   "source": [
    "options(repr.plot.width=7, repr.plot.height=3.8, repr.plot.res =300)"
   ]
  },
  {
   "cell_type": "code",
   "execution_count": null,
   "id": "87f6776e-7a7c-4fa4-b0cb-e2a7fbd565f5",
   "metadata": {},
   "outputs": [],
   "source": [
    "# (1) show all the significant interactions (L-R pairs) from some cell groups (defined by 'sources.use') to other cell groups (defined by 'targets.use')\n",
    "netVisual_bubble(PL_cellchat, sources.use = c(14:22), remove.isolate = TRUE, signaling = c(\"CCL\",\"CXCL\"), angle.x=90, title.name = 'PL Immune cell derived CXCL/CCL interactions')"
   ]
  },
  {
   "cell_type": "code",
   "execution_count": null,
   "id": "474e322d-85dc-41c6-9e13-859df20b0bc4",
   "metadata": {},
   "outputs": [],
   "source": [
    "svglite(\n",
    "  file   = \"./figure_s2/250531_PL_immune_bubble.svg\",\n",
    "  width  = 7,    # adjust as needed\n",
    "  height = 3.8\n",
    ")\n",
    "\n",
    "netVisual_bubble(PL_cellchat, sources.use = c(14:22), remove.isolate = TRUE, signaling = c(\"CCL\",\"CXCL\"), angle.x=90, title.name = 'PL Immune cell derived CXCL/CCL interactions')\n",
    "\n",
    "\n",
    "dev.off()"
   ]
  },
  {
   "cell_type": "code",
   "execution_count": null,
   "id": "25a3533c-667c-4394-a082-d85a722eb453",
   "metadata": {},
   "outputs": [],
   "source": []
  },
  {
   "cell_type": "code",
   "execution_count": null,
   "id": "fd9d0ad6-f75a-4930-8007-604ba4d9375a",
   "metadata": {},
   "outputs": [],
   "source": [
    "options(repr.plot.width=7, repr.plot.height=2.3, repr.plot.res =300)"
   ]
  },
  {
   "cell_type": "code",
   "execution_count": null,
   "id": "edb33d2c-4cb4-4bb7-b4e4-04f0c557ed10",
   "metadata": {},
   "outputs": [],
   "source": [
    "# (1) show all the significant interactions (L-R pairs) from some cell groups (defined by 'sources.use') to other cell groups (defined by 'targets.use')\n",
    "netVisual_bubble(NPL_cellchat, sources.use = c(14:22), remove.isolate = TRUE, signaling = c(\"CCL\",\"CXCL\"), angle.x=90, title.name = 'NPL Immune cell derived CXCL/CCL interactions')"
   ]
  },
  {
   "cell_type": "code",
   "execution_count": null,
   "id": "37b5bc63-0eb9-4f8b-b7f9-650055617657",
   "metadata": {},
   "outputs": [],
   "source": [
    "svglite(\n",
    "  file   = \"./figure_s2/250531_NPL_immune_bubble.svg\",\n",
    "  width  = 7,    # adjust as needed\n",
    "  height = 2.3\n",
    ")\n",
    "\n",
    "netVisual_bubble(NPL_cellchat, sources.use = c(14:22), remove.isolate = TRUE, signaling = c(\"CCL\",\"CXCL\"), angle.x=90, title.name = 'NPL Immune cell derived CXCL/CCL interactions')\n",
    "\n",
    "\n",
    "dev.off()"
   ]
  },
  {
   "cell_type": "code",
   "execution_count": null,
   "id": "17b82585-0ebf-478d-960c-3a3e05d504e3",
   "metadata": {},
   "outputs": [],
   "source": []
  },
  {
   "cell_type": "code",
   "execution_count": null,
   "id": "1e3b6b53-f802-4195-84e8-819792846474",
   "metadata": {},
   "outputs": [],
   "source": [
    "options(repr.plot.width=7, repr.plot.height=1.3, repr.plot.res =300)"
   ]
  },
  {
   "cell_type": "code",
   "execution_count": null,
   "id": "18f3e9b9-1113-4b92-95c0-76e0c31cfbf9",
   "metadata": {},
   "outputs": [],
   "source": [
    "# (1) show all the significant interactions (L-R pairs) from some cell groups (defined by 'sources.use') to other cell groups (defined by 'targets.use')\n",
    "netVisual_bubble(HC_cellchat, sources.use = c(14:22), remove.isolate = TRUE, signaling = c(\"CCL\",\"CXCL\"), angle.x=45, title.name = 'HC Immune cell derived CXCL/CCL interactions')"
   ]
  },
  {
   "cell_type": "code",
   "execution_count": null,
   "id": "f614c8a8-62fc-4278-a25c-7312fc3a03eb",
   "metadata": {},
   "outputs": [],
   "source": [
    "svglite(\n",
    "  file   = \"./figure_s2/250531_HC_immune_bubble.svg\",\n",
    "  width  = 7,    # adjust as needed\n",
    "  height = 1.3\n",
    ")\n",
    "\n",
    "netVisual_bubble(HC_cellchat, sources.use = c(14:22), remove.isolate = TRUE, signaling = c(\"CCL\",\"CXCL\"), angle.x=45, title.name = 'HC Immune cell derived CXCL/CCL interactions')\n",
    "\n",
    "\n",
    "dev.off()"
   ]
  }
 ],
 "metadata": {
  "kernelspec": {
   "display_name": "R_seurat5_240625",
   "language": "R",
   "name": "r_seurat5_240625"
  },
  "language_info": {
   "codemirror_mode": "r",
   "file_extension": ".r",
   "mimetype": "text/x-r-source",
   "name": "R",
   "pygments_lexer": "r",
   "version": "4.3.3"
  }
 },
 "nbformat": 4,
 "nbformat_minor": 5
}
