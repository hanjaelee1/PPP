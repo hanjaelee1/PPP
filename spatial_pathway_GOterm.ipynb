{
 "cells": [
  {
   "cell_type": "markdown",
   "id": "01c36675-cf02-4460-8524-df1216c2f56a",
   "metadata": {},
   "source": [
    "## spatial pathway & GOterm"
   ]
  },
  {
   "cell_type": "code",
   "execution_count": null,
   "id": "e816016c-4da5-4d6c-a46b-ed561859a976",
   "metadata": {},
   "outputs": [],
   "source": [
    "import scanpy as sc\n",
    "import decoupler as dc\n",
    "import scipy.sparse as sp\n",
    "\n",
    "# Only needed for processing\n",
    "import numpy as np\n",
    "import pandas as pd\n",
    "\n",
    "# Plotting options, change to your liking\n",
    "sc.settings.set_figure_params(dpi=200, frameon=False)\n",
    "sc.set_figure_params(dpi=200)\n",
    "sc.set_figure_params(figsize=(4, 4))"
   ]
  },
  {
   "cell_type": "code",
   "execution_count": null,
   "id": "d4d78ca2-eda7-4b29-b7ea-2f61fec27e89",
   "metadata": {},
   "outputs": [],
   "source": [
    "from spatialdata_io import visium_hd\n",
    "import spatialdata as sd\n",
    "import matplotlib.pyplot as plt\n",
    "import spatialdata_plot"
   ]
  },
  {
   "cell_type": "code",
   "execution_count": null,
   "id": "495673cd-9e60-4d92-8a04-dd26111a9322",
   "metadata": {},
   "outputs": [],
   "source": [
    "import matplotlib as mpl\n",
    "mpl.rcParams['svg.fonttype'] = 'none'   # Ensure text remains as text in SVG"
   ]
  },
  {
   "cell_type": "code",
   "execution_count": null,
   "id": "86dcc634-f764-4bc1-9a13-1d9974e522a4",
   "metadata": {},
   "outputs": [],
   "source": [
    "sdata = sd.read_zarr(\"/data/User/revolvefire/projects/3.PPP_231118/231128_PPP/spatialdata\")\n",
    "sdata"
   ]
  },
  {
   "cell_type": "code",
   "execution_count": null,
   "id": "497d344a-bbf5-482e-bcf4-7f9da56b65a8",
   "metadata": {},
   "outputs": [],
   "source": [
    "for table in sdata.tables.values():\n",
    "    table.var_names_make_unique()\n",
    "\n",
    "axes = plt.subplots(1, 2, figsize=(10, 5))[1].flatten()\n",
    "sdata.pl.render_images(\"slide1_full_image\").pl.show(ax=axes[0], title=\"Full image\")\n",
    "sdata.pl.render_images(\"slide1_cytassist_image\").pl.show(ax=axes[1], title=\"CytAssit image\")\n",
    "\n",
    "from spatialdata import get_extent\n",
    "\n",
    "data_extent = get_extent(sdata[\"slide1_full_image\"], coordinate_system=\"global\")\n",
    "data_extent\n",
    "\n",
    "from spatialdata import bounding_box_query\n",
    "\n",
    "queried_cytassist = bounding_box_query(\n",
    "    sdata[\"slide1_cytassist_image\"],\n",
    "    min_coordinate=[data_extent[\"x\"][0], data_extent[\"y\"][0]],\n",
    "    max_coordinate=[data_extent[\"x\"][1], data_extent[\"y\"][1]],\n",
    "    axes=(\"x\", \"y\"),\n",
    "    target_coordinate_system=\"global\",\n",
    ")\n",
    "sdata[\"queried_cytassist\"] = queried_cytassist\n",
    "\n",
    "axes = plt.subplots(1, 2, figsize=(10, 5))[1].flatten()\n",
    "sdata.pl.render_images(\"slide1_full_image\").pl.show(ax=axes[0], title=\"Full image\")\n",
    "sdata.pl.render_images(\"queried_cytassist\").pl.show(ax=axes[1], title=\"CytAssit image\")\n",
    "\n"
   ]
  },
  {
   "cell_type": "code",
   "execution_count": null,
   "id": "a78c6cef-2812-4a53-9fa3-f819d9d2b065",
   "metadata": {},
   "outputs": [],
   "source": [
    "adata = sdata['square_008um']"
   ]
  },
  {
   "cell_type": "code",
   "execution_count": null,
   "id": "633f6b03-1a3d-4ea1-91e0-80fe5c1a5f51",
   "metadata": {},
   "outputs": [],
   "source": [
    "adata"
   ]
  },
  {
   "cell_type": "code",
   "execution_count": null,
   "id": "c7711bec-bf2c-456c-ab42-cb7fa1a27cd8",
   "metadata": {},
   "outputs": [],
   "source": [
    "cell_df = pd.read_csv('250422.s1_cell_labels.csv')  # columns: 'cell', 'label'\n",
    "keep_barcodes = cell_df['cell'].astype(str).unique()\n",
    "adata_subset = adata[adata.obs_names.isin(keep_barcodes)].copy()\n",
    "barcode2label = dict(zip(cell_df['cell'], cell_df['label']))\n",
    "adata_subset.obs['label'] = adata_subset.obs_names.map(barcode2label)\n",
    "\n",
    "print(adata_subset)\n",
    "adata_subset.obs['label'].value_counts(dropna=False).head()"
   ]
  },
  {
   "cell_type": "code",
   "execution_count": null,
   "id": "ae73fcac-abb3-48da-9e0f-ab08b612a425",
   "metadata": {},
   "outputs": [],
   "source": [
    "adata = adata_subset.copy()"
   ]
  },
  {
   "cell_type": "code",
   "execution_count": null,
   "id": "2a63c288-bef7-44e4-b2e6-19aeae447794",
   "metadata": {},
   "outputs": [],
   "source": [
    "adata.layers[\"counts\"] = adata.X.copy()  # preserve counts\n",
    "sc.pp.normalize_total(adata, target_sum=1e4)\n",
    "sc.pp.log1p(adata)"
   ]
  },
  {
   "cell_type": "code",
   "execution_count": null,
   "id": "b2560177-e06d-4b60-aecc-f2752d950b8e",
   "metadata": {},
   "outputs": [],
   "source": [
    "adata.layers['log_norm'] = adata.X.copy()"
   ]
  },
  {
   "cell_type": "code",
   "execution_count": null,
   "id": "0106eebe-0a2a-4a66-98ad-26448902ed10",
   "metadata": {},
   "outputs": [],
   "source": [
    "import liana as li"
   ]
  },
  {
   "cell_type": "code",
   "execution_count": null,
   "id": "a8f76f4e-acc4-4871-bab8-09a335cbadd5",
   "metadata": {},
   "outputs": [],
   "source": [
    "plot, _ = li.ut.query_bandwidth(coordinates=adata.obsm['spatial'], start=0, end=50, interval_n=10)\n",
    "plot"
   ]
  },
  {
   "cell_type": "code",
   "execution_count": null,
   "id": "3b088005-f2bb-461f-ae01-e3525759cd6e",
   "metadata": {},
   "outputs": [],
   "source": [
    "li.ut.spatial_neighbors(\n",
    "    adata,\n",
    "    bandwidth=30,\n",
    "    cutoff=0.1,\n",
    "    kernel='gaussian',\n",
    "    set_diag=True,\n",
    "    standardize=True\n",
    ")"
   ]
  },
  {
   "cell_type": "code",
   "execution_count": null,
   "id": "66311aa9-863c-42ed-ade3-417064769b63",
   "metadata": {},
   "outputs": [],
   "source": [
    "adata"
   ]
  },
  {
   "cell_type": "code",
   "execution_count": null,
   "id": "e41e9951-122d-4ea5-a84b-e46776117a0b",
   "metadata": {},
   "outputs": [],
   "source": [
    "# Plot the spatial weights of one spot in our object\n",
    "adata.obs['conn'] = adata.obsp['spatial_connectivities'][0].A.ravel()\n",
    "sc.pl.spatial(adata, color='conn', spot_size=20, size=1.5, frameon=False)"
   ]
  },
  {
   "cell_type": "code",
   "execution_count": null,
   "id": "904dcffd-0004-4819-bdae-4fb7907c3251",
   "metadata": {},
   "outputs": [],
   "source": [
    "import scipy.sparse as sp\n",
    "sp.issparse(adata.X) # true -> adata.X.A exist "
   ]
  },
  {
   "cell_type": "code",
   "execution_count": null,
   "id": "acb5630d-9dc2-4c5f-814b-3b24462c6ad8",
   "metadata": {},
   "outputs": [],
   "source": [
    "# Update X with spatially weighted gene exression\n",
    "adata.X = adata.obsp['spatial_connectivities'].A.dot(adata.X.A)"
   ]
  },
  {
   "cell_type": "code",
   "execution_count": null,
   "id": "294fe4c6-754c-4286-969a-80090a6c0c61",
   "metadata": {},
   "outputs": [],
   "source": [
    "genes = ['CCL22', 'KRT5']\n",
    "\n",
    "sc.pl.spatial(adata, color=genes, size=1.5, spot_size=15, frameon=False, layer='log_norm')\n",
    "sc.pl.spatial(adata, color=genes, size=1.5, spot_size=15,frameon=False)"
   ]
  },
  {
   "cell_type": "code",
   "execution_count": null,
   "id": "089bd150-4b36-4003-9ba4-cd4108bb80b7",
   "metadata": {},
   "outputs": [],
   "source": [
    "net = dc.get_collectri(organism='human', split_complexes=False)\n",
    "net\n",
    "dc.run_ulm(\n",
    "    mat=adata,\n",
    "    net=net,\n",
    "    source='source',\n",
    "    target='target',\n",
    "    weight='weight',\n",
    "    verbose=True,\n",
    "    use_raw=False\n",
    ")"
   ]
  },
  {
   "cell_type": "code",
   "execution_count": null,
   "id": "6ad533e1-3acf-486e-a04c-dc191772eb98",
   "metadata": {},
   "outputs": [],
   "source": [
    "adata.obsm['ulm_estimate']"
   ]
  },
  {
   "cell_type": "code",
   "execution_count": null,
   "id": "92d382b0-3d62-41e2-9179-d9e1aed74542",
   "metadata": {},
   "outputs": [],
   "source": [
    "adata.obsm['collectri_ulm_estimate'] = adata.obsm['ulm_estimate'].copy()\n",
    "adata.obsm['collectri_ulm_pvals'] = adata.obsm['ulm_pvals'].copy()\n",
    "adata"
   ]
  },
  {
   "cell_type": "code",
   "execution_count": null,
   "id": "4ab3c972-062f-4328-a71b-a923d001db99",
   "metadata": {},
   "outputs": [],
   "source": []
  },
  {
   "cell_type": "code",
   "execution_count": null,
   "id": "ae0df6dc-1f0d-44cc-aafc-91332d23f82d",
   "metadata": {},
   "outputs": [],
   "source": [
    "progeny = dc.get_progeny(organism='human', top=500)\n",
    "progeny"
   ]
  },
  {
   "cell_type": "code",
   "execution_count": null,
   "id": "5ca9e95f-7664-4f6b-a4ec-701f3d4e1723",
   "metadata": {},
   "outputs": [],
   "source": [
    "dc.run_mlm(\n",
    "    mat=adata,\n",
    "    net=progeny,\n",
    "    source='source',\n",
    "    target='target',\n",
    "    weight='weight',\n",
    "    verbose=True,\n",
    "    use_raw=False\n",
    ")\n",
    "\n",
    "# Store in new obsm keys\n",
    "adata.obsm['progeny_mlm_estimate'] = adata.obsm['mlm_estimate'].copy()\n",
    "adata.obsm['progeny_mlm_pvals'] = adata.obsm['mlm_pvals'].copy()"
   ]
  },
  {
   "cell_type": "code",
   "execution_count": null,
   "id": "2dc15398-7021-4314-b2ae-22ee8b3e302d",
   "metadata": {},
   "outputs": [],
   "source": [
    "adata.obsm['progeny_mlm_estimate']"
   ]
  },
  {
   "cell_type": "code",
   "execution_count": null,
   "id": "f05e1b83-2a87-4310-9a80-8b3b3fef0547",
   "metadata": {},
   "outputs": [],
   "source": [
    "acts = dc.get_acts(adata, obsm_key='progeny_mlm_estimate')\n",
    "acts"
   ]
  },
  {
   "cell_type": "code",
   "execution_count": null,
   "id": "58f1b1e4-0cb8-4b28-a1f7-d38f8e1c741a",
   "metadata": {},
   "outputs": [],
   "source": [
    "label_order = [\n",
    "    'Pustular KC', 'Terminally diff KC', 'Differentiating KC', 'Basal KC',\n",
    "    'Neutrophilic pustule', 'mLC', 'pDC', 'Lymphoid-CCL19+ niche',\n",
    "    'Fibroblast', 'Inflammatory Fib/Mac', 'Endo/Peri',\n",
    "    'Eccrine gland coil', 'Eccrine gland duct', 'Mast cell', 'Adipocyte'\n",
    "]\n",
    "label_colors = [\n",
    "    '#83e377', '#16db93', '#0db39e', '#048ba8',\n",
    "    '#e40066', '#ffc052', '#3a0ca3', '#f2f230',\n",
    "    '#4cc9f0', '#4361ee', '#f20089',\n",
    "    '#83ad6c', '#506e40', '#a06cd5', '#121e41'\n",
    "]\n",
    "\n",
    "acts.obs['label'] = pd.Categorical(\n",
    "    acts.obs['label'],\n",
    "    categories=label_order,\n",
    "    ordered=True\n",
    ")\n",
    "\n",
    "acts.uns['label_colors'] = label_colors"
   ]
  },
  {
   "cell_type": "code",
   "execution_count": null,
   "id": "c8ac123f-143c-4c2a-8274-4a647d03f42e",
   "metadata": {},
   "outputs": [],
   "source": [
    "sc.pl.spatial(\n",
    "    acts,\n",
    "    color=['JAK-STAT', 'label'],\n",
    "    cmap='RdBu_r',\n",
    "    vcenter=0,\n",
    "    size=1.5, spot_size=30,\n",
    "    frameon=False\n",
    ")\n",
    "sc.pl.violin(\n",
    "    acts,\n",
    "    keys='JAK-STAT',\n",
    "    groupby='label',\n",
    "    rotation=90\n",
    ")"
   ]
  },
  {
   "cell_type": "code",
   "execution_count": null,
   "id": "521f0ca0-ab37-438e-880c-eef72795a02a",
   "metadata": {},
   "outputs": [],
   "source": [
    "sc.pl.spatial(\n",
    "    acts,\n",
    "    color=['JAK-STAT'],\n",
    "    cmap='magma',\n",
    "    vcenter=0,\n",
    "    size=1.5, spot_size=20,\n",
    "    frameon=False, save=\"250501_jak-stat_tissue1.svg\"\n",
    ")\n"
   ]
  },
  {
   "cell_type": "code",
   "execution_count": null,
   "id": "ef39d73b-5735-40ea-aa3a-2be7798b436f",
   "metadata": {},
   "outputs": [],
   "source": [
    "plt.rcParams[\"figure.figsize\"] = [6, 3]"
   ]
  },
  {
   "cell_type": "code",
   "execution_count": null,
   "id": "625c2095-3658-4405-a2f9-8ccb1646e968",
   "metadata": {},
   "outputs": [],
   "source": [
    "sc.pl.violin(\n",
    "    acts,\n",
    "    keys='JAK-STAT',\n",
    "    groupby='label',\n",
    "    rotation=90, save=\"250501_jak-stat_tissue1_violin.svg\"\n",
    ")"
   ]
  },
  {
   "cell_type": "code",
   "execution_count": null,
   "id": "3c1b767d-cea2-4bb3-a108-45fcbeda6f5e",
   "metadata": {},
   "outputs": [],
   "source": []
  },
  {
   "cell_type": "code",
   "execution_count": null,
   "id": "490c5110-32bd-415a-bcc7-7f06cae77a1d",
   "metadata": {
    "scrolled": true
   },
   "outputs": [],
   "source": [
    "msigdb = dc.get_resource('MSigDB')\n",
    "msigdb"
   ]
  },
  {
   "cell_type": "code",
   "execution_count": null,
   "id": "bb911da9-07f9-46ef-97a0-66c7eaba22f2",
   "metadata": {},
   "outputs": [],
   "source": [
    "msigdb['collection'].value_counts()"
   ]
  },
  {
   "cell_type": "code",
   "execution_count": null,
   "id": "03985e78-24e3-4689-a16e-bb01bf643937",
   "metadata": {},
   "outputs": [],
   "source": [
    "# Filter by immunesigdb\n",
    "msigdb = msigdb[msigdb['collection']=='go_biological_process']\n",
    "msigdb"
   ]
  },
  {
   "cell_type": "code",
   "execution_count": null,
   "id": "00cb7bb9-4c15-4e4b-8ba6-79618c81c99b",
   "metadata": {
    "scrolled": true
   },
   "outputs": [],
   "source": [
    "# Remove duplicated entries\n",
    "msigdb = msigdb[~msigdb.duplicated(['geneset', 'genesymbol'])]\n",
    "\n",
    "# Rename\n",
    "msigdb.loc[:, 'geneset'] = [name.split('GOBP_')[1] for name in msigdb['geneset']]\n",
    "\n",
    "msigdb"
   ]
  },
  {
   "cell_type": "code",
   "execution_count": null,
   "id": "2999ca94-4911-4189-a3ec-92e737acbe04",
   "metadata": {},
   "outputs": [],
   "source": [
    "dc.run_ora(\n",
    "    mat=adata,\n",
    "    net=msigdb,\n",
    "    source='geneset',\n",
    "    target='genesymbol',\n",
    "    verbose=True,\n",
    "    use_raw=False\n",
    ")\n",
    "\n",
    "# Store in a different key\n",
    "adata.obsm['msigdb_ora_estimate'] = adata.obsm['ora_estimate'].copy()\n",
    "adata.obsm['msigdb_ora_pvals'] = adata.obsm['ora_pvals'].copy()"
   ]
  },
  {
   "cell_type": "code",
   "execution_count": null,
   "id": "c6e52f4f-1475-4de1-bfe9-99593ff4a116",
   "metadata": {},
   "outputs": [],
   "source": [
    "adata.obsm['msigdb_ora_estimate'].iloc[:, 0:5]"
   ]
  },
  {
   "cell_type": "code",
   "execution_count": null,
   "id": "89e6a761-b27e-4ad8-9b0a-6cc8f152e747",
   "metadata": {},
   "outputs": [],
   "source": [
    "acts = dc.get_acts(adata, obsm_key='msigdb_ora_estimate')\n",
    "\n",
    "# We need to remove inf and set them to the maximum value observed\n",
    "acts_v = acts.X.ravel()\n",
    "max_e = np.nanmax(acts_v[np.isfinite(acts_v)])\n",
    "acts.X[~np.isfinite(acts.X)] = max_e\n",
    "\n",
    "acts"
   ]
  },
  {
   "cell_type": "code",
   "execution_count": null,
   "id": "08697172-e411-4c05-99e5-9410fd04a819",
   "metadata": {},
   "outputs": [],
   "source": [
    "sc.pl.spatial(\n",
    "    acts,\n",
    "    color=['3_UTR_MEDIATED_MRNA_DESTABILIZATION', 'label'],\n",
    "    cmap='RdBu_r',spot_size=20,\n",
    "    size=1.5,\n",
    "    frameon=False\n",
    ")"
   ]
  },
  {
   "cell_type": "code",
   "execution_count": null,
   "id": "1faad1b7-45b6-472b-a879-5c6700af159c",
   "metadata": {},
   "outputs": [],
   "source": [
    "df = dc.rank_sources_groups(acts, groupby='label', reference='rest', method='t-test_overestim_var')\n",
    "df"
   ]
  },
  {
   "cell_type": "code",
   "execution_count": null,
   "id": "fa8b1496-b177-4bba-8f9d-cdd4dbaae7b5",
   "metadata": {},
   "outputs": [],
   "source": [
    "n_top = 5\n",
    "term_markers = df.groupby('group').head(n_top).groupby('group')['names'].apply(lambda x: list(x)).to_dict()\n",
    "term_markers"
   ]
  },
  {
   "cell_type": "code",
   "execution_count": null,
   "id": "8cec1c2a-f302-4e59-aafb-5060178c6a9b",
   "metadata": {},
   "outputs": [],
   "source": [
    "sc.pl.matrixplot(acts, term_markers, 'label', dendrogram=True, standard_scale='var',\n",
    "                 colorbar_title='Z-scaled scores', cmap='viridis', swap_axes=True, save = \"250501.GOBP_spatial.svg\")"
   ]
  },
  {
   "cell_type": "code",
   "execution_count": null,
   "id": "22fbb203-7de0-4a27-8ac6-e12951a5c1e9",
   "metadata": {},
   "outputs": [],
   "source": [
    "sc.set_figure_params(dpi_save=300, dpi=300)"
   ]
  },
  {
   "cell_type": "code",
   "execution_count": null,
   "id": "9155cbf6-c1dc-43c6-813f-4e8bafe0c5ee",
   "metadata": {
    "scrolled": true
   },
   "outputs": [],
   "source": [
    "sc.pl.spatial(\n",
    "    acts,\n",
    "    color=['POSITIVE_REGULATION_OF_INTERLEUKIN_8_PRODUCTION', 'POSITIVE_REGULATION_OF_INTERLEUKIN_6_PRODUCTION', 'IMMUNE_RESPONSE', 'NEUTROPHIL_CHEMOTAXIS', 'T_CELL_ACTIVATION', 'LEUKOCYTE_CELL_CELL_ADHESION', 'MYELOID_DENDRITIC_CELL_CHEMOTAXIS',  'POSITIVE_REGULATION_OF_DENDRITIC_CELL_ANTIGEN_PROCESSING_AND_PRESENTATION', 'label'], \n",
    "    cmap='RdBu_r',spot_size=30, ncols=2,\n",
    "    size=1.5,\n",
    "    frameon=False, save=\"250501_gobp_spatial.svg\"\n",
    ")"
   ]
  },
  {
   "cell_type": "code",
   "execution_count": null,
   "id": "56b883d8-5aab-47e0-a781-c7588411d6f8",
   "metadata": {},
   "outputs": [],
   "source": []
  },
  {
   "cell_type": "code",
   "execution_count": null,
   "id": "9e1a2b48-aa39-48f0-b39f-a55cdcef6fff",
   "metadata": {},
   "outputs": [],
   "source": []
  }
 ],
 "metadata": {
  "kernelspec": {
   "display_name": "commot",
   "language": "python",
   "name": "commot"
  },
  "language_info": {
   "codemirror_mode": {
    "name": "ipython",
    "version": 3
   },
   "file_extension": ".py",
   "mimetype": "text/x-python",
   "name": "python",
   "nbconvert_exporter": "python",
   "pygments_lexer": "ipython3",
   "version": "3.9.19"
  }
 },
 "nbformat": 4,
 "nbformat_minor": 5
}
