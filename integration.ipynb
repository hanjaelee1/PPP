{
 "cells": [
  {
   "cell_type": "markdown",
   "id": "7b0476bf-0c3d-4834-a9f8-0675168f6a91",
   "metadata": {},
   "source": [
    "#integration"
   ]
  },
  {
   "cell_type": "code",
   "execution_count": null,
   "id": "53ff1028-2e1e-4877-a5b5-90c1185342a8",
   "metadata": {},
   "outputs": [],
   "source": [
    "import scanpy as sc, numpy as np, pandas as pd\n",
    "import seaborn as sns\n",
    "from scipy.stats import median_abs_deviation\n",
    "import scvi"
   ]
  },
  {
   "cell_type": "code",
   "execution_count": null,
   "id": "8498079b-b8d6-4600-8f6f-0e3df3d8cf8c",
   "metadata": {},
   "outputs": [],
   "source": [
    "scvi.settings.seed = 0"
   ]
  },
  {
   "cell_type": "code",
   "execution_count": null,
   "id": "9d1a3b3c-f99b-420c-8657-92f3c8829a28",
   "metadata": {},
   "outputs": [],
   "source": [
    "import torch\n",
    "print(torch.cuda.is_available())"
   ]
  },
  {
   "cell_type": "code",
   "execution_count": null,
   "id": "cc26bba2-bcf9-46b5-a372-caaad887a9c2",
   "metadata": {},
   "outputs": [],
   "source": [
    "from matplotlib.pyplot import rc_context\n",
    "from matplotlib import pyplot as plt"
   ]
  },
  {
   "cell_type": "code",
   "execution_count": null,
   "id": "903d389d-e173-4b24-97f8-ee76080d3c25",
   "metadata": {},
   "outputs": [],
   "source": [
    "import os\n",
    "os.environ[\"R_HOME\"] = \"/data/User/revolvefire/miniforge3/envs/rpy_base_240331/lib/R\"\n",
    "os.environ['LD_LIBRARY_PATH'] = \"/data/User/revolvefire/miniforge3/envs/rpy_base_240331/lib/R/bin\""
   ]
  },
  {
   "cell_type": "code",
   "execution_count": null,
   "id": "84b2b8c4-c584-4bf9-a116-44b2e9817893",
   "metadata": {},
   "outputs": [],
   "source": [
    "import anndata2ri\n",
    "import logging"
   ]
  },
  {
   "cell_type": "code",
   "execution_count": null,
   "id": "7ec3f775-e175-43ad-b1e5-5f8910fc2c37",
   "metadata": {},
   "outputs": [],
   "source": [
    "import rpy2.rinterface_lib.callbacks as rcb\n",
    "import rpy2.robjects as ro\n",
    "print(ro.r(\".libPaths()\"))\n",
    "\n",
    "rcb.logger.setLevel(logging.ERROR)\n",
    "ro.pandas2ri.activate()\n",
    "anndata2ri.activate()\n",
    "\n",
    "%load_ext rpy2.ipython"
   ]
  },
  {
   "cell_type": "code",
   "execution_count": null,
   "id": "f33337ac-ee7b-4913-86d2-b3ff724906c9",
   "metadata": {},
   "outputs": [],
   "source": [
    "from time import gmtime, strftime\n",
    "strftime(\"%Y-%m-%d %H:%M:%S\", gmtime())"
   ]
  },
  {
   "cell_type": "code",
   "execution_count": null,
   "id": "0f759ae4-1038-47ed-8b4f-0e932079a485",
   "metadata": {},
   "outputs": [],
   "source": [
    "mainDir = \"/mnt/gmi-l1/_90.User_Data/revolvefire/fastq/PPP_GMI\""
   ]
  },
  {
   "cell_type": "code",
   "execution_count": null,
   "id": "564c6095-bd01-40f2-b564-421beb66a5d9",
   "metadata": {},
   "outputs": [],
   "source": [
    "objectDir = \"/mnt/gmi-l1/_90.User_Data/revolvefire/projects/3.PPP_231118/231128_PPP/scobject/\""
   ]
  },
  {
   "cell_type": "markdown",
   "id": "0d5eba38-a3b0-4a72-83b6-70010f539e5f",
   "metadata": {},
   "source": [
    "## Preprocessing"
   ]
  },
  {
   "cell_type": "code",
   "execution_count": null,
   "id": "88f40d73-5829-4849-be6e-2e14bc42f226",
   "metadata": {},
   "outputs": [],
   "source": [
    "PPP_PL = sc.read_h5ad(objectDir + \"PPP_PL_quality_control_240718_contamfraction0.2.h5ad\")\n",
    "PPP_NPL = sc.read_h5ad(objectDir + \"PPP_NPL_quality_control_240718_contamfraction0.2.h5ad\")\n",
    "PPP_3PL = sc.read_h5ad(objectDir + \"PPP_3PL_quality_control_240718_contamfraction0.4.h5ad\")\n",
    "PPP_3NPL = sc.read_h5ad(objectDir + \"PPP_3NPL_quality_control_240718_contamfraction0.2.h5ad\")\n",
    "Sole_1 = sc.read_h5ad(objectDir + \"Sole_1_quality_control_240718_contamfraction0.2.h5ad\")\n",
    "Sole_2 = sc.read_h5ad(objectDir + \"Sole_2_quality_control_240718_contamfraction0.2.h5ad\")\n",
    "Sole_3 = sc.read_h5ad(objectDir + \"PPP_Control_quality_control_240718_contamfraction0.2.h5ad\")"
   ]
  },
  {
   "cell_type": "code",
   "execution_count": null,
   "id": "b608142a-75cd-483d-acd3-991d44025523",
   "metadata": {},
   "outputs": [],
   "source": [
    "PPP_PL.obs[\"bulk_ident\"] = \"PPP\"\n",
    "PPP_NPL.obs[\"bulk_ident\"] = \"PPP\"\n",
    "PPP_3PL.obs[\"bulk_ident\"] = \"PPP\"\n",
    "PPP_3NPL.obs[\"bulk_ident\"] = \"PPP\"\n",
    "Sole_1.obs[\"bulk_ident\"] = \"HC\"\n",
    "Sole_2.obs[\"bulk_ident\"] = \"HC\"\n",
    "Sole_3.obs[\"bulk_ident\"] = \"HC\""
   ]
  },
  {
   "cell_type": "code",
   "execution_count": null,
   "id": "0601ac11-f5e8-4853-b514-4fc5ec77eecf",
   "metadata": {},
   "outputs": [],
   "source": []
  },
  {
   "cell_type": "code",
   "execution_count": null,
   "id": "1806ef08-457b-410f-986f-d1e46b9beae0",
   "metadata": {},
   "outputs": [],
   "source": [
    "adata =PPP_PL.concatenate(PPP_NPL, PPP_3PL, PPP_3NPL, Sole_1, Sole_2, Sole_3)\n",
    "adata.var_names_make_unique()"
   ]
  },
  {
   "cell_type": "code",
   "execution_count": null,
   "id": "2d8289ac-508a-42f2-a317-006136bcc685",
   "metadata": {},
   "outputs": [],
   "source": [
    "adata"
   ]
  },
  {
   "cell_type": "code",
   "execution_count": null,
   "id": "7f8c7a89-9b75-4f82-ab17-c7d93e951dea",
   "metadata": {},
   "outputs": [],
   "source": [
    "sc.pl.violin(adata, ['n_genes_by_counts', 'total_counts', 'pct_counts_mt'],\n",
    "             jitter=0.4, multi_panel=False, groupby = \"orig.ident\")"
   ]
  },
  {
   "cell_type": "code",
   "execution_count": null,
   "id": "967c98f4-cd52-454e-bdd7-a5156a9d2247",
   "metadata": {},
   "outputs": [],
   "source": [
    "sc.pl.scatter(adata, x='total_counts', y='pct_counts_mt', groups='batch')\n",
    "sc.pl.scatter(adata, x='n_genes_by_counts', y='pct_counts_mt', groups=\"batch\")\n",
    "sc.pl.scatter(adata, x='total_counts', y='n_genes_by_counts')"
   ]
  },
  {
   "cell_type": "code",
   "execution_count": null,
   "id": "38a173c8-bab6-4645-9bee-2e8a1066a3f3",
   "metadata": {},
   "outputs": [],
   "source": [
    "sc.pp.filter_cells(adata, min_genes=500)\n",
    "sc.pp.filter_genes(adata, min_cells=3)"
   ]
  },
  {
   "cell_type": "code",
   "execution_count": null,
   "id": "06c4dafd-c022-4ff1-a7b2-b2f6b9384cbe",
   "metadata": {},
   "outputs": [],
   "source": [
    "adata = adata[adata.obs.total_counts > 2000, :]\n",
    "adata = adata[adata.obs.total_counts < 40000, :]\n",
    "adata = adata[adata.obs.n_genes_by_counts < 6000, :]\n",
    "adata = adata[adata.obs.pct_counts_mt < 5, :]\n",
    "adata = adata[adata.obs.pct_counts_ribo > 5, :]"
   ]
  },
  {
   "cell_type": "code",
   "execution_count": null,
   "id": "206216c0-3223-4ac2-a0b0-f8da6e0822df",
   "metadata": {},
   "outputs": [],
   "source": [
    "sc.pl.violin(adata, ['n_genes_by_counts', 'total_counts', 'pct_counts_mt'],\n",
    "             jitter=0.4, multi_panel=False, groupby = \"orig.ident\")"
   ]
  },
  {
   "cell_type": "code",
   "execution_count": null,
   "id": "010ed089-6c5e-4115-90ed-a6712b5e66b0",
   "metadata": {},
   "outputs": [],
   "source": [
    "cell_cycle_genes = [x.strip() for x in open('regev_lab_cell_cycle_genes.txt')]\n",
    "print(len(cell_cycle_genes))\n",
    "\n",
    "# Split into 2 lists\n",
    "s_genes = cell_cycle_genes[:43]\n",
    "g2m_genes = cell_cycle_genes[43:]\n",
    "\n",
    "cell_cycle_genes = [x for x in cell_cycle_genes if x in adata.var_names]\n",
    "print(len(cell_cycle_genes))"
   ]
  },
  {
   "cell_type": "code",
   "execution_count": null,
   "id": "34c6a432-b0e7-4510-99f6-bf5c6c8c316a",
   "metadata": {},
   "outputs": [],
   "source": [
    "sc.tl.score_genes_cell_cycle(adata, s_genes=s_genes, g2m_genes=g2m_genes)"
   ]
  },
  {
   "cell_type": "code",
   "execution_count": null,
   "id": "cadb8521-8407-4397-bae1-998275e7437c",
   "metadata": {},
   "outputs": [],
   "source": [
    "sc.pl.violin(adata, ['S_score', 'G2M_score'],\n",
    "             jitter=0.4, groupby = 'orig.ident')"
   ]
  },
  {
   "cell_type": "code",
   "execution_count": null,
   "id": "871fe9fd-27c3-4dea-a2b4-709242d14298",
   "metadata": {},
   "outputs": [],
   "source": [
    "adata"
   ]
  },
  {
   "cell_type": "code",
   "execution_count": null,
   "id": "a52b9fea-321d-4e53-9347-b854dda5f752",
   "metadata": {},
   "outputs": [],
   "source": [
    "adata.layers[\"counts\"] = adata.X.copy() \n",
    "\n",
    "sc.pp.normalize_total(adata, target_sum=1e4)\n",
    "sc.pp.log1p(adata)\n",
    "\n",
    "adata.raw = adata "
   ]
  },
  {
   "cell_type": "code",
   "execution_count": null,
   "id": "bd57c0ac-a664-4b53-941e-3a0084d0f15d",
   "metadata": {},
   "outputs": [],
   "source": [
    "adata"
   ]
  },
  {
   "cell_type": "code",
   "execution_count": null,
   "id": "cfcb75fa-7b26-4de4-b61d-d2fb4ba6622e",
   "metadata": {},
   "outputs": [],
   "source": [
    "sc.pp.highly_variable_genes(\n",
    "    adata,\n",
    "    n_top_genes=2000,\n",
    "    layer=\"counts\",\n",
    "    flavor=\"seurat_v3\",\n",
    "    batch_key=\"batch\"\n",
    ")\n",
    "adata\n",
    "adata.var"
   ]
  },
  {
   "cell_type": "code",
   "execution_count": null,
   "id": "d3b68d86-0070-4878-900b-40ca30fc0acf",
   "metadata": {},
   "outputs": [],
   "source": [
    "n_batches = adata.var[\"highly_variable_nbatches\"].value_counts()\n",
    "ax = n_batches.plot(kind=\"bar\")\n",
    "n_batches"
   ]
  },
  {
   "cell_type": "code",
   "execution_count": null,
   "id": "168b82a8-6e38-4404-ba90-bc5868ff75fe",
   "metadata": {},
   "outputs": [],
   "source": [
    "adata_hvg = adata[:, adata.var[\"highly_variable\"]].copy()\n",
    "adata_hvg"
   ]
  },
  {
   "cell_type": "code",
   "execution_count": null,
   "id": "15b2667b-6edf-49fe-af45-6cc8b78cf1f2",
   "metadata": {},
   "outputs": [],
   "source": [
    "adata_scvi = adata_hvg.copy()"
   ]
  },
  {
   "cell_type": "code",
   "execution_count": null,
   "id": "bbfe841b-daeb-4e29-94e9-80ca40ec8a2e",
   "metadata": {},
   "outputs": [],
   "source": [
    "adata_scvi"
   ]
  },
  {
   "cell_type": "markdown",
   "id": "bfe575a8-2515-45af-a496-c17d2d64a297",
   "metadata": {},
   "source": [
    "## scVI training"
   ]
  },
  {
   "cell_type": "code",
   "execution_count": null,
   "id": "20c24ed5-e096-435c-b33a-00bdacbf02c0",
   "metadata": {},
   "outputs": [],
   "source": [
    "scvi.model.SCVI.setup_anndata(adata_scvi,\n",
    "                              layer=\"counts\", batch_key='batch', categorical_covariate_keys=[\"bulk_ident4\"],\n",
    "                             continuous_covariate_keys=['pct_counts_mt', 'pct_counts_ribo', 'total_counts'])                       \n",
    "vae = scvi.model.SCVI(adata_scvi, n_layers=2, n_latent=10, n_hidden=64, gene_likelihood=\"nb\") \n",
    "vae.train(check_val_every_n_epoch=5, early_stopping=True) "
   ]
  },
  {
   "cell_type": "code",
   "execution_count": null,
   "id": "cb02aa39-00bc-457e-8906-b76f1613c865",
   "metadata": {},
   "outputs": [],
   "source": [
    "#vae.save(\"240806.controlincluded.default.seed0.NEWBASE.model\",overwrite=False) "
   ]
  },
  {
   "cell_type": "code",
   "execution_count": null,
   "id": "e4875938-1559-43f2-a73f-e58629bce90c",
   "metadata": {},
   "outputs": [],
   "source": [
    "adata_scvi.obsm[\"X_scVI\"] = vae.get_latent_representation()"
   ]
  },
  {
   "cell_type": "code",
   "execution_count": null,
   "id": "d0a49e90-e522-40b7-b2bb-06f9ca6a6a26",
   "metadata": {
    "tags": []
   },
   "outputs": [],
   "source": [
    "adata_scvi.layers[\"scvi_normalized\"] = vae.get_normalized_expression(\n",
    "    library_size=10e4\n",
    ")\n",
    "adata_scvi"
   ]
  },
  {
   "cell_type": "code",
   "execution_count": null,
   "id": "6398f7ae-78a7-40db-87da-d97bb6453e7e",
   "metadata": {},
   "outputs": [],
   "source": [
    "sc.tl.pca(adata_scvi)\n",
    "sc.pp.neighbors(adata_scvi, n_pcs=30, n_neighbors=20)\n",
    "sc.tl.umap(adata_scvi, min_dist=0.4)"
   ]
  },
  {
   "cell_type": "code",
   "execution_count": null,
   "id": "64416721-2b1b-4d23-bb3f-05b5c6732e31",
   "metadata": {},
   "outputs": [],
   "source": [
    "sc.pl.umap(\n",
    "    adata_scvi,\n",
    "    color=[\"orig.ident\"],\n",
    "    frameon=False,\n",
    ")"
   ]
  },
  {
   "cell_type": "code",
   "execution_count": null,
   "id": "644bee7b-fcdb-4897-8142-3ddb8ab24345",
   "metadata": {},
   "outputs": [],
   "source": [
    "sc.pl.umap(\n",
    "    adata_scvi,\n",
    "    color=['n_genes_by_counts', 'total_counts', 'pct_counts_mt', 'pct_counts_ribo', 'S_score', 'G2M_score'],\n",
    "    ncols=3,\n",
    "    frameon=False,\n",
    ")\n"
   ]
  },
  {
   "cell_type": "code",
   "execution_count": null,
   "id": "71fd5e99-3751-4c53-bbe2-ffcfe0b5afbe",
   "metadata": {},
   "outputs": [],
   "source": []
  },
  {
   "cell_type": "code",
   "execution_count": null,
   "id": "47bc95e1-152a-4b2b-b7f5-453cb3231a70",
   "metadata": {},
   "outputs": [],
   "source": [
    "adata_scvi"
   ]
  },
  {
   "cell_type": "code",
   "execution_count": null,
   "id": "d58c7f02-a1ae-4f0d-82a2-b763c78d6d33",
   "metadata": {},
   "outputs": [],
   "source": [
    "adata.obsm[\"X_scVI\"] = adata_scvi.obsm[\"X_scVI\"]"
   ]
  },
  {
   "cell_type": "code",
   "execution_count": null,
   "id": "719ee720-a4b9-4ff1-be39-ebdc881d5ad3",
   "metadata": {},
   "outputs": [],
   "source": [
    "adata.obsm[\"scvi_normalized\"] = adata_scvi.layers[\"scvi_normalized\"]"
   ]
  },
  {
   "cell_type": "code",
   "execution_count": null,
   "id": "c8125623-35ab-45af-9de8-fae8016add2a",
   "metadata": {},
   "outputs": [],
   "source": []
  },
  {
   "cell_type": "code",
   "execution_count": null,
   "id": "c885bb45-9dc5-428c-983f-38d12728c30f",
   "metadata": {},
   "outputs": [],
   "source": [
    "sc.pp.neighbors(adata, use_rep=\"X_scVI\", n_neighbors=35)\n",
    "sc.tl.umap(adata, min_dist=0.3)\n",
    "\n",
    "sc.pl.umap(\n",
    "    adata,\n",
    "    color=[\"orig.ident\"],\n",
    "    frameon=False,\n",
    ")\n"
   ]
  },
  {
   "cell_type": "code",
   "execution_count": null,
   "id": "e5b3efae-53a6-4721-8486-f8a6fefa531c",
   "metadata": {
    "tags": []
   },
   "outputs": [],
   "source": [
    "sc.tl.leiden(adata, key_added=\"leiden_scVI_0.4\", resolution=0.4)\n",
    "sc.pl.umap(\n",
    "    adata,\n",
    "    color=[\"leiden_scVI_0.4\"],\n",
    "    frameon=False, palette=sc.pl.palettes.default_102, add_outline=True, legend_loc='on data',legend_fontoutline=2,\n",
    ")"
   ]
  },
  {
   "cell_type": "code",
   "execution_count": null,
   "id": "6a51aec5-0da6-464a-a142-05b40ccc17c7",
   "metadata": {},
   "outputs": [],
   "source": []
  },
  {
   "cell_type": "code",
   "execution_count": null,
   "id": "60ae19e1-b05b-4b33-9b7a-a91572d4a656",
   "metadata": {},
   "outputs": [],
   "source": []
  }
 ],
 "metadata": {
  "kernelspec": {
   "display_name": "rpy_base_240331",
   "language": "python",
   "name": "rpy_base_240331"
  },
  "language_info": {
   "codemirror_mode": {
    "name": "ipython",
    "version": 3
   },
   "file_extension": ".py",
   "mimetype": "text/x-python",
   "name": "python",
   "nbconvert_exporter": "python",
   "pygments_lexer": "ipython3",
   "version": "3.11.8"
  }
 },
 "nbformat": 4,
 "nbformat_minor": 5
}
