{
 "cells": [
  {
   "cell_type": "markdown",
   "id": "829d1a9a-d41a-44df-95db-1893e7fcf42c",
   "metadata": {},
   "source": [
    "#deconvolution - lymphoid visualiztion"
   ]
  },
  {
   "cell_type": "code",
   "execution_count": null,
   "id": "279fada8-1c87-4f16-9cb0-fa3275a99e2b",
   "metadata": {
    "scrolled": true
   },
   "outputs": [],
   "source": [
    "library(Seurat)\n",
    "library(ggplot2)\n",
    "library(patchwork)\n",
    "library(dplyr)"
   ]
  },
  {
   "cell_type": "code",
   "execution_count": null,
   "id": "c318e96f-64be-4075-a834-c16a151b87fa",
   "metadata": {},
   "outputs": [],
   "source": []
  },
  {
   "cell_type": "code",
   "execution_count": null,
   "id": "500ff889-555b-4896-bff4-0b71f0e4a077",
   "metadata": {},
   "outputs": [],
   "source": [
    "object <- readRDS(\"./RDS/250520.combined_3.4_visium_label_update_hires.rds\")"
   ]
  },
  {
   "cell_type": "code",
   "execution_count": null,
   "id": "db1de4e5-a775-4ad2-8604-71a775a5b475",
   "metadata": {},
   "outputs": [],
   "source": [
    "object"
   ]
  },
  {
   "cell_type": "code",
   "execution_count": null,
   "id": "7e8fe19e-d163-4706-b1cd-61bf64c85bc0",
   "metadata": {},
   "outputs": [],
   "source": [
    "object <- subset(object, idents = c(\"Neutrophilic pustule\", \"Eccrine gland coil\", \"Adipocyte\", \"Eccrine gland duct\"), invert = TRUE)\n"
   ]
  },
  {
   "cell_type": "code",
   "execution_count": null,
   "id": "c680c47f-78fe-4a63-b8cb-d41420873e11",
   "metadata": {},
   "outputs": [],
   "source": [
    "ref <- readRDS(\"/data/User/revolvefire/projects/3.PPP_231118/231128_PPP/RDS/250416_integrated_total_rawcounts.rds\")"
   ]
  },
  {
   "cell_type": "code",
   "execution_count": null,
   "id": "ae364d28-4d57-4feb-9241-6ea11a6aa16f",
   "metadata": {},
   "outputs": [],
   "source": [
    "ref <- NormalizeData(ref)"
   ]
  },
  {
   "cell_type": "code",
   "execution_count": null,
   "id": "625b1cd2-3b83-4f84-be2b-0da8ea04545c",
   "metadata": {},
   "outputs": [],
   "source": [
    "ref <- FindVariableFeatures(ref)"
   ]
  },
  {
   "cell_type": "code",
   "execution_count": null,
   "id": "442facac-0a48-4362-a972-775e40c4290f",
   "metadata": {
    "scrolled": true
   },
   "outputs": [],
   "source": [
    "Idents(ref) <- \"label2\""
   ]
  },
  {
   "cell_type": "code",
   "execution_count": null,
   "id": "4a7f6a71-6500-440b-9ff3-8e2c618b7e5e",
   "metadata": {},
   "outputs": [],
   "source": [
    "# the annotation is stored in the 'subclass' column of object metadata\n",
    "DimPlot(ref, group.by = \"label2\", label = TRUE)"
   ]
  },
  {
   "cell_type": "code",
   "execution_count": null,
   "id": "1dda9227-3a1d-49c8-99f5-eb1efda8f01c",
   "metadata": {},
   "outputs": [],
   "source": [
    "ref <- subset(ref, idents = c(\"Melanocyte\"), invert = TRUE)"
   ]
  },
  {
   "cell_type": "code",
   "execution_count": null,
   "id": "7b4f3b63-2b63-4074-8258-10ead5febaf0",
   "metadata": {},
   "outputs": [],
   "source": [
    "# the annotation is stored in the 'subclass' column of object metadata\n",
    "DimPlot(ref, group.by = \"label3\", label = TRUE)"
   ]
  },
  {
   "cell_type": "code",
   "execution_count": null,
   "id": "9a225e7d-b8b5-42d0-aeec-568ad4591bef",
   "metadata": {},
   "outputs": [],
   "source": [
    "ref@meta.data$label3 <- as.character(ref@meta.data$label3)\n",
    "ref@meta.data$label3[ref@meta.data$label3 %in% c(\"BK-1\", \"BK-2\", \"BK-3\")] <- \"BK-1-3\"\n",
    "ref@meta.data$label3[ref@meta.data$label3 %in% c(\"SBK-1\", \"SBK-2\")] <- \"SBK-1-2\"\n",
    "ref@meta.data$label3[ref@meta.data$label3 %in% c(\"SBK-3\", \"SBK-4\")] <- \"SBK-3-4\""
   ]
  },
  {
   "cell_type": "code",
   "execution_count": null,
   "id": "3e6da8b3-50d1-4d4f-a6a5-ae25595038cc",
   "metadata": {},
   "outputs": [],
   "source": [
    "ref@meta.data$label3[ref@meta.data$label3 %in% c(\"Superficial FIB\", \"FRC-like FIB\", \"Inf universal FIB\", \"Universal FIB\")] <- \"Fibroblast\""
   ]
  },
  {
   "cell_type": "code",
   "execution_count": null,
   "id": "c3cc01c5-3368-4d71-9cdb-45d875978834",
   "metadata": {
    "scrolled": true
   },
   "outputs": [],
   "source": [
    "anchors <- FindTransferAnchors(reference = ref, query = object, normalization.method=\"LogNormalize\")\n",
    "predictions.assay <- TransferData(anchorset = anchors, refdata = ref$label3, prediction.assay = TRUE,\n",
    "    weight.reduction = object[[\"pca\"]], dims = 1:30)\n",
    "object[[\"predictions\"]] <- predictions.assay"
   ]
  },
  {
   "cell_type": "code",
   "execution_count": null,
   "id": "5599db28-704b-461f-8cd5-2c673a0255c5",
   "metadata": {},
   "outputs": [],
   "source": [
    "row_order <- c(\"BK-1-3\", \"SBK-1-2\", \"SBK-3-4\", \"SBK-5\", \"Th17\", \"CD4em\", \"CD4n\", \"CD8/NK\", \"pDC\", \"mDC\", \"cDC2-2\", \"cDC2-1\", \"Macrophage\", \"Fibroblast\", \"Endothelial\", \"Pericyte\")"
   ]
  },
  {
   "cell_type": "code",
   "execution_count": null,
   "id": "68ee476e-d4a0-4c57-bb15-bb2798a4bcc1",
   "metadata": {},
   "outputs": [],
   "source": [
    "col_order <- c('Basal KC','Differentiating KC','Terminally diff KC','Pustular KC', 'Lymphoid-CCL19+ niche','pDC','a/mDC', 'Inflammatory Fib/Mac','Fibroblast', 'Endo/Peri')"
   ]
  },
  {
   "cell_type": "code",
   "execution_count": null,
   "id": "44484764-d7c4-4bd2-a483-69a639525983",
   "metadata": {},
   "outputs": [],
   "source": [
    "data_matrix <- object@assays[[\"predictions\"]]@data\n",
    "data_matrix <- data_matrix[rownames(data_matrix) != \"max\", ]\n",
    "\n",
    "cell_types <- object$label\n",
    "cell_ids <- colnames(data_matrix)\n",
    "cell_ids_by_type <- split(cell_ids, cell_types[cell_ids])\n",
    "\n",
    "sum_values <- matrix(NA, nrow = nrow(data_matrix), ncol = length(unique(cell_types)))\n",
    "colnames(sum_values) <- unique(cell_types)\n",
    "for (cell_type in unique(cell_types)) {\n",
    "  selected_columns <- cell_ids_by_type[[cell_type]]\n",
    "  sum_values[, cell_type] <- rowSums(data_matrix[, selected_columns, drop = FALSE])\n",
    "}\n",
    "rownames(sum_values) <- rownames(data_matrix)\n",
    "\n",
    "min_max_standarize <- function(x) {\n",
    "  (x - min(x)) / (max(x) - min(x))\n",
    "}\n",
    "\n",
    "data <- t(apply(sum_values, 1, min_max_standarize))\n",
    "data_df <- as.data.frame(data)\n",
    "colnames(data_df) <- colnames(sum_values)\n",
    "rownames(data_df) <- rownames(sum_values)"
   ]
  },
  {
   "cell_type": "code",
   "execution_count": null,
   "id": "b7426b55-3111-4966-83c8-2fbddfe11b05",
   "metadata": {},
   "outputs": [],
   "source": [
    "colnames(sum_values)"
   ]
  },
  {
   "cell_type": "code",
   "execution_count": null,
   "id": "f6be7693-4d91-4551-8838-9eca40feac64",
   "metadata": {},
   "outputs": [],
   "source": [
    "rownames(sum_values)"
   ]
  },
  {
   "cell_type": "code",
   "execution_count": null,
   "id": "c415f576-eca6-4720-9c85-acb4404a2f54",
   "metadata": {},
   "outputs": [],
   "source": [
    "data_df <- data_df[row_order, col_order, drop=FALSE]"
   ]
  },
  {
   "cell_type": "code",
   "execution_count": null,
   "id": "9b29bc96-64ab-4b14-9d14-f10b92097f32",
   "metadata": {},
   "outputs": [],
   "source": [
    "library(pheatmap)\n",
    "library(viridis)"
   ]
  },
  {
   "cell_type": "code",
   "execution_count": null,
   "id": "2818c673-ab0d-45b6-8d4b-c9c9f8d77844",
   "metadata": {},
   "outputs": [],
   "source": [
    "pheatmap(t(data_df), \n",
    "                   color = plasma(300), \n",
    "                   cluster_rows = FALSE, \n",
    "                   cluster_cols = FALSE,\n",
    "                   show_rownames = TRUE,          \n",
    "                   show_colnames = TRUE,\n",
    "                   fontsize = 15,   \n",
    "                   angle_col = \"90\")"
   ]
  },
  {
   "cell_type": "code",
   "execution_count": null,
   "id": "57d0de0a-46bd-4003-a469-8e04883f91bc",
   "metadata": {},
   "outputs": [],
   "source": []
  },
  {
   "cell_type": "code",
   "execution_count": null,
   "id": "cb26a6fd-d426-4bbe-88f6-4e6b3a281102",
   "metadata": {},
   "outputs": [],
   "source": [
    "# Subset for slide1\n",
    "s1 <- subset(object, subset = slide == \"slide1\")\n",
    "\n",
    "# Subset for slide2\n",
    "s2 <- subset(object, subset = slide == \"slide2\")"
   ]
  },
  {
   "cell_type": "code",
   "execution_count": null,
   "id": "f45504fa-a4b3-47ac-abc5-89547444bc51",
   "metadata": {},
   "outputs": [],
   "source": [
    "library(RColorBrewer)"
   ]
  },
  {
   "cell_type": "code",
   "execution_count": null,
   "id": "f7fe4ab7-bcd7-4f47-8f97-b98889ce91fa",
   "metadata": {},
   "outputs": [],
   "source": []
  },
  {
   "cell_type": "code",
   "execution_count": null,
   "id": "2fd5b8e9-400a-4cac-af87-c8b709f8bf0c",
   "metadata": {},
   "outputs": [],
   "source": [
    "DefaultAssay(s1) <- \"predictions\"\n",
    "immune_labels <- c(\"Th17\", \"CD4em\", \"CD4n\", \"CD8/NK\", \"pDC\", \"cDC2-1\", \"cDC2-2\", \"mDC\",  \"Fibroblast\")\n",
    "niche_cells <- WhichCells(s1, expression = label == \"Lymphoid-CCL19+ niche\")\n",
    "scores <- FetchData(s1, vars = immune_labels, layer = \"data\")[niche_cells, ]\n",
    "thresholds <- apply(scores, 2, quantile, probs = 0.8, na.rm = TRUE)\n",
    "\n",
    "for (ct in immune_labels) {\n",
    "  scores[[ct]][scores[[ct]] < thresholds[ct]] <- NA\n",
    "}\n",
    "\n",
    "max_labels <- apply(scores, 1, function(x) {\n",
    "  if (all(is.na(x))) return(NA)\n",
    "  colnames(scores)[which.max(x)]\n",
    "})\n",
    "max_scores <- apply(scores, 1, function(x) ifelse(all(is.na(x)), NA, max(x, na.rm = TRUE)))\n",
    "\n",
    "\n",
    "s1$top_label <- NA\n",
    "s1$score <- NA\n",
    "s1$top_label[niche_cells] <- max_labels\n",
    "s1$score[niche_cells] <- max_scores\n",
    "\n",
    "s1$top_label <- factor(s1$top_label, levels = immune_labels)\n",
    "\n",
    "palette <- c(\n",
    "  \"Th17\"       = \"#EF476F\",\n",
    "  \"CD4em\"      = \"#fb8500\",\n",
    "  \"CD4n\"       = \"#ffd60a\",\n",
    "  \"CD8/NK\"     = \"#91cb3e\",\n",
    "  \"pDC\"        = \"#20bf55\",\n",
    "  \"cDC2-1\"     = \"#00b4d8\",\n",
    "  \"cDC2-2\"     = \"#0077b6\",\n",
    "  \"mDC\"        = \"#8f03ff\",\n",
    "  \"Fibroblast\" = \"#a4b0b4\"\n",
    ")"
   ]
  },
  {
   "cell_type": "code",
   "execution_count": null,
   "id": "ebc420cd-d609-4e33-9a51-9393f09f7783",
   "metadata": {},
   "outputs": [],
   "source": [
    "p <- SpatialPlot(\n",
    "  object = subset(s1, cells = niche_cells),\n",
    "  group.by = \"top_label\",\n",
    "  pt.size.factor = 2.5,\n",
    "  image.scale = \"hires\",\n",
    "  image.alpha = 0.2,\n",
    "  cols = palette\n",
    ") +\n",
    " \n",
    "  theme(\n",
    "    legend.text = element_text(size = 12),\n",
    "    legend.title = element_text(size = 14),\n",
    "    legend.key.size = unit(1.5, \"lines\")\n",
    "  ) +\n",
    "  guides(\n",
    "    fill = guide_legend(override.aes = list(size = 6))  # larger dots in legend\n",
    "  )\n",
    "\n",
    "# Show the plot\n",
    "print(p)"
   ]
  },
  {
   "cell_type": "code",
   "execution_count": null,
   "id": "f62404fd-a200-4c3e-8e9c-1fda3efd8f00",
   "metadata": {},
   "outputs": [],
   "source": [
    "rotate_image <- function(p, rot_angle) {\n",
    "  gt <- ggplot_gtable(ggplot_build(p))\n",
    "  panel_idx <- which(gt$layout$name == \"panel\")\n",
    "  rot_vp <- viewport(angle = rot_angle)\n",
    "  gt[[\"grobs\"]][[panel_idx]] <- editGrob(gt[[\"grobs\"]][[panel_idx]], vp = rot_vp)\n",
    "  p_rot <- ggdraw() + draw_grob(gt)\n",
    "  \n",
    "  return(p_rot)\n",
    "}"
   ]
  },
  {
   "cell_type": "code",
   "execution_count": null,
   "id": "cade1c31-9b7a-4a60-b785-5b12313b66c4",
   "metadata": {},
   "outputs": [],
   "source": [
    "library(cowplot)\n",
    "library(ggplot2)\n",
    "library(grid)"
   ]
  },
  {
   "cell_type": "code",
   "execution_count": null,
   "id": "acef2712-86b1-448c-ac50-1111e4656697",
   "metadata": {},
   "outputs": [],
   "source": [
    "p_rot <- rotate_image(p, 270)"
   ]
  },
  {
   "cell_type": "code",
   "execution_count": null,
   "id": "f13c1f62-89fb-4ee2-960b-e3ba2b6c62bf",
   "metadata": {},
   "outputs": [],
   "source": [
    "p_rot"
   ]
  },
  {
   "cell_type": "code",
   "execution_count": null,
   "id": "6ab9fa75-f660-4b86-a29c-5a8a4e537c56",
   "metadata": {},
   "outputs": [],
   "source": []
  },
  {
   "cell_type": "code",
   "execution_count": null,
   "id": "de4712d1-6caa-431d-b92b-c77f2bc4eb77",
   "metadata": {},
   "outputs": [],
   "source": []
  }
 ],
 "metadata": {
  "kernelspec": {
   "display_name": "R_seurat5_240625",
   "language": "R",
   "name": "r_seurat5_240625"
  },
  "language_info": {
   "codemirror_mode": "r",
   "file_extension": ".r",
   "mimetype": "text/x-r-source",
   "name": "R",
   "pygments_lexer": "r",
   "version": "4.3.3"
  }
 },
 "nbformat": 4,
 "nbformat_minor": 5
}
